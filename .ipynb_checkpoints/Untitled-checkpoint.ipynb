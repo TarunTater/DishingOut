{
 "cells": [
  {
   "cell_type": "code",
   "execution_count": 1,
   "metadata": {
    "collapsed": false
   },
   "outputs": [
    {
     "name": "stderr",
     "output_type": "stream",
     "text": [
      "A newer version of GraphLab Create (v1.9) is available! Your current version is v1.7.1.\n",
      "\n",
      "You can use pip to upgrade the graphlab-create package. For more information see https://dato.com/products/create/upgrade.\n"
     ]
    }
   ],
   "source": [
    "import graphlab as gl"
   ]
  },
  {
   "cell_type": "code",
   "execution_count": 2,
   "metadata": {
    "collapsed": true
   },
   "outputs": [],
   "source": [
    "import json\n",
    "import time\n",
    "import re"
   ]
  },
  {
   "cell_type": "code",
   "execution_count": 3,
   "metadata": {
    "collapsed": false
   },
   "outputs": [
    {
     "name": "stdout",
     "output_type": "stream",
     "text": [
      "100\n",
      "200\n",
      "300\n",
      "400\n",
      "500\n",
      "600\n",
      "700\n",
      "800\n",
      "900\n",
      "1000\n",
      "1100\n",
      "1200\n",
      "1300\n",
      "1400\n",
      "1500\n",
      "1600\n",
      "1700\n",
      "1800\n",
      "1900\n",
      "2000\n",
      "2100\n",
      "2200\n",
      "2300\n",
      "2400\n",
      "2500\n",
      "2600\n",
      "2700\n",
      "2800\n",
      "2900\n",
      "3000\n",
      "3100\n",
      "3200\n",
      "3300\n",
      "3400\n",
      "3500\n",
      "3600\n",
      "3700\n",
      "3800\n",
      "3900\n",
      "4000\n",
      "4100\n",
      "4200\n",
      "4300\n",
      "4400\n",
      "4500\n",
      "4600\n",
      "4700\n",
      "4800\n",
      "4900\n",
      "5000\n",
      "5100\n",
      "5200\n",
      "5300\n",
      "5400\n",
      "5500\n",
      "5600\n",
      "5700\n",
      "5800\n",
      "5900\n",
      "6000\n",
      "6100\n",
      "6200\n",
      "6300\n",
      "6400\n",
      "6500\n",
      "6600\n",
      "6700\n",
      "6800\n",
      "6900\n",
      "7000\n",
      "7100\n",
      "7200\n",
      "7300\n",
      "7400\n",
      "7500\n",
      "7600\n",
      "7700\n"
     ]
    }
   ],
   "source": [
    "with open(\"final_data.json\",\"r\") as f:\n",
    "    data = json.load(f)\n",
    "d = {}\n",
    "for restaurant in data:\n",
    "    reviews = restaurant[\"userReviews\"]\n",
    "    for review in reviews:\n",
    "            d[review[\"user_id\"]] = {}\n",
    "\n",
    "i = 0\n",
    "for restaurant in data:\n",
    "    i = i + 1\n",
    "    reviews = restaurant[\"userReviews\"]\n",
    "    dishes = restaurant[\"dishes\"]\n",
    "    if(i%100 == 0):\n",
    "        print i\n",
    "    for dish in dishes.keys():\n",
    "        for review in reviews:\n",
    "            userReview = review[\"reviewText\"]\n",
    "\n",
    "            for eachDishReview in dishes[dish]:\n",
    "                if(eachDishReview in userReview):\n",
    "                    try:\n",
    "                        d[review[\"user_id\"]][dish].append(eachDishReview)\n",
    "                    except:\n",
    "                        d[review[\"user_id\"]][dish]=[]\n",
    "                        d[review[\"user_id\"]][dish].append(eachDishReview)\n"
   ]
  },
  {
   "cell_type": "code",
   "execution_count": 92,
   "metadata": {
    "collapsed": false
   },
   "outputs": [
    {
     "name": "stdout",
     "output_type": "stream",
     "text": [
      "{u'userName': u'Dina Shrestha', u'rating': 1, u'foodie_color': u'f58552', u'rating_5': u'1.0000', u'user_id': u'1048504', u'foodie_level': u'Super Foodie', u'timestamp': 1408457699, u'reviewText': u\"This particular franchise deserves no rating. I am writing this review as this is the only place where I can express my opinion about how horrible this place and the service is. The man handed me a small size franking when I had ordered him a large chicken Frankie. He thought I was eating Frankie for the first time. he was so rude and god knows if the owner of the place even checks how this place is operating. The man was so sly, just keeping the gravy of the chicken and about 2 or three chicken pieces only. Being a reputed franchise if&nbsp;they do like this then, they should go&nbsp;learn to make rolls one get in Delhi and Noida with huge stuffing for the same price. And the bitter truth is that they taste better, is the same price, and is more filling. Also, they don't cheat like how they do in this place and do not serve burnt roti also.\", u'id': u'2450561', u'ratingColor': u'CB202D', u'reviewTimeFriendly': u'Aug 19, 2014', u'reviewTime': u'2014-08-19 19:44:59', u'thumb': u'https://c.zmtcdn.com/data/user_profile_pictures/204/dc504b3facef8dd60c0db7da1274f204_200_thumb.jpg'}\n"
     ]
    }
   ],
   "source": [
    "# print d[review[\"user_id\"]]\n",
    "print review\n",
    "# print d[review[\"user_id\"]]['paan']"
   ]
  },
  {
   "cell_type": "code",
   "execution_count": 96,
   "metadata": {
    "collapsed": false
   },
   "outputs": [],
   "source": [
    "with open('userJson.json', 'w') as f:\n",
    "    json.dump(d,f,indent=True)"
   ]
  },
  {
   "cell_type": "code",
   "execution_count": 95,
   "metadata": {
    "collapsed": false
   },
   "outputs": [
    {
     "data": {
      "text/plain": [
       "{u'appetizer': [u'The customer can choose a soup or an appetizer or a salad for the starter and a separate main course.'],\n",
       " u'biryani': [u\"The 'chicken biryani' was really simple but rich flavour to the right amount.\",\n",
       "  u'This is a place one can go to have really spicy biryani.',\n",
       "  u'The biryani gets finished soon so one has to go early.',\n",
       "  u'In the main course I just had the chicken biryani and the raita.',\n",
       "  u'I think only the biryani and raita are worth mentioning which were average amongst all the dishes.',\n",
       "  u'But what was the best part in the main course is their chicken biryani and their signature &ldquo;kava Dal&rdquo;.',\n",
       "  u'I had to wait for 1 hour for my chicken biryani to be served after my starter.',\n",
       "  u'This is a very sad Biryani Place.',\n",
       "  u'I ordered for a chicken Biryani.',\n",
       "  u'But just like the sad deserted ambiance of the place, so was the biryani.',\n",
       "  u\"I didn't like the curry and raita both which was served along with the biryani.\",\n",
       "  u'The worst kind of biryani to eat while living in South India.'],\n",
       " u'brownie': [u'Sometimes the brownie is stale, sometimes there is a hair in the takeaway pasta.'],\n",
       " u'burger': [u'I had a problem with the southern chicken burger which was really oily and lacked the taste.',\n",
       "  u'The other dish was The Blue Cheese Burger.',\n",
       "  u\"The burger was juicy and greasy but I just couldn't get a taste of the blue cheese.\",\n",
       "  u'The burger is served with a poached egg.',\n",
       "  u'We ordered a Chicken Cacciatore with rice, Steak with cheese burger and lime soda.',\n",
       "  u'The stake with cheese burger was amazing.',\n",
       "  u'If you want to try a messy burger, you should definitely try this one.',\n",
       "  u'They served me the burger after an hour which was literally burnt.',\n",
       "  u'So I complained this to the other staff who got it replaced but what a horrible and tasteless burger it was.',\n",
       "  u'I have been to this place so many times but then this one time they served such a horrible supreme chicken burger and chicken spaghetti bolognaise that I just stopped going to this place.',\n",
       "  u'They also have the live counter for the chats and also another live counter for the burgers and pastas.',\n",
       "  u'They also served us with Chicken Burger.',\n",
       "  u'This is one of the juiciest burgers ever in town.',\n",
       "  u'In the starters, we ordered a chicken open burger.',\n",
       "  u'The chicken burger served with french fries was really juicy and tasty.',\n",
       "  u'I am usually not a big fan of burgers but I loved this one.'],\n",
       " u'burgers': [u'They also have the live counter for the chats and also another live counter for the burgers and pastas.',\n",
       "  u'This is one of the juiciest burgers ever in town.',\n",
       "  u'I am usually not a big fan of burgers but I loved this one.'],\n",
       " u'cake': [u'But then the cupcakes are amazing.',\n",
       "  u'My favourite is the Red Velvet Cupcake.',\n",
       "  u'Yes, the prices are a bit high but the cake makes up for the price.',\n",
       "  u'I also like the blueberry cheese cake.',\n",
       "  u'And yes I also ordered a red velvet cake for my birthday.',\n",
       "  u'I also loved the Fruit cake, which was really fresh and with a different taste.',\n",
       "  u'The cakes here are okay okay.'],\n",
       " u'caramel': [u'They do serve many complementary dishes like pickled bamboo-shoot, fried spinach, potato in caramelized soya sauce, kimchi, vegetable tempura and many more items.',\n",
       "  u\"The salted caramel is a try for even people who don't like caramel.\"],\n",
       " u'chai': [u'We had to wait for more than an hour to get a table and when we did, we got like the worst seating with the huge chairs right in the entrance.',\n",
       "  u'The chairs are green which are really comfortable with matching glasses.',\n",
       "  u'The chairs are not comfortable for people who are fat as the seat goes down once one sits.',\n",
       "  u\"I had to change my table thrice as my friend couldn't sit on the chair which didn't fit him .\",\n",
       "  u'This is a very small outlet in Kormangala with very few chairs to sit inside.',\n",
       "  u'I love the King size sofa chairs that they have.',\n",
       "  u'I really like the whole ambiance, with all wooden chairs and tables.',\n",
       "  u'Thankfully, they do have few chairs so that one can sit an eat.'],\n",
       " u'chicken': [u'I also tried the slow roasted chicken steak which was delicious.',\n",
       "  u'I had a problem with the southern chicken burger which was really oily and lacked the taste.',\n",
       "  u'It is buttery and spicy and goes well with the chicken and the red onions.',\n",
       "  u'We also ordered fried chicken in oyster sauce.',\n",
       "  u'There is a fixed price for veg, chicken and meat/seafood.',\n",
       "  u\"'Go Chung Chang' was a chicken starter made in Korean sauce and was juicy and yum.\",\n",
       "  u\"For the main course, we had the 'Loft style chicken', which is the chicken leg marinated with jerk spice and it is served with aubergine caviar (bengan ka barta in simple terms) and salsa.\",\n",
       "  u\"The 'chicken biryani' was really simple but rich flavour to the right amount.\",\n",
       "  u'The chicken wings was okay, nothing great.',\n",
       "  u'We had ordered Chicken Rara.',\n",
       "  u'The chicken was like boiled chicken thrown into a gravy and served with raw onion pieces on top for a good presentation.',\n",
       "  u\"We ordered farmer's greek salad and portland chicken wings for the starters.\",\n",
       "  u'The chicken wings was okay, nothing great with a sweet sauce.',\n",
       "  u'For the main course, we all ordered chicken lasagna, chicken parmigiana and silver dollar steak.',\n",
       "  u'the chicken lasgna was created with juicy chicken and layers of cheese.',\n",
       "  u'The chicken parmigiana is another grilled chicken served in a thick tomato gravy.',\n",
       "  u'I really love their chicken chilly, chicken mirchiwala and the chicken tikka masala.',\n",
       "  u'The holy smoke hot dog(chicken) was okay.',\n",
       "  u'The sitting bull was tasty with the chicken and bacon fried properly and the moment you take a bite you realize how perfectly fried it is,neither more nor less.',\n",
       "  u'We had ordered the spinach chicken.',\n",
       "  u'The chicken pieces were so bad that it just had bones and nothing else.',\n",
       "  u'We ordered a Chicken Cacciatore with rice, Steak with cheese burger and lime soda.',\n",
       "  u'The Chicken Cacciatore was in a tomato base, neither bland nor spicy.',\n",
       "  u'It was rice served with chicken and mushrooms cooked in thick tomato gravy.',\n",
       "  u\"I don't know what happened to me and I know this is not the place to eat chicken fried rice, but for some reasons I ordered it and it obviously was bad.\",\n",
       "  u'The special handi chicken was also delicious.',\n",
       "  u'The best dish in this place is the Kkan pung gi which is fried chicken in sweet and sour chicken.',\n",
       "  u'It is tender chicken cooked perfectly with the right balance of both the sweetness and the sourness.',\n",
       "  u'The starters had chicken, fish and prawns which were really bland.',\n",
       "  u'In the main course I just had the chicken biryani and the raita.',\n",
       "  u'Nice place to enjoy a spicy grilled chicken.',\n",
       "  u'Nice place to enjoy a spicy grilled chicken.',\n",
       "  u'The chicken bhuna kebab is so tender with the right amount of spices.',\n",
       "  u'The chicken wings was sweet and spicy.',\n",
       "  u'The chicken was juicy and tender, citrus juice and the mashed potato helped balance the bitter taste of the beer.',\n",
       "  u'I have been to this place so many times but then this one time they served such a horrible supreme chicken burger and chicken spaghetti bolognaise that I just stopped going to this place.',\n",
       "  u\"We had ordered the chicken le roy which I didn't like.\",\n",
       "  u'The chicken breast stuffed with the saffron, spinach and cheese was good but then the sauce was just not nice.',\n",
       "  u'Overall a decent place excluding the chicken le roy.',\n",
       "  u'The Apollo chicken was delicious.',\n",
       "  u'The moment the chicken goes in the mouth , you can get all the right flavours.',\n",
       "  u'It was just perfect and actually one of the best chicken I had in my life.',\n",
       "  u'But the chicken was so delicious that it overpowered the pizza.',\n",
       "  u'I loved the lemon grass chicken which I had ordered when I had gone there the first time.',\n",
       "  u'I loved the assorted diced chicken with assorted pepper and ginger which was really tasty.',\n",
       "  u'It was juicy and the chicken was cooked perfectly.',\n",
       "  u'In the main course even though the gravy of the Tsing Hoi chicken which was sweet but good.',\n",
       "  u'Their chicken tikka was so juicy and well-marinated.',\n",
       "  u'But what was the best part in the main course is their chicken biryani and their signature &ldquo;kava Dal&rdquo;.',\n",
       "  u'They also served us with Chicken Burger.',\n",
       "  u'The Chicken patty was juicy and had so many flavours.',\n",
       "  u'The grilled chicken breast with Caribbean sauce is worth a try.',\n",
       "  u'The cilantro chicken is mouth-watering.',\n",
       "  u'Baida Roti was nothing great, a very simple toasted roll with the chicken and egg stuffing.',\n",
       "  u'The dish was a noodle in thick gravy with chicken and egg.',\n",
       "  u'I just felt there were very few chicken pieces, that is the only complain I have about this dish.',\n",
       "  u'But the chicken here is good.',\n",
       "  u'I like the chilli sausages, mashed potatoes, chicken and cheese sandwiches.',\n",
       "  u'In the starters, we ordered a chicken open burger.',\n",
       "  u'In the main course, I ordered a mandarin chilli chicken and hakka noodles.',\n",
       "  u'The chilli chicken was thankfully juicy.',\n",
       "  u'I ordered for a chicken sandwich, which was decent but nothing great.',\n",
       "  u'I had to wait for 1 hour for my chicken biryani to be served after my starter.',\n",
       "  u'The chicken burger served with french fries was really juicy and tasty.',\n",
       "  u'I tried the Stuffed chicken breast and Arabiata.',\n",
       "  u'The chicken was really tangy, sour and spicy with all the flavor in the right amount.',\n",
       "  u'I have tried here mattar chicken and the chicken curry which is okay and is worth the price they charge.',\n",
       "  u'But my friend who is a vegetarian found a bit of chicken in his Chappati.',\n",
       "  u'I also liked the chicken mayo sandwich.',\n",
       "  u'The chicken keema inside the momo is like plain chicken which is just boiled, without no momo spices at all.',\n",
       "  u\"It's just plain chicken boiled and stuffed.\",\n",
       "  u'Chicken tandoori is supposed to be grilled but then seems like this place fries it as it was so oily.',\n",
       "  u\"They didn't have the chicken ham sub, so we were given chicken tikka sub.\",\n",
       "  u'The place serves mouth watering chicken dishes.',\n",
       "  u'I like the pepper chicken and Hunan chicken of this place.',\n",
       "  u'I ordered for a chicken Biryani.',\n",
       "  u'I was there on a Wednesday, and roasted chicken is the sub of the day for Wednesday.',\n",
       "  u\"And if you don't like sweet chicken, do not try the thai chicken roast roll.\",\n",
       "  u'Whether its chicken kadhai or any kind of chicken, they serve the same gravy which is just distasteful.',\n",
       "  u'The man handed me a small size franking when I had ordered him a large chicken Frankie.',\n",
       "  u'The man was so sly, just keeping the gravy of the chicken and about 2 or three chicken pieces only.'],\n",
       " u'chicken biryani': [u\"The 'chicken biryani' was really simple but rich flavour to the right amount.\",\n",
       "  u'In the main course I just had the chicken biryani and the raita.',\n",
       "  u'But what was the best part in the main course is their chicken biryani and their signature &ldquo;kava Dal&rdquo;.',\n",
       "  u'I had to wait for 1 hour for my chicken biryani to be served after my starter.',\n",
       "  u'I ordered for a chicken Biryani.'],\n",
       " u'chicken fried rice': [u\"I don't know what happened to me and I know this is not the place to eat chicken fried rice, but for some reasons I ordered it and it obviously was bad.\"],\n",
       " u'chip': [u'We ordered a Chip of the old cluck.',\n",
       "  u'This is the first time I was eating an omelette with hot chips as the base.',\n",
       "  u'It is really creative dish and should be a hit among the chips lovers.'],\n",
       " u'chips': [u'This is the first time I was eating an omelette with hot chips as the base.',\n",
       "  u'It is really creative dish and should be a hit among the chips lovers.'],\n",
       " u'chocolate': [u'For the dessert, we were served a two layers of chocolate ganache over a black and white chocolate pastry.',\n",
       "  u'The white chocolate is sandwiched between the dark chocolate and is so smooth and is definitely a dish for the devil inside all of us.',\n",
       "  u'Along with this, we were also served a some coconut chocolate ball.',\n",
       "  u\"I don't exactly know what it is called, but it was a puddle of chocolate between the spongy layer of coconut.\",\n",
       "  u'Their chocolate and almond pastry is so rich, soft and is a must try.',\n",
       "  u'I love the double glazed chocolate doughnut.',\n",
       "  u'The Hazelnut Chocolate frozen ice-cream was also delicious but when it comes to yogurt I like fruit based.',\n",
       "  u\"With the hazelnut chocolate yogurt you can add toppings and try it but with the fruit based, I don't like any toppings.\"],\n",
       " u'chole bhature': [u'The chole bhature here is amazing.',\n",
       "  u'The chole bhatures are one of the worst one can eat in their entire life.'],\n",
       " u'chutney': [u'The prawn cooked in an Indian style and served with the sweet green chutney is a big No No.',\n",
       "  u'He suggested this one but the dressing was a thick sweet chutney with red chilly and lime.',\n",
       "  u'The Special Vada Pav is yummy has a nice kind of chutney with cashew nuts.',\n",
       "  u\"They don't serve sambar with the dosa but then the chutney they serve is really good.\",\n",
       "  u'So, I always tell them not to keep the sweet chutney and yet they always forget.'],\n",
       " u'coffee': [u'but it was so sweet that the coffee was just not drinkable so we had to throw it as it was bad as well as too sweet for my taste.',\n",
       "  u\"The coffees here are the best but it's decent.\",\n",
       "  u'For the price they charge, they serve teas and coffees accordingly.',\n",
       "  u'We ordered a coffee and two grilled vegetable cheese sandwich.',\n",
       "  u'First the coffee was pathetic.',\n",
       "  u'I think this is one of the worst Costa coffee outlet.',\n",
       "  u'They serve horrible coffees for sure.',\n",
       "  u'And the funniest part is they give sugar pouches to add in the cold coffee.',\n",
       "  u'It easy for sugar to dissolve in hot coffee but not in cold.',\n",
       "  u'I know it sounds harsh but because of outlets like these the standards of Costa coffee is just going down and down.',\n",
       "  u'I guess people just bend in the name of quality coffees as we people can do nothing but just go to what is available.'],\n",
       " u'curry': [u'This was pad thai cooked with lamb in a red curry.',\n",
       "  u'The fish in the tomato curry was like the ones in Goa and I really loved it.',\n",
       "  u'I have tried here mattar chicken and the chicken curry which is okay and is worth the price they charge.',\n",
       "  u\"I didn't like the curry and raita both which was served along with the biryani.\",\n",
       "  u'If this is what people want then just cook a curry and not momo.'],\n",
       " u'dal': [u'So I was just left to eat rice with the yellow dal and some vegetable.',\n",
       "  u'But what was the best part in the main course is their chicken biryani and their signature &ldquo;kava Dal&rdquo;.',\n",
       "  u'The Kava dal is actually a dal makhani but then I must say that they serve the best &ldquo;Dal Makhani&rdquo; in the whole of Bangalore.',\n",
       "  u'The dal is creamy, buttery, thick and so delicious.',\n",
       "  u'The dal is either tasteless or with too much of masala and the taste of the masala is really weird.',\n",
       "  u'I have been here three or four times as this is the only place one can go where there is a huge traffic in the Graphit signal and the Kundalahalli gate.'],\n",
       " u'dal makhani': [u'The Kava dal is actually a dal makhani but then I must say that they serve the best &ldquo;Dal Makhani&rdquo; in the whole of Bangalore.'],\n",
       " u'desert': [u'But just like the sad deserted ambiance of the place, so was the biryani.'],\n",
       " u'dessert': [u'I loved the last two in the desserts.',\n",
       "  u'In desserts, they had about 4-5 options which looked okay but then when you taste it you realize how awful and unpalatable they are.',\n",
       "  u'For the dessert, we were served a two layers of chocolate ganache over a black and white chocolate pastry.',\n",
       "  u'The dessert was just delicious and devilishly divine.',\n",
       "  u'In the dessert section, they have pastries, tart but they also serve the Indian sweets.'],\n",
       " u'dosa': [u'I decided to try the masala dosa and idli.',\n",
       "  u'The dosa was okay, nothing great but will surely be a hit among people who really love loads of ghee on the dosa.',\n",
       "  u'I have never liked Dosas but then my views changed about dosas once I tried this place.',\n",
       "  u\"This place doesn't have a place to sit and eat but then for the dosas they serve I don't think anyone would mind standing and eating also.\",\n",
       "  u\"They don't serve sambar with the dosa but then the chutney they serve is really good.\",\n",
       "  u'I finally managed to try the cheese schezwan mysore masala dosa and I was just shocked.',\n",
       "  u\"People who don't like dosa will have a different view once they try this place.\",\n",
       "  u\"I simply love the dosas here and for the price and the food they serve, I don't think if anyone can ever have a bad review for this place.\",\n",
       "  u'The dosas, idlis and vadas are good.',\n",
       "  u'I know this is not a place for sandwich but then I was in no mood to eat dosa.'],\n",
       " u'drink': [u'They have a huge list of drinks and the price is darn good too.',\n",
       "  u'If you like your drinks a bit harder then they make good cocktails as well.',\n",
       "  u'For the drinks, we ordered a lime and ginger juice which is extremely good for health.',\n",
       "  u'Also, the drinks came way too late, almost when we were done with our food.',\n",
       "  u\"People who don't like sweet drinks can try this one for sure.\",\n",
       "  u'We ordered Ice tea, tornado twist and portland cream for the drinks.',\n",
       "  u'In the drinks, we ordered a Summer fantasia and Bangalore Ocean.',\n",
       "  u'They do serve the drinks in huge glasses so one does feel it is worth the price.',\n",
       "  u'but it was so sweet that the coffee was just not drinkable so we had to throw it as it was bad as well as too sweet for my taste.',\n",
       "  u\"This place just has a nice pool where one can enjoy drink and that's it.\",\n",
       "  u'The bar is huge and has a huge variety in the drinks section.',\n",
       "  u'I could enjoy the cool breeze of Bangalore while enjoying my food and drink in the smoking section.',\n",
       "  u'For the drinks, we ordered a whisky sour which is a classic drink and requires no description at all.',\n",
       "  u'They also have a wide range of drinks and should be a hit with cocktail lovers.',\n",
       "  u'If one loves trying new cocktails, then they can try the chilly masala drink.',\n",
       "  u'The drink actually has pieces of chilly and masala.',\n",
       "  u'The drink is actually spicy and had cucumbers to munch on when their tongue burns.',\n",
       "  u'It is a good place to drink beer with a bunch of friends but this is not a place to go out on a date or alone to enjoy a bottle of beer.',\n",
       "  u'definitely ignore this as you get unlimited soft drinks at this place.',\n",
       "  u'PS: they give free drinks once in a while (heard it from a colleague)',\n",
       "  u'We ordered for a Lemon Mojito and Twisted berry tea in drinks.'],\n",
       " u'fish': [u'I ordered a frilled fish with south east Asian dressing, as I had asked the person serving us.',\n",
       "  u\"The fish was well cooked and cut properly but hated the dressing, which is a big NO for anyone who can't eat sweet food.\",\n",
       "  u'We had ordered fish fingers, which was nice for a person who is not a big fan of fish.',\n",
       "  u'This is the dish for people who loves sea weed as it is just like tuna but only the difference it has the sea weed instead of the fish.',\n",
       "  u\"And even in beer, they just have kingfisher draught beer and that's it.\",\n",
       "  u'The starters had chicken, fish and prawns which were really bland.',\n",
       "  u'There was fish also but then I am not that big of a fish fan.',\n",
       "  u'The fish in the tomato curry was like the ones in Goa and I really loved it.'],\n",
       " u'frankie': [u'The man handed me a small size franking when I had ordered him a large chicken Frankie.',\n",
       "  u'He thought I was eating Frankie for the first time.'],\n",
       " u'fried rice': [u\"I don't know what happened to me and I know this is not the place to eat chicken fried rice, but for some reasons I ordered it and it obviously was bad.\",\n",
       "  u'Then we ordered Kimchi fried rice.',\n",
       "  u\"Korean food is usually for people with acquired taste-bud but even people who don't like the kimchi can try this as the fried rice balances the taste of the kimchi and it is not that sour.\",\n",
       "  u'I judge a Chinese eatery by its fried rice and this place had definitely got it right.',\n",
       "  u'I liked the lamb but then the fried rice was really oily.'],\n",
       " u'hazelnut': [u'The Hazelnut Chocolate frozen ice-cream was also delicious but when it comes to yogurt I like fruit based.',\n",
       "  u\"With the hazelnut chocolate yogurt you can add toppings and try it but with the fruit based, I don't like any toppings.\"],\n",
       " u'ice-cream': [u'We all tried the Total benge waffles which is served with ice-cream, whipped cream and any sauce.',\n",
       "  u'The waffles cones are fresh and crunchy, the ice-cream good.',\n",
       "  u'What I really liked about the ice-cream is that it is natural with nothing additional additives.',\n",
       "  u'The place offers ice-cream from natural fruit extracts which is the best part and the ice-cream is so delicious and refreshing.',\n",
       "  u'They have ice-creams flavor available depending on the seasonal availability.',\n",
       "  u'The ice-creams here are to die for especially the tender coconut.',\n",
       "  u'The Hazelnut Chocolate frozen ice-cream was also delicious but when it comes to yogurt I like fruit based.',\n",
       "  u'It is one of the best places to eat ice-cream.',\n",
       "  u'They have a range of flavor of ice-creams available.',\n",
       "  u'The ice-cream is cold, refreshing and yummy.',\n",
       "  u'Also, the place looks clean and obviously the lovely colorful colors will drive any person to try the ice-cream.'],\n",
       " u'idli': [u'I decided to try the masala dosa and idli.',\n",
       "  u'The dosas, idlis and vadas are good.',\n",
       "  u'I am not a big fan of South Indian food but then I liked the chilly idli of this place.',\n",
       "  u'I have always hated idli but with all the spices the chilly idli was actually tasty.'],\n",
       " u'juice': [u'For the drinks, we ordered a lime and ginger juice which is extremely good for health.',\n",
       "  u'We also ordered carrot juice, watermelon juice and strawberry smoothie criminal.',\n",
       "  u'I would saw I only like the lime and ginger juice but then we had to order it again as the glass they serve is really small.',\n",
       "  u'The juice is served in a very small glass and I think they should give it a thought.',\n",
       "  u'The beef was not rubbery and was cooked perfectly which had all the spicy juice.',\n",
       "  u'The chicken was juicy and tender, citrus juice and the mashed potato helped balance the bitter taste of the beer.'],\n",
       " u'kebab': [u\"'Mutton Shammi kebab' is one of their specialty, the minced mutton is cooked in egg dressing.\",\n",
       "  u'The chicken bhuna kebab is so tender with the right amount of spices.',\n",
       "  u'I tried their signature dish, mutton sheek kebab which was really delicious.',\n",
       "  u'We ordered a Murgh Achari Kebab.'],\n",
       " u'kulcha': [u'I also liked the onion kulchas which was spicy and so Indian I would say.'],\n",
       " u'lasagna': [u'I got to try new lasagna bolognese, with a south Indian touch.',\n",
       "  u'For the main course, we all ordered chicken lasagna, chicken parmigiana and silver dollar steak.'],\n",
       " u'main course': [u'the main course was way too sweet, in spite of specifically asking for a non sweet spicy dish.',\n",
       "  u'In the main course, we ordered a vegetable thai chilly garlic noodles.',\n",
       "  u'The customer can choose a soup or an appetizer or a salad for the starter and a separate main course.',\n",
       "  u\"For the main course, we had the 'Loft style chicken', which is the chicken leg marinated with jerk spice and it is served with aubergine caviar (bengan ka barta in simple terms) and salsa.\",\n",
       "  u'The staff served us the main course first and then the starter later.',\n",
       "  u\"Thank God I didn't order any starters else the main course which was so bad would have gone to a total waste.\",\n",
       "  u'For the main course, we all ordered chicken lasagna, chicken parmigiana and silver dollar steak.',\n",
       "  u'In the main course I just had the chicken biryani and the raita.',\n",
       "  u'In the main course even though the gravy of the Tsing Hoi chicken which was sweet but good.',\n",
       "  u'But what was the best part in the main course is their chicken biryani and their signature &ldquo;kava Dal&rdquo;.',\n",
       "  u'In the main course, I ordered a mandarin chilli chicken and hakka noodles.',\n",
       "  u'Then we ordered a Raara Ghosht for the main course along with garlic Naan and tandoori roti.'],\n",
       " u'mango': [u'The green mango salad is yummy with a taste of both sweet and sour.'],\n",
       " u'masala dosa': [u'I decided to try the masala dosa and idli.',\n",
       "  u'I finally managed to try the cheese schezwan mysore masala dosa and I was just shocked.'],\n",
       " u'mexican': [u'The classic social hot dog with Mexican chilly lamb was amazing and yummy.',\n",
       "  u'This dish will go well with the people who love Mexican and Indian street food cause I loved it.'],\n",
       " u'momo': [u\"I don't know what people like about this place but it surely is just a decent momo place only, nothing great at all.\",\n",
       "  u'This place is too overpriced for the quality of momo they serve.',\n",
       "  u'Of course, they do have a wide range of momo dishes available, but then the momo is not at all tasty.',\n",
       "  u'The chicken keema inside the momo is like plain chicken which is just boiled, without no momo spices at all.',\n",
       "  u'The momo they serve here is not at all close to a Tibetan food.',\n",
       "  u\"I just don't get it, how can people start cooking momo like Indian crurry.\",\n",
       "  u'If this is what people want then just cook a curry and not momo.',\n",
       "  u'Franchise like these have really changed the whole way a momo is supposed to taste.'],\n",
       " u'mousse': [u'The orange mousse is yummy.'],\n",
       " u'mushroom': [u'It was rice served with chicken and mushrooms cooked in thick tomato gravy.',\n",
       "  u'In the vegetarian section, there was the potato and cauliflower dry vegetable, mushroom in the palak crurry.'],\n",
       " u'mutton': [u\"'Mutton Shammi kebab' is one of their specialty, the minced mutton is cooked in egg dressing.\",\n",
       "  u'I tried their signature dish, mutton sheek kebab which was really delicious.',\n",
       "  u'The mutton ghost was so well prepared.',\n",
       "  u\"I just didn't like the way mutton was cooked.\",\n",
       "  u\"I just wish they had served me mutton cooked which wasn't overcooked.\"],\n",
       " u'naan': [u'Then we ordered a Raara Ghosht for the main course along with garlic Naan and tandoori roti.',\n",
       "  u'Another thing that I noticed about this place is that the person sitting next to my table had ordered for aloo paratha but he was served with naan instead.'],\n",
       " u'nan': [u'Then we also ordered a Thai lost in Hunan as this was not cooked in coconut milk.',\n",
       "  u\"I have been to Nando's several times.\",\n",
       "  u'I like the pepper chicken and Hunan chicken of this place.'],\n",
       " u'paneer': [u'The paneer item which I ordered was unflavored and mild.',\n",
       "  u'There were potato and paneer in the starters.',\n",
       "  u'One should really try the paneer in the starters, the outer was crunchy and the paneer inside was so soft.',\n",
       "  u'I forgot what the paneer in the starter was called.'],\n",
       " u'pani puri': [u\"I don't know what this dish is called but then they also served us pani puri with salsa and avocado puree.\",\n",
       "  u'The pani puri is also like extremely spicy.'],\n",
       " u'paratha': [u'The parathas were bad.',\n",
       "  u'Another thing that I noticed about this place is that the person sitting next to my table had ordered for aloo paratha but he was served with naan instead.'],\n",
       " u'pasta': [u'The pasta was just so full of oil.',\n",
       "  u'It was more of the oil and less of the pasta.',\n",
       "  u'For a pasta people this is a big disaster.',\n",
       "  u'Also, they serve really nice Penne pasta nepolitana.',\n",
       "  u'They also have the live counter for the chats and also another live counter for the burgers and pastas.',\n",
       "  u'The pastas served are fresh and well flavoured.',\n",
       "  u'This time penne pasta nepolitana disappointed me.',\n",
       "  u'Sometimes the brownie is stale, sometimes there is a hair in the takeaway pasta.',\n",
       "  u'The place serves one of the worst pastas.',\n",
       "  u'The pastas here are insipid and tasteless.',\n",
       "  u'I just hope they improve the quality of food as no on would want to eat a tasteless pasta for 180 bucks.',\n",
       "  u'I had packed myself Milanes pasta bowl which was supposed to be tomato base.',\n",
       "  u'But the pasta just looked liked tossed in butter and nothing else.'],\n",
       " u'pastas': [u'They also have the live counter for the chats and also another live counter for the burgers and pastas.',\n",
       "  u'The pastas served are fresh and well flavoured.',\n",
       "  u'The place serves one of the worst pastas.',\n",
       "  u'The pastas here are insipid and tasteless.'],\n",
       " u'pastries': [u'And even the pastries are bad.',\n",
       "  u'In the dessert section, they have pastries, tart but they also serve the Indian sweets.'],\n",
       " u'pastry': [u'For the dessert, we were served a two layers of chocolate ganache over a black and white chocolate pastry.',\n",
       "  u'Their chocolate and almond pastry is so rich, soft and is a must try.'],\n",
       " u'penne': [u'The next dish was penne with Spanish chorizo and semi spicy tomato sauce.',\n",
       "  u'The penne was tangy and the sauce was thick and spicy.',\n",
       "  u'The penne was just yummy and even the chorizo was spicy and coarse.',\n",
       "  u'Also, they serve really nice Penne pasta nepolitana.',\n",
       "  u'We also ordered a Penne Arabbiata which was just yummy.',\n",
       "  u'This time penne pasta nepolitana disappointed me.'],\n",
       " u'pizza': [u'pizza.',\n",
       "  u'We ordered a spicy prawn skewers and a buffalo soldier pizza.',\n",
       "  u'The only best thing about this place was the Buffalo Soldier Pizza.',\n",
       "  u'The pizza was okay.',\n",
       "  u'It was a fresh pizza with all the nice toppings and a nice thin crust.',\n",
       "  u'But the chicken was so delicious that it overpowered the pizza.',\n",
       "  u'We also ordered a Italiano pizza, which was so thin crust with all the toppings.',\n",
       "  u'I love the wide varieties of pizzas they offer on the menu and also love it because of the thin crust.',\n",
       "  u'Enjoyed the California club pizza.',\n",
       "  u'Enjoyed the California club pizza.',\n",
       "  u'The service of pizza hut is always poor but this outlet had way too poor service.',\n",
       "  u'They were so slow that it took us 1 hour just to be served the pizza.',\n",
       "  u'Sbarro is a place where you can just eat a slice of pizza.',\n",
       "  u'The big slices of pizzas are appealing till the time you just eat with your eyes.',\n",
       "  u'The moment the double margarita cheese pizza goes in your mouth, you realize appearance can deceive.',\n",
       "  u'The pizza tastes really really like eating just the base.',\n",
       "  u'Pizza was still edible in comparison to the garlic bread.',\n",
       "  u'The worst pizza that I ever had in my life is in this place.',\n",
       "  u'I wonder if they bake the pizza or fry it in oil.',\n",
       "  u'The moment you pick up your slice you see oodles of oil dripping out of your pizza.',\n",
       "  u'This place is in such a hurry that they really serve tasteless pizza.',\n",
       "  u'There are so many people coming even when the pizza they serve is not delicious as there is not much option and also there are so many people and they have limited time to go out for lunch during the weekdays.'],\n",
       " u'pizzas': [u'I love the wide varieties of pizzas they offer on the menu and also love it because of the thin crust.',\n",
       "  u'The big slices of pizzas are appealing till the time you just eat with your eyes.'],\n",
       " u'poha': [u'It is good for their healthy oats and poha.'],\n",
       " u'potato': [u'I would recommend the tikkas but a big no to potato chilly as it was bland and served cold.',\n",
       "  u'The potato with spices was perfect and it was also served with coleslaw salad.',\n",
       "  u'They do serve many complementary dishes like pickled bamboo-shoot, fried spinach, potato in caramelized soya sauce, kimchi, vegetable tempura and many more items.',\n",
       "  u'The chicken was juicy and tender, citrus juice and the mashed potato helped balance the bitter taste of the beer.',\n",
       "  u'There were potato and paneer in the starters.',\n",
       "  u'In the vegetarian section, there was the potato and cauliflower dry vegetable, mushroom in the palak crurry.',\n",
       "  u'We had ordered for a pork chilly, noodles, crispy chilli potato and a pineapple jahrito.',\n",
       "  u'And also the classic honey chilly potato was only sweet and not spicy.',\n",
       "  u'I like the chilli sausages, mashed potatoes, chicken and cheese sandwiches.'],\n",
       " u'prawn': [u'We ordered a spicy prawn skewers and a buffalo soldier pizza.',\n",
       "  u'The prawn cooked in an Indian style and served with the sweet green chutney is a big No No.',\n",
       "  u'The starters had chicken, fish and prawns which were really bland.'],\n",
       " u'puri': [u\"I don't know what this dish is called but then they also served us pani puri with salsa and avocado puree.\",\n",
       "  u'They had pau bhaji, pani-puri and other chats too.',\n",
       "  u'The bhel puri has so hard thing in it that it almost broke my tooth.',\n",
       "  u'The pani puri is also like extremely spicy.'],\n",
       " u'raita': [u'The raita was the only good thing.',\n",
       "  u'Everything was so bad that I just liked the Raita and nothing else.',\n",
       "  u'In the main course I just had the chicken biryani and the raita.',\n",
       "  u'I think only the biryani and raita are worth mentioning which were average amongst all the dishes.',\n",
       "  u'Even the raita had a weird kind of taste.',\n",
       "  u\"I didn't like the curry and raita both which was served along with the biryani.\"],\n",
       " u'rice': [u'They have a huge list of drinks and the price is darn good too.',\n",
       "  u'I just found the place overhyped and overpriced.',\n",
       "  u'There is a fixed price for veg, chicken and meat/seafood.',\n",
       "  u'The presentation of the food was amazing, the portion of the food was great and the price was decent.',\n",
       "  u'But then the food was just bad and the price we paid it was just a total waste of money.',\n",
       "  u'We ordered a Chicken Cacciatore with rice, Steak with cheese burger and lime soda.',\n",
       "  u'It was rice served with chicken and mushrooms cooked in thick tomato gravy.',\n",
       "  u\"I don't know what happened to me and I know this is not the place to eat chicken fried rice, but for some reasons I ordered it and it obviously was bad.\",\n",
       "  u'The beer price is reasonable.',\n",
       "  u'Then we ordered Kimchi fried rice.',\n",
       "  u\"Korean food is usually for people with acquired taste-bud but even people who don't like the kimchi can try this as the fried rice balances the taste of the kimchi and it is not that sour.\",\n",
       "  u'They do serve the drinks in huge glasses so one does feel it is worth the price.',\n",
       "  u'So I was just left to eat rice with the yellow dal and some vegetable.',\n",
       "  u'Also the price is very reasonable.',\n",
       "  u\"I had to change my table thrice as my friend couldn't sit on the chair which didn't fit him .\",\n",
       "  u'I judge a Chinese eatery by its fried rice and this place had definitely got it right.',\n",
       "  u'reasonably priced.',\n",
       "  u'This is the only place in the mall which serves good food and is also reasonably priced.',\n",
       "  u'For the amount of price one pays, they serve good food.',\n",
       "  u'They serve beer at a really cheap price and also the wine prices are really cheap for a restaurant to serve it.',\n",
       "  u'The food is decent and is worth the price which is reasonable.',\n",
       "  u'The place serves above average food, but for the price they charge, the quantity is definitely definitely less.',\n",
       "  u'The ambiance and the service is the best part about the place but I just wish the food was a bit more delicious for the price they charge.',\n",
       "  u'Yes, the prices are a bit high but the cake makes up for the price.',\n",
       "  u'I liked the lamb but then the fried rice was really oily.',\n",
       "  u'Either they have to upgrade the quality of the food or decrease the food price.',\n",
       "  u'For the price they charge, they serve you delicious vada pavs.',\n",
       "  u\"I simply love the dosas here and for the price and the food they serve, I don't think if anyone can ever have a bad review for this place.\",\n",
       "  u'I have tried here mattar chicken and the chicken curry which is okay and is worth the price they charge.',\n",
       "  u'Also the price is very reasonable and is charged on 100 gms basis.',\n",
       "  u'For the price they charge they serve a really good meal in terms of both quality and quantity.',\n",
       "  u'This place is too overpriced for the quality of momo they serve.',\n",
       "  u'They charge prices just like in the malls, but serve food of really low quality and quantity.',\n",
       "  u\"It's like the same price that Beijing bites charges but half of what Beijing bites serves.\",\n",
       "  u'For the price they charge, they serve teas and coffees accordingly.',\n",
       "  u'But I do think that this place is over-priced when we can get the same items with taste the same but with a lower price.',\n",
       "  u'The manager of the store billed me the exact amount for the 3 subway meals, without billing for the sub of the day price, which is Rs 110 per sub.',\n",
       "  u'I really liked the Indian rice bowl as it was creamy and spicy too.',\n",
       "  u'The oriental rice bowl is not for people who like spices as the flavours are really mild.',\n",
       "  u'I also tried the oriental veg rice bowl which was so bland.',\n",
       "  u'It was like eating a steamed rice.',\n",
       "  u'And the bitter truth is that they taste better, is the same price, and is more filling.'],\n",
       " u'roti': [u\"So, we ordered a 'Baida Roti' and 'Khow Suey'.\",\n",
       "  u'Baida Roti was nothing great, a very simple toasted roll with the chicken and egg stuffing.',\n",
       "  u'Then we ordered a Raara Ghosht for the main course along with garlic Naan and tandoori roti.',\n",
       "  u'But then whenever I eat it I always feel like eating plain roti and nothing else.',\n",
       "  u'This place is not worth the money you pay when all you feel is like eating a plain roti.',\n",
       "  u'This is also like all the Kaati zone which just tastes like plain roti even if it has filling in it.'],\n",
       " u'salad': [u'The customer can choose a soup or an appetizer or a salad for the starter and a separate main course.',\n",
       "  u\"We also tried the 'palm hearts and orange salad' and 'loft ceasar salad'.\",\n",
       "  u'And yes I had also ordered for the mamagoto Asian summer salad, which the person forgot.',\n",
       "  u\"We ordered farmer's greek salad and portland chicken wings for the starters.\",\n",
       "  u'The dressing in the salad was just perfect, not much of the olive oil and citrus.',\n",
       "  u'The potato with spices was perfect and it was also served with coleslaw salad.',\n",
       "  u'I hate salads but my friend loved it.',\n",
       "  u'The salad came after the whole food was over.',\n",
       "  u'The green mango salad is yummy with a taste of both sweet and sour.',\n",
       "  u'The food is amazing, and so is the salad as my friend finished the whole thing.'],\n",
       " u'salt': [u'I know its weird but then I judge a place by its soda(salted).',\n",
       "  u'People either make it too sour or too salty or they forget and add sugar too.',\n",
       "  u\"The salted caramel is a try for even people who don't like caramel.\"],\n",
       " u'sambar': [u'They have rasam, sambar, and two vegetables.',\n",
       "  u'The service was pretty quick but then I hated the presentation with sambar all splattered.',\n",
       "  u\"They don't serve sambar with the dosa but then the chutney they serve is really good.\"],\n",
       " u'samosa': [u'We ordered Chilli cheese toast, veg samosa and a tandoori sandwich.'],\n",
       " u'sizzler': [u'We also ordered a Jeyuk Chulpan which is pork dish which is stir fried with vegetables and is served in a sizzler plate.',\n",
       "  u'I always felt sizzlers to be too overrated.',\n",
       "  u\"I can unabashedly say that this was the best friggin' sizzler experience in my entire life.\",\n",
       "  u'Although I did not like my mocktail a lot, but it was immaterial after I tucked into the sizzler'],\n",
       " u'sizzlers': [u'I always felt sizzlers to be too overrated.'],\n",
       " u'soup': [u'The customer can choose a soup or an appetizer or a salad for the starter and a separate main course.',\n",
       "  u\"We also tried the 'asparagus' in soup and it was just delicious.\",\n",
       "  u'It should be suggested to the customers as the soup is so basic but really good.'],\n",
       " u'spaghetti': [u'I have been to this place so many times but then this one time they served such a horrible supreme chicken burger and chicken spaghetti bolognaise that I just stopped going to this place.',\n",
       "  u'The flavours of the spaghetti was rich and fresh.'],\n",
       " u'starter': [u'The food was not up to the expectations, although the starter was good.',\n",
       "  u'In the starters, we ordered the ultimate chilly beef.',\n",
       "  u'The customer can choose a soup or an appetizer or a salad for the starter and a separate main course.',\n",
       "  u\"In the starters, I really loved the 'naga chilli pork'.\",\n",
       "  u\"'Go Chung Chang' was a chicken starter made in Korean sauce and was juicy and yum.\",\n",
       "  u'The staff served us the main course first and then the starter later.',\n",
       "  u\"Thank God I didn't order any starters else the main course which was so bad would have gone to a total waste.\",\n",
       "  u\"We ordered farmer's greek salad and portland chicken wings for the starters.\",\n",
       "  u'The starters had chicken, fish and prawns which were really bland.',\n",
       "  u'I loved all the food served in the starter, the goat cheese crositin was really soft and yum.',\n",
       "  u'They have different sides for the vegetarian and non-vegetarian starters.',\n",
       "  u'Their starters are amazing.',\n",
       "  u'These two are a big hit in the starters section.',\n",
       "  u'There were potato and paneer in the starters.',\n",
       "  u'One should really try the paneer in the starters, the outer was crunchy and the paneer inside was so soft.',\n",
       "  u'I forgot what the paneer in the starter was called.',\n",
       "  u'In the starters, we ordered a chicken open burger.',\n",
       "  u'I had to wait for 1 hour for my chicken biryani to be served after my starter.'],\n",
       " u'strawberry': [u'We also ordered carrot juice, watermelon juice and strawberry smoothie criminal.'],\n",
       " u'tandoor': [u'Then we ordered a Raara Ghosht for the main course along with garlic Naan and tandoori roti.',\n",
       "  u'Chicken tandoori is supposed to be grilled but then seems like this place fries it as it was so oily.',\n",
       "  u'We ordered Chilli cheese toast, veg samosa and a tandoori sandwich.',\n",
       "  u'The tandoori sandwich is decent.'],\n",
       " u'tea': [u'I also tried the slow roasted chicken steak which was delicious.',\n",
       "  u\"And, also they could have served me water in the glass written 'pani' instead of 'thanda beer'.\",\n",
       "  u'The ice tea here is really sweet so better to opt for a beer.',\n",
       "  u'We ordered Ice tea, tornado twist and portland cream for the drinks.',\n",
       "  u'The ice tea is good, as it can rarely go wrong.',\n",
       "  u'For the main course, we all ordered chicken lasagna, chicken parmigiana and silver dollar steak.',\n",
       "  u'The food I had actually gone for, but the one which actually disappointed me is the beef steak.',\n",
       "  u'Exclusing the tornado twist and steak, everything was perfect.',\n",
       "  u'We ordered a Chicken Cacciatore with rice, Steak with cheese burger and lime soda.',\n",
       "  u'The steak was juicy and so rich.',\n",
       "  u'This is the dish for people who loves sea weed as it is just like tuna but only the difference it has the sea weed instead of the fish.',\n",
       "  u'Another thing that I noticed about this place is that the person sitting next to my table had ordered for aloo paratha but he was served with naan instead.',\n",
       "  u'The ice tea is also good.',\n",
       "  u'It should have been named Indianised Chinese version instead.',\n",
       "  u'For the price they charge, they serve teas and coffees accordingly.',\n",
       "  u'We ordered for a Lemon Mojito and Twisted berry tea in drinks.',\n",
       "  u\"They lemon Mojito was okay but I didn't like the Twisted Berry tea was really sweet.\",\n",
       "  u'It was like eating a steamed rice.'],\n",
       " u'tikka': [u'I would recommend the tikkas but a big no to potato chilly as it was bland and served cold.',\n",
       "  u'I really love their chicken chilly, chicken mirchiwala and the chicken tikka masala.',\n",
       "  u'I had ordered the murg malai tikka and golkonda special handi.',\n",
       "  u'Their chicken tikka was so juicy and well-marinated.',\n",
       "  u\"They didn't have the chicken ham sub, so we were given chicken tikka sub.\"],\n",
       " u'uttapam': [u'The minced meat was served in between the layers of uttapam.',\n",
       "  u\"I don't like uttapam but this is the prefect way to eat one for sure.\"],\n",
       " u'vada': [u'The day I had gone, it was raining and so they had only vada pav available.',\n",
       "  u'I tried both the Bombay Vada Pav and the Special Vada Pav.',\n",
       "  u\"This place doesn't serve Vada Pav like the ones available in many places of Bangalore.\",\n",
       "  u'The Vada is not frozen and just fried.',\n",
       "  u'The Special Vada Pav is yummy has a nice kind of chutney with cashew nuts.',\n",
       "  u'The Vada of this place can actually be called a vada and is not like other places in the city.',\n",
       "  u'For the price they charge, they serve you delicious vada pavs.',\n",
       "  u'The dosas, idlis and vadas are good.',\n",
       "  u'This place is okay, but at least better that other outlets of the Vada Pav.',\n",
       "  u'Out of all the varieties available, the only edible one is the masala vadav pav, others are really horrible.',\n",
       "  u'One of the quick snack to try is Baked Vada Pav which is obviously healthy but is not tasty.',\n",
       "  u'So people who love vada pav should not try this but then it surely is a good replacement for the junk vada pav which is deep fried.'],\n",
       " u'vada pav': [u'The day I had gone, it was raining and so they had only vada pav available.',\n",
       "  u'I tried both the Bombay Vada Pav and the Special Vada Pav.',\n",
       "  u\"This place doesn't serve Vada Pav like the ones available in many places of Bangalore.\",\n",
       "  u'The Special Vada Pav is yummy has a nice kind of chutney with cashew nuts.',\n",
       "  u'For the price they charge, they serve you delicious vada pavs.',\n",
       "  u'This place is okay, but at least better that other outlets of the Vada Pav.',\n",
       "  u'One of the quick snack to try is Baked Vada Pav which is obviously healthy but is not tasty.',\n",
       "  u'So people who love vada pav should not try this but then it surely is a good replacement for the junk vada pav which is deep fried.']}"
      ]
     },
     "execution_count": 95,
     "metadata": {},
     "output_type": "execute_result"
    }
   ],
   "source": [
    "d['1048504']"
   ]
  },
  {
   "cell_type": "code",
   "execution_count": 97,
   "metadata": {
    "collapsed": true
   },
   "outputs": [],
   "source": [
    "import requests\n",
    "import json\n",
    "from __future__ import division"
   ]
  },
  {
   "cell_type": "code",
   "execution_count": 6,
   "metadata": {
    "collapsed": false
   },
   "outputs": [
    {
     "name": "stdout",
     "output_type": "stream",
     "text": [
      "Rolls On Wheels, Banaswadi\n",
      "<type 'dict'>\n"
     ]
    }
   ],
   "source": [
    "listOfRestauranIds = []\n",
    "with open('restaurantMapping.json') as json_data:\n",
    "    loadingResJsons = json.load(json_data)\n",
    "print loadingResJsons['61178']\n",
    "print type(loadingResJsons)"
   ]
  },
  {
   "cell_type": "code",
   "execution_count": 4,
   "metadata": {
    "collapsed": false
   },
   "outputs": [
    {
     "name": "stdout",
     "output_type": "stream",
     "text": [
      "64\n"
     ]
    }
   ],
   "source": [
    "with open('user_ratings.json') as userRating_data:\n",
    "    userRatingsJson = json.load(userRating_data)\n",
    "\n",
    "userId = \"1048504\"\n",
    "\n",
    "allReviewsForThisUser = userRatingsJson[userId]\n",
    "print len(allReviewsForThisUser)"
   ]
  },
  {
   "cell_type": "code",
   "execution_count": 5,
   "metadata": {
    "collapsed": false
   },
   "outputs": [
    {
     "name": "stdout",
     "output_type": "stream",
     "text": [
      "[[u'mexican', 0.8571428571428572, 2], [u'sambar', 0.9, 1], [u'tea', 0.8250000000000001, 8], [u'chip', 0.9, 1], [u'chai', 0.8571428571428572, 2], [u'prawn', 0.625, 2], [u'mousse', 0.75, 1], [u'juice', 0.5833333333333334, 3], [u'chocolate', 0.71, 5], [u'raita', 0.5, 1], [u'pastry', 0.825, 2], [u'penne', 0.78, 5], [u'pizzas', 0.9, 2], [u'chicken', 0.8632129103245919, 38], [u'spaghetti', 0.9642857142857143, 1], [u'pani puri', 0.5, 1], [u'samosa', 0.75, 1], [u'pastas', 0.4166666666666667, 3], [u'mutton', 0.9642857142857143, 2], [u'kebab', 0.9642857142857143, 1], [u'soup', 0.5, 1], [u'paratha', 0.25, 1], [u'main course', 0.8149350649350651, 11], [u'lasagna', 0.75, 1], [u'fried rice', 0.7875, 4], [u'biryani', 0.7428571428571429, 7], [u'dal makhani', 0.9, 1], [u'chicken biryani', 0.9, 2], [u'kulcha', 0.75, 1], [u'puri', 0.5, 1], [u'rice', 0.6285714285714286, 21], [u'pizza', 0.6422077922077922, 11], [u'tikka', 0.9, 1], [u'dosa', 0.825, 2], [u'fish', 0.7625, 4], [u'dal', 0.6, 4], [u'dessert', 0.9, 1], [u'drink', 0.9097402597402596, 11], [u'sizzlers', 0.5, 1], [u'paneer', 0.7880952380952381, 3], [u'chole bhature', 0.75, 1], [u'coffee', 0.54579945799458, 9], [u'pasta', 0.40625, 8], [u'chips', 0.9, 1], [u'desert', 0.9000000000000002, 1], [u'starter', 0.65, 6], [u'mushroom', 0.25, 1], [u'salad', 0.6625, 4], [u'burger', 0.6363636363636364, 11], [u'chutney', 0.8657142857142859, 5], [u'curry', 0.825, 2], [u'potato', 0.8957142857142857, 5], [u'tandoor', 0.75, 1], [u'strawberry', 0.25, 1], [u'roti', 0.5875, 4], [u'burgers', 0.75, 3], [u'mango', 0.9, 1], [u'vada', 0.7202090592334496, 10], [u'cake', 0.8400000000000001, 5], [u'momo', 0.58, 5], [u'sizzler', 0.7321428571428572, 2], [u'pastries', 0.25, 1], [u'idli', 0.6666666666666666, 3], [u'vada pav', 0.7788700846192136, 7]]\n"
     ]
    }
   ],
   "source": [
    "print allReviewsForThisUser"
   ]
  },
  {
   "cell_type": "code",
   "execution_count": 104,
   "metadata": {
    "collapsed": false
   },
   "outputs": [],
   "source": [
    "dishNames = []\n",
    "dishNamesRatings = {} #frequency +     \n",
    "for eachDishRatings in allReviewsForThisUser:\n",
    "    dishNames.append(eachDishRatings[0])"
   ]
  },
  {
   "cell_type": "code",
   "execution_count": 36,
   "metadata": {
    "collapsed": false
   },
   "outputs": [],
   "source": [
    "with open('dataJsonFinal.json') as res_data:\n",
    "    resJson = json.load(res_data)"
   ]
  },
  {
   "cell_type": "code",
   "execution_count": 14,
   "metadata": {
    "collapsed": true
   },
   "outputs": [],
   "source": [
    "from math import radians, cos, sin, asin, sqrt\n",
    "\n",
    "def haversine(lon1, lat1, lon2, lat2):\n",
    "    \"\"\"\n",
    "    Calculate the great circle distance between two points \n",
    "    on the earth (specified in decimal degrees)\n",
    "    \"\"\"\n",
    "    # convert decimal degrees to radians \n",
    "    lon1, lat1, lon2, lat2 = map(radians, [lon1, lat1, lon2, lat2])\n",
    "\n",
    "    # haversine formula \n",
    "    dlon = lon2 - lon1 \n",
    "    dlat = lat2 - lat1 \n",
    "    a = sin(dlat/2)**2 + cos(lat1) * cos(lat2) * sin(dlon/2)**2\n",
    "    c = 2 * asin(sqrt(a)) \n",
    "    r = 6371 # Radius of earth in kilometers. Use 3956 for miles\n",
    "    return c * r"
   ]
  },
  {
   "cell_type": "code",
   "execution_count": 15,
   "metadata": {
    "collapsed": false
   },
   "outputs": [
    {
     "ename": "TypeError",
     "evalue": "list indices must be integers, not str",
     "output_type": "error",
     "traceback": [
      "\u001b[1;31m---------------------------------------------------------------------------\u001b[0m",
      "\u001b[1;31mTypeError\u001b[0m                                 Traceback (most recent call last)",
      "\u001b[1;32m<ipython-input-15-32480921ba36>\u001b[0m in \u001b[0;36m<module>\u001b[1;34m()\u001b[0m\n\u001b[1;32m----> 1\u001b[1;33m \u001b[0mresJson\u001b[0m\u001b[1;33m[\u001b[0m\u001b[1;34m'61178'\u001b[0m\u001b[1;33m]\u001b[0m\u001b[1;33m\u001b[0m\u001b[0m\n\u001b[0m",
      "\u001b[1;31mTypeError\u001b[0m: list indices must be integers, not str"
     ]
    }
   ],
   "source": [
    "resJson['61178']"
   ]
  },
  {
   "cell_type": "markdown",
   "metadata": {},
   "source": [
    "@#$ Code for Timings@#$\n"
   ]
  },
  {
   "cell_type": "code",
   "execution_count": 20,
   "metadata": {
    "collapsed": true
   },
   "outputs": [],
   "source": [
    "def hoursAndMinsCalculate(startTime):\n",
    "    if(':' in startTime):\n",
    "#        print startTime\n",
    "        hoursAndMins = re.search(\"\"\"(.*?):(.*)\"\"\",startTime, re.I|re.S)\n",
    "#        print \"ya\", hoursAndMins.group(1), type(hoursAndMins.group(1)), len(hoursAndMins.group(1))\n",
    "        hours = hoursAndMins.group(1)\n",
    "        mins = hoursAndMins.group(2)\n",
    "        timings = str(int(hours)*100 + int(mins))\n",
    "    else:\n",
    "        timings = str(int(startTime)*100)\n",
    "#    print \"yup\", timings\n",
    "    return timings"
   ]
  },
  {
   "cell_type": "code",
   "execution_count": 21,
   "metadata": {
    "collapsed": true
   },
   "outputs": [],
   "source": [
    "def timingsCalculate(eachTime):\n",
    "    timings = \"\"\n",
    "    startTime = re.search(\"\"\"(.*?)\\sto\"\"\",eachTime,re.I|re.S).group(1)\n",
    "    if(\"AM\" in startTime):\n",
    "        startTime = re.search(\"\"\"(.*?)\\sAM\"\"\",startTime, re.I|re.S).group(1)\n",
    "        timings = hoursAndMinsCalculate(startTime) + \"-\"\n",
    "    elif(\"PM\" in startTime):\n",
    "        startTime = re.search(\"\"\"(.*?)\\sPM\"\"\",startTime, re.I|re.S).group(1)\n",
    "        tom = hoursAndMinsCalculate(startTime) \n",
    "        if( \"12\" not in tom ):\n",
    "            timings = str(int(tom) + 1200) + \"-\"\n",
    "        else:\n",
    "            timings = tom + \"-\"\n",
    "    elif(\"on\" in startTime):\n",
    "        timings = \"1200-\"\n",
    "\n",
    "    endTime = re.search(\"\"\"to\\s(.*)\"\"\",eachTime,re.I|re.S).group(1)\n",
    "    if(\"AM\" in endTime):\n",
    "        endTime = re.search(\"\"\"(.*?)\\sAM\"\"\",endTime, re.I|re.S).group(1)\n",
    "        if (int(hoursAndMinsCalculate(endTime)) < 300):\n",
    "            timings = timings + str(int(hoursAndMinsCalculate(endTime)) + 2400)\n",
    "        else:\n",
    "            timings = timings + hoursAndMinsCalculate(endTime)\n",
    "    elif(\"PM\" in endTime):\n",
    "        endTime = re.search(\"\"\"(.*?)\\sPM\"\"\",endTime, re.I|re.S).group(1)\n",
    "        timings = timings + str(int(hoursAndMinsCalculate(endTime)) + 1200)\n",
    "\n",
    "    elif(\"on\" in endTime):\n",
    "        timings = timings + \"1200\"\n",
    "\n",
    "    return timings"
   ]
  },
  {
   "cell_type": "code",
   "execution_count": 22,
   "metadata": {
    "collapsed": true
   },
   "outputs": [],
   "source": [
    "def checkClosedDay(whichDay):\n",
    "    if(\"on\" in whichDay):\n",
    "        return 0\n",
    "    elif(\"ue\" in whichDay):\n",
    "        return 1\n",
    "    elif(\"ed\" in whichDay):\n",
    "        return 2\n",
    "    elif(\"hu\" in whichDay):\n",
    "        return 3\n",
    "    elif(\"ri\" in whichDay):\n",
    "        return 4\n",
    "    elif(\"at\" in whichDay):\n",
    "        return 5\n",
    "    else:\n",
    "        return 6"
   ]
  },
  {
   "cell_type": "code",
   "execution_count": 23,
   "metadata": {
    "collapsed": true
   },
   "outputs": [],
   "source": [
    "def setClosedDays(eachString):\n",
    "    ch = re.search(\"\"\"\\),(.*?)Closed\"\"\", eachString, re.I|re.S)\n",
    "    if(ch == None):\n",
    "        eachString = eachString.split('to')\n",
    "        ch = re.search(\"\"\"M,(.*?)Closed\"\"\", eachString[len(eachString)-1], re.I|re.S)\n",
    "\n",
    "    daysClosed = re.sub(\"\"\"\\s\"\"\", \"\", ch.group(1), re.I|re.S)\n",
    "    daysClosed = daysClosed.split(',')\n",
    "    listOfTime = [\"\",\"\",\"\",\"\",\"\",\"\",\"\"]\n",
    "    for eachTerm in daysClosed:\n",
    "        if('-' in eachTerm):\n",
    "            checkingDays = eachTerm.split('-')\n",
    "            num = checkClosedDay(checkingDays[0])\n",
    "            num1 = checkClosedDay(checkingDays[1])\n",
    "            if(num < num1):\n",
    "                while(num <= num1):\n",
    "                    listOfTime[num] = \"No\"\n",
    "                    num = num + 1\n",
    "            else:\n",
    "                while(num <= 6):\n",
    "                    listOfTime[num] = \"No\"\n",
    "                    num = num + 1\n",
    "                num = 0\n",
    "                while(num <= num1):\n",
    "                    listOfTime[num] = \"No\"\n",
    "                    num = num + 1\n",
    "\n",
    "        else:\n",
    "            num = checkClosedDay(eachTerm)\n",
    "            listOfTime[num] = \"No\"\n",
    "    return listOfTime"
   ]
  },
  {
   "cell_type": "code",
   "execution_count": 42,
   "metadata": {
    "collapsed": true
   },
   "outputs": [],
   "source": [
    "def setTime(eachTime): \n",
    "    listOfDaysTime = [\"\",\"\",\"\",\"\",\"\",\"\",\"\"]\n",
    "    timings = \"\"    \n",
    "    if(eachTime == \"24 Hours\"):\n",
    "        listOfDaysTime = [\"0-2400\",\"0-2400\",\"0-2400\",\"0-2400\",\"0-2400\",\"0-2400\",\"0-2400\"]\n",
    "        return listOfDaysTime\n",
    "    #mon - 0, tue - 1, wed - 2, thurs - 3, fri -4, sat - 5\n",
    "    if(\"Closed\" in eachTime):\n",
    "        listOfDaysTime = setClosedDays(eachTime)\n",
    "\n",
    "    s = re.search(\"\"\"(.*)\\),(.*?)Closed\"\"\", eachTime, re.I|re.S)\n",
    "    if(s != None):\n",
    "        s = s.group(1)\n",
    "        s = s + \")\"\n",
    "    else:\n",
    "        s = eachTime\n",
    "\n",
    "    s1 = re.findall(\"\"\"(.*?)\\)\"\"\", s, re.I|re.S)\n",
    "    if(len(s1) != 0):\n",
    "        for k in range(len(s1)):\n",
    "            if(s1[k][:2] == \", \"):\n",
    "                s1[k] = s1[k][2:]\n",
    "\n",
    "        for e in s1:\n",
    "            searchBracketTime = re.search(\"\"\"(.*?)\\(\"\"\", e, re.I|re.S).group(1)\n",
    "            searchBracketDays = re.search(\"\"\"\\((.*)\"\"\", e, re.I|re.S).group(1)\n",
    "            searchBracketDays = searchBracketDays.split(',')\n",
    "            detectComma = re.findall(\"\"\"to\"\"\",searchBracketTime,re.I|re.S) #more than one time present\n",
    "            numTimes = len(detectComma)\n",
    "            if(numTimes == 1):\n",
    "                timings = timingsCalculate(searchBracketTime)\n",
    "            if(numTimes > 1):\n",
    "                listOfTimings = searchBracketTime.split(',')\n",
    "                for p in range(len(listOfTimings)):\n",
    "                    if(listOfTimings[p][len(listOfTimings[p])-1] == ' '):\n",
    "                        listOfTimings[p] = listOfTimings[p][:len(listOfTimings[p])-1]\n",
    "\n",
    "                for m in range(len(listOfTimings)):\n",
    "                    timings = timings + timingsCalculate(listOfTimings[m]) + '#'\n",
    "\n",
    "            for eachTerm in searchBracketDays:\n",
    "                if('-' in eachTerm):\n",
    "                    checkingDays = eachTerm.split('-')\n",
    "                    num = checkClosedDay(checkingDays[0])\n",
    "                    num1 = checkClosedDay(checkingDays[1])\n",
    "                    if(num < num1):\n",
    "                        while(num <= num1):\n",
    "                            listOfDaysTime[num] = timings\n",
    "                            num = num + 1\n",
    "                    else:\n",
    "                        while(num <= 6):\n",
    "                            listOfDaysTime[num] = timings\n",
    "                            num = num + 1\n",
    "                        num = 0\n",
    "                        while(num <= num1):\n",
    "                            listOfDaysTime[num] = timings\n",
    "                            num = num + 1\n",
    "\n",
    "                else:\n",
    "                    num = checkClosedDay(eachTerm)\n",
    "                    listOfDaysTime[num] = timings            \n",
    "\n",
    "    else:\n",
    "        detectComma = re.findall(\"\"\"to\"\"\",eachTime,re.I|re.S) #more than one time present\n",
    "        numTimes = len(detectComma)\n",
    "        timings = \"\"\n",
    "        if(numTimes == 1):\n",
    "            timings = timingsCalculate(eachTime)\n",
    "        if(numTimes > 1):\n",
    "            listOfTimings = eachTime.split(',')\n",
    "            for m in range(len(listOfTimings)):\n",
    "                timings = timings + timingsCalculate(listOfTimings[m]) + '#'\n",
    "\n",
    "    for t in range(len(listOfDaysTime)):\n",
    "        if(listOfDaysTime[t] == \"\"):\n",
    "            listOfDaysTime[t] = timings\n",
    "\n",
    "                \n",
    "    return listOfDaysTime"
   ]
  },
  {
   "cell_type": "code",
   "execution_count": 60,
   "metadata": {
    "collapsed": true
   },
   "outputs": [],
   "source": [
    "def checkIfResOpen(currentDay, currentTime, resTimings):\n",
    "    w = setTime(resTimings)\n",
    "    if(currentDay == \"Monday\"):\n",
    "        timeCheck = w[0]\n",
    "    elif(currentDay == \"Tuesday\"):\n",
    "        timeCheck = w[1]\n",
    "    elif(currentDay == \"Wednesday\"):\n",
    "        timeCheck = w[2]\n",
    "    elif(currentDay == \"Thursday\"):\n",
    "        timeCheck = w[3]\n",
    "    elif(currentDay == \"Friday\"):\n",
    "        timeCheck = w[4]\n",
    "    elif(currentDay == \"Saturday\"):\n",
    "        timeCheck = w[5]\n",
    "    else:\n",
    "        timeCheck = w[6]\n",
    "    if(timeCheck == \"No\"):\n",
    "        return 0\n",
    "    else:\n",
    "        if(timeCheck[len(timeCheck)-1] == '#'):\n",
    "            timeCheck = timeCheck[:len(timeCheck)-1]\n",
    "        timeCheck = timeCheck.split('#')\n",
    "        if((\"pm\" in currentTime) or (\"PM\" in currentTime)):\n",
    "            currentTime = re.search(\"\"\"(.*?)\\sPM\"\"\",currentTime, re.I|re.S).group(1)\n",
    "            cTime = int(hoursAndMinsCalculate(currentTime)) + 1200\n",
    "        else:\n",
    "            currentTime = re.search(\"\"\"(.*?)\\sAM\"\"\",currentTime, re.I|re.S).group(1)\n",
    "            cTime = int(hoursAndMinsCalculate(currentTime))\n",
    "        for eachOpening in timeCheck:\n",
    "            eachOpen = eachOpening.split('-')\n",
    "            openTime = int(eachOpen[0])\n",
    "            endTime = int(eachOpen[1])\n",
    "            if(cTime >= openTime):\n",
    "                if(cTime <= endTime):\n",
    "                    return 1"
   ]
  },
  {
   "cell_type": "code",
   "execution_count": 61,
   "metadata": {
    "collapsed": true
   },
   "outputs": [],
   "source": [
    "with open('dataJsonFinal.json') as res_data:\n",
    "    resJson = json.load(res_data)"
   ]
  },
  {
   "cell_type": "code",
   "execution_count": 146,
   "metadata": {
    "collapsed": false
   },
   "outputs": [
    {
     "name": "stdout",
     "output_type": "stream",
     "text": [
      "58379\n",
      "59238\n",
      "61480\n",
      "61579\n",
      "85\n",
      "64\n",
      "[u'chicken', u'rice', u'drink', u'main course', u'pizza', u'burger', u'vada', u'coffee', u'tea', u'pasta', u'vada pav', u'biryani', u'starter', u'potato', u'chutney', u'cake', u'penne', u'chocolate', u'momo', u'fried rice']\n"
     ]
    }
   ],
   "source": [
    "lat = 12.937037\n",
    "lon = 77.626488\n",
    "currentDay = \"Monday\"\n",
    "currentTime = \"11:30 pm\"\n",
    "userId = \"1048504\"\n",
    "listOfFeasibleRestaurants = []\n",
    "detailsOfFeasibleRestaurants = []\n",
    "km4Restaurants = []\n",
    "for eachRes in resJson:\n",
    "    resLatitude = float(eachRes['latitude'])\n",
    "    resLongitude = float(eachRes['longitude'])\n",
    "    resTimings = eachRes['timings']\n",
    "    distFromYourLocation = haversine(lon, lat, resLongitude, resLatitude)\n",
    "    try:\n",
    "        if(distFromYourLocation < 3):\n",
    "            if(resTimings != \"\"):\n",
    "                if(checkIfResOpen(currentDay, currentTime, resTimings) == 1):\n",
    "                    detailsOfFeasibleRestaurants.append(eachRes)\n",
    "                    listOfFeasibleRestaurants.append(str(eachRes['id']))\n",
    "    except Exception,e:\n",
    "        print eachRes['id']\n",
    "        #print repr(e)\n",
    "print len(listOfFeasibleRestaurants)\n",
    "dishesPrefer = getPreferences(userId, 20)\n",
    "dishesPreferred = [item[0] for item in dishesPrefer]\n",
    "print dishesPreferred\n",
    "suggestedRestaurantsWithCuisines = []#list of lists\n",
    "#print dictOfDishes.keys()\n",
    "listOfKeys = dictOfDishes.keys()\n",
    "for restaurantId in listOfFeasibleRestaurants:\n",
    "    #print restaurantId\n",
    "    if(restaurantId in dictOfDishes.keys()):\n",
    "        availableDishes = dictOfDishes[restaurantId]\n",
    "        checkIfDish = []\n",
    "        for eachPreferredDish in dishesPreferred:\n",
    "            checkIfDish = []\n",
    "            if(eachPreferredDish in availableDishes):\n",
    "                try:\n",
    "                    avgRatingForDish = dictOfDishesRatings[restaurantId][eachPreferredDish][-2]\n",
    "                    checkIfDish.append(restaurantId)\n",
    "                    checkIfDish.append(eachPreferredDish)\n",
    "                    checkIfDish.append(avgRatingForDish)\n",
    "                    suggestedRestaurantsWithCuisines.append(checkIfDish)\n",
    "                except Exception,e:\n",
    "                    #print repr(e)\n",
    "                    continue\n",
    "suggestedRestaurantsWithCuisines.sort(key=lambda x: x[2], reverse=True)"
   ]
  },
  {
   "cell_type": "code",
   "execution_count": null,
   "metadata": {
    "collapsed": true
   },
   "outputs": [],
   "source": [
    "dishesIgnore = ['chutney', 'main course', 'starter', 'drink']"
   ]
  },
  {
   "cell_type": "code",
   "execution_count": null,
   "metadata": {
    "collapsed": true
   },
   "outputs": [],
   "source": [
    "print suggestedRestaurantsWithCuisines[:10]"
   ]
  },
  {
   "cell_type": "code",
   "execution_count": 134,
   "metadata": {
    "collapsed": false
   },
   "outputs": [
    {
     "name": "stdout",
     "output_type": "stream",
     "text": [
      "<type 'unicode'> <type 'int'>\n",
      "yes\n"
     ]
    }
   ],
   "source": [
    "listOfKeys = dictOfDishes.keys()\n",
    "print type(listOfKeys[0]), type(listOfFeasibleRestaurants[0])\n",
    "if('50045' in listOfKeys):\n",
    "    print \"yes\""
   ]
  },
  {
   "cell_type": "code",
   "execution_count": 150,
   "metadata": {
    "collapsed": false
   },
   "outputs": [
    {
     "name": "stdout",
     "output_type": "stream",
     "text": [
      "544\n",
      "['38764', u'drink', 0.9102117394800323]\n"
     ]
    }
   ],
   "source": [
    "print len(suggestedRestaurantsWithCuisines)\n",
    "print suggestedRestaurantsWithCuisines[2]"
   ]
  },
  {
   "cell_type": "code",
   "execution_count": 91,
   "metadata": {
    "collapsed": false
   },
   "outputs": [
    {
     "ename": "SyntaxError",
     "evalue": "invalid syntax (<ipython-input-91-a5fcd4f15c69>, line 1)",
     "output_type": "error",
     "traceback": [
      "\u001b[1;36m  File \u001b[1;32m\"<ipython-input-91-a5fcd4f15c69>\"\u001b[1;36m, line \u001b[1;32m1\u001b[0m\n\u001b[1;33m    sonyWorld :\u001b[0m\n\u001b[1;37m              ^\u001b[0m\n\u001b[1;31mSyntaxError\u001b[0m\u001b[1;31m:\u001b[0m invalid syntax\n"
     ]
    }
   ],
   "source": [
    "sonyWorld : \n",
    "lat = 12.937037\n",
    "lon = 77.626488\n",
    "\n"
   ]
  },
  {
   "cell_type": "code",
   "execution_count": 53,
   "metadata": {
    "collapsed": false
   },
   "outputs": [
    {
     "name": "stdout",
     "output_type": "stream",
     "text": [
      "#\n",
      "['tatatta#sdasd']\n"
     ]
    }
   ],
   "source": [
    "asd = \"tatatta#sdasd#\"\n",
    "print asd[len(asd)-1]\n",
    "asd = asd[:len(asd)-1]\n",
    "print asd.split('!')"
   ]
  },
  {
   "cell_type": "code",
   "execution_count": 71,
   "metadata": {
    "collapsed": false
   },
   "outputs": [
    {
     "name": "stdout",
     "output_type": "stream",
     "text": [
      "Please enter the search Radius : 3\n"
     ]
    }
   ],
   "source": [
    "vicinity = int(raw_input(\"Please enter the search Radius : \"))"
   ]
  },
  {
   "cell_type": "code",
   "execution_count": 72,
   "metadata": {
    "collapsed": false
   },
   "outputs": [
    {
     "name": "stdout",
     "output_type": "stream",
     "text": [
      "<type 'int'>\n"
     ]
    }
   ],
   "source": [
    "print type(vicinity)"
   ]
  },
  {
   "cell_type": "code",
   "execution_count": null,
   "metadata": {
    "collapsed": true
   },
   "outputs": [],
   "source": [
    "with open('user_ratings.json') as userRating_data:\n",
    "    userRatingsJson = json.load(userRating_data)\n"
   ]
  },
  {
   "cell_type": "code",
   "execution_count": 118,
   "metadata": {
    "collapsed": false
   },
   "outputs": [],
   "source": [
    "def getPreferences(userId, numOfPref):\n",
    "    #userId = \"1048504\"\n",
    "    #Getting user preferences from dishes reviews \n",
    "    allReviewsForThisUser = userRatingsJson[userId]\n",
    "    print len(allReviewsForThisUser)\n",
    "    itemsLiked = []\n",
    "    totalReviewsWritten = 0\n",
    "    #print allReviewsForThisUser\n",
    "    for j in range(len(allReviewsForThisUser)):\n",
    "        totalReviewsWritten = totalReviewsWritten + allReviewsForThisUser[j][2]\n",
    "        if((allReviewsForThisUser[j][2] < 5) and (allReviewsForThisUser[j][2] >= 3)):\n",
    "            allReviewsForThisUser[j][1] = allReviewsForThisUser[j][1] + .01*(allReviewsForThisUser[j][2])\n",
    "        elif(allReviewsForThisUser[j][2] >= 5):\n",
    "            allReviewsForThisUser[j][1] = allReviewsForThisUser[j][1] + .02*(allReviewsForThisUser[j][2])\n",
    "    allReviewsForThisUser.sort(key=lambda x: x[1], reverse=True)\n",
    "    if(len(allReviewsForThisUser) > numOfPref): \n",
    "        return allReviewsForThisUser[:numOfPref] \n",
    "    else:\n",
    "        return allReviewsForThisUser "
   ]
  },
  {
   "cell_type": "code",
   "execution_count": 77,
   "metadata": {
    "collapsed": true
   },
   "outputs": [],
   "source": [
    "with open('final_data.json') as final_data:\n",
    "    finalData = json.load(final_data)\n"
   ]
  },
  {
   "cell_type": "code",
   "execution_count": 82,
   "metadata": {
    "collapsed": false
   },
   "outputs": [
    {
     "data": {
      "text/plain": [
       "u'52459'"
      ]
     },
     "execution_count": 82,
     "metadata": {},
     "output_type": "execute_result"
    }
   ],
   "source": [
    "finalData[1]['resId']"
   ]
  },
  {
   "cell_type": "code",
   "execution_count": 83,
   "metadata": {
    "collapsed": false
   },
   "outputs": [],
   "source": [
    "dictOfDishes = {}\n",
    "for eachResData in finalData:\n",
    "    dictOfDishes[eachResData['resId']] = eachResData['dishes'].keys()"
   ]
  },
  {
   "cell_type": "code",
   "execution_count": 85,
   "metadata": {
    "collapsed": false
   },
   "outputs": [],
   "source": [
    "del finalData"
   ]
  },
  {
   "cell_type": "code",
   "execution_count": 130,
   "metadata": {
    "collapsed": false
   },
   "outputs": [
    {
     "data": {
      "text/plain": [
       "[u'gajar halwa',\n",
       " u'salt',\n",
       " u'chicken 65',\n",
       " u'tea',\n",
       " u'fish',\n",
       " u'dosa',\n",
       " u'gobi manchurian',\n",
       " u'prawn',\n",
       " u'chutney',\n",
       " u'chai',\n",
       " u'juice',\n",
       " u'pulav',\n",
       " u'raita',\n",
       " u'shake',\n",
       " u'chicken',\n",
       " u'chapathi',\n",
       " u'butter chicken',\n",
       " u'tandoori chicken',\n",
       " u'mutton',\n",
       " u'kebab',\n",
       " u'paratha',\n",
       " u'parotta',\n",
       " u'payasam',\n",
       " u'nan',\n",
       " u'curries',\n",
       " u'desert',\n",
       " u'buttermilk',\n",
       " u'fried rice',\n",
       " u'mushroom manchurian',\n",
       " u'sambar',\n",
       " u'chapati',\n",
       " u'rice',\n",
       " u'naan',\n",
       " u'biryani',\n",
       " u'avial',\n",
       " u'tikka',\n",
       " u'coffee',\n",
       " u'gulab jamoon',\n",
       " u'egg biriyani',\n",
       " u'appam',\n",
       " u'dal',\n",
       " u'dessert',\n",
       " u'drink',\n",
       " u'chicken biryani',\n",
       " u'paneer',\n",
       " u'manchurian',\n",
       " u'appetizer',\n",
       " u'kabab',\n",
       " u'paneer 65',\n",
       " u'veg biriyani',\n",
       " u'main course',\n",
       " u'starter',\n",
       " u'mutton biryani',\n",
       " u'egg biryani',\n",
       " u'oreo',\n",
       " u'mushroom',\n",
       " u'tawa',\n",
       " u'salad',\n",
       " u'potato',\n",
       " u'soups',\n",
       " u'vanilla',\n",
       " u'kulcha',\n",
       " u'tandoor',\n",
       " u'banana',\n",
       " u'roti',\n",
       " u'soup',\n",
       " u'veg biryani',\n",
       " u'pakoda',\n",
       " u'chicken biriyani',\n",
       " u'cake',\n",
       " u'kheer',\n",
       " u'paneer tikka',\n",
       " u'curry',\n",
       " u'idli']"
      ]
     },
     "execution_count": 130,
     "metadata": {},
     "output_type": "execute_result"
    }
   ],
   "source": [
    "dictOfDishes['50045']"
   ]
  },
  {
   "cell_type": "code",
   "execution_count": 101,
   "metadata": {
    "collapsed": false
   },
   "outputs": [],
   "source": [
    "a = ['tarun', 'hp', 'amit']\n",
    "if('ami' in a):\n",
    "    print \"yes\""
   ]
  },
  {
   "cell_type": "code",
   "execution_count": 102,
   "metadata": {
    "collapsed": true
   },
   "outputs": [],
   "source": [
    "with open('dish_ratings.json') as dish_ratings:\n",
    "    dishRatings = json.load(dish_ratings)\n"
   ]
  },
  {
   "cell_type": "code",
   "execution_count": 104,
   "metadata": {
    "collapsed": false
   },
   "outputs": [
    {
     "name": "stdout",
     "output_type": "stream",
     "text": [
      "56608\n"
     ]
    }
   ],
   "source": [
    "print dishRatings[0]['resId']"
   ]
  },
  {
   "cell_type": "code",
   "execution_count": 110,
   "metadata": {
    "collapsed": false
   },
   "outputs": [
    {
     "name": "stdout",
     "output_type": "stream",
     "text": [
      "[u'kebab', u'tea', u'naan', u'gulab jamoon', u'chai', u'prawn', u'mousse', u'soup', u'juice', u'pastry', u'chicken', u'paratha', u'butter chicken', u'ice cream', u'mutton', u'chaat', u'brownies', u'dal makhni', u'butterscotch', u'nan', u'curries', u'chutney', u'buttermilk', u'fried rice', u'biryani', u'tikki', u'curd rice', u'puri', u'rice', u'fish', u'paneer tikka', u'tikka', u'drink', u'tomato soup', u'mushroom', u'mixed vegetable', u'dal', u'dessert', u'dal makhani', u'chicken biryani', u'paneer', u'brownie', u'appetizer', u'kabab', u'amritsari fish', u'chocolate', u'desert', u'mutton biryani', u'tawa', u'salad', u'potato', u'palak paneer', u'tandoori chicken', u'tandoor', u'roti', u'strawberry', u'mango', u'pakoda', u'chicken biriyani', u'shikampuri', u'cake', u'gulab jamun', u'curry', u'vanilla', u'idli', u'pastries']\n"
     ]
    }
   ],
   "source": [
    "rat = dishRatings[0]['dishRatings']['ChunksWithRatings']\n",
    "print dishRatings[0]['dishRatings']['ChunksWithRatings'].keys()"
   ]
  },
  {
   "cell_type": "code",
   "execution_count": 109,
   "metadata": {
    "collapsed": false
   },
   "outputs": [
    {
     "name": "stdout",
     "output_type": "stream",
     "text": [
      "[u'tomato soup okay', 0.75, 0.25]\n"
     ]
    }
   ],
   "source": [
    "print rat['tomato soup']"
   ]
  },
  {
   "cell_type": "code",
   "execution_count": 111,
   "metadata": {
    "collapsed": true
   },
   "outputs": [],
   "source": [
    "dictOfDishesRatings = {}\n",
    "for eachResRatingData in dishRatings:\n",
    "    dictOfDishesRatings[eachResRatingData['resId']] = eachResRatingData['dishRatings']['ChunksWithRatings']"
   ]
  },
  {
   "cell_type": "code",
   "execution_count": 115,
   "metadata": {
    "collapsed": false
   },
   "outputs": [
    {
     "name": "stdout",
     "output_type": "stream",
     "text": [
      "0.353216295899\n"
     ]
    }
   ],
   "source": [
    "print dictOfDishesRatings['56608']['kebab'][-2]"
   ]
  },
  {
   "cell_type": "code",
   "execution_count": 116,
   "metadata": {
    "collapsed": true
   },
   "outputs": [],
   "source": [
    "del dishRatings"
   ]
  },
  {
   "cell_type": "code",
   "execution_count": null,
   "metadata": {
    "collapsed": true
   },
   "outputs": [],
   "source": []
  }
 ],
 "metadata": {
  "kernelspec": {
   "display_name": "Python 2",
   "language": "python",
   "name": "python2"
  },
  "language_info": {
   "codemirror_mode": {
    "name": "ipython",
    "version": 2
   },
   "file_extension": ".py",
   "mimetype": "text/x-python",
   "name": "python",
   "nbconvert_exporter": "python",
   "pygments_lexer": "ipython2",
   "version": "2.7.10"
  }
 },
 "nbformat": 4,
 "nbformat_minor": 0
}
