{
 "cells": [
  {
   "cell_type": "code",
   "execution_count": 1,
   "metadata": {
    "collapsed": false
   },
   "outputs": [],
   "source": [
    "import graphlab as gl\n",
    "import re"
   ]
  },
  {
   "cell_type": "code",
   "execution_count": 2,
   "metadata": {
    "collapsed": false
   },
   "outputs": [
    {
     "ename": "ImportError",
     "evalue": "No module named pgmpy",
     "output_type": "error",
     "traceback": [
      "\u001b[1;31m---------------------------------------------------------------------------\u001b[0m",
      "\u001b[1;31mImportError\u001b[0m                               Traceback (most recent call last)",
      "\u001b[1;32m<ipython-input-2-06edd372467b>\u001b[0m in \u001b[0;36m<module>\u001b[1;34m()\u001b[0m\n\u001b[1;32m----> 1\u001b[1;33m \u001b[1;32mimport\u001b[0m \u001b[0mpgmpy\u001b[0m\u001b[1;33m\u001b[0m\u001b[0m\n\u001b[0m",
      "\u001b[1;31mImportError\u001b[0m: No module named pgmpy"
     ]
    }
   ],
   "source": [
    "import pgmpy"
   ]
  },
  {
   "cell_type": "code",
   "execution_count": 3,
   "metadata": {
    "collapsed": false
   },
   "outputs": [],
   "source": [
    "import numpy\n",
    "import scipy\n",
    "import pandas"
   ]
  },
  {
   "cell_type": "code",
   "execution_count": 4,
   "metadata": {
    "collapsed": false
   },
   "outputs": [],
   "source": [
    "import pyparsing\n",
    "import networkx"
   ]
  },
  {
   "cell_type": "code",
   "execution_count": 9,
   "metadata": {
    "collapsed": false
   },
   "outputs": [],
   "source": [
    "import requests\n",
    "import json"
   ]
  },
  {
   "cell_type": "code",
   "execution_count": 51,
   "metadata": {
    "collapsed": true
   },
   "outputs": [],
   "source": [
    "from __future__ import division"
   ]
  },
  {
   "cell_type": "code",
   "execution_count": 232,
   "metadata": {
    "collapsed": false
   },
   "outputs": [
    {
     "name": "stdout",
     "output_type": "stream",
     "text": [
      "Rolls On Wheels, Banaswadi\n",
      "<type 'dict'>\n",
      "7730 60417 55292\n"
     ]
    }
   ],
   "source": [
    "listOfRestauranIds = []\n",
    "with open('restaurantMapping.json') as json_data:\n",
    "    loadingResJsons = json.load(json_data)\n",
    "print loadingResJsons['61178']\n",
    "print type(loadingResJsons)\n",
    "count = 0\n",
    "\n",
    "urlList = loadingResJsons.keys()    \n",
    "print len(urlList), int(urlList[0]), urlList[1]"
   ]
  },
  {
   "cell_type": "code",
   "execution_count": 233,
   "metadata": {
    "collapsed": false
   },
   "outputs": [
    {
     "name": "stdout",
     "output_type": "stream",
     "text": [
      "7730\n"
     ]
    }
   ],
   "source": [
    "urlList = [int(i) for i in urlList]\n",
    "print len(urlList)\n",
    "urlList = sorted(list(urlList))"
   ]
  },
  {
   "cell_type": "code",
   "execution_count": 234,
   "metadata": {
    "collapsed": true
   },
   "outputs": [],
   "source": [
    "urlList = urlList[6000:]"
   ]
  },
  {
   "cell_type": "code",
   "execution_count": 201,
   "metadata": {
    "collapsed": true
   },
   "outputs": [],
   "source": [
    "import time\n",
    "import json"
   ]
  },
  {
   "cell_type": "code",
   "execution_count": 235,
   "metadata": {
    "collapsed": false
   },
   "outputs": [
    {
     "name": "stdout",
     "output_type": "stream",
     "text": [
      "1730\n",
      "SSLError(SSLError(SSLError('_ssl.c:574: The handshake operation timed out',),),)\n",
      "except entered 1\n",
      "SSLError(SSLError(SSLError('_ssl.c:574: The handshake operation timed out',),),)\n",
      "except entered 2\n",
      "SSLError(SSLError(SSLError('_ssl.c:574: The handshake operation timed out',),),)\n",
      "except entered 3\n",
      "SSLError(SSLError(SSLError('_ssl.c:574: The handshake operation timed out',),),)\n",
      "except entered 4\n",
      "SSLError(SSLError(SSLError('_ssl.c:574: The handshake operation timed out',),),)\n",
      "except entered 5\n",
      "SSLError(SSLError(SSLError('_ssl.c:574: The handshake operation timed out',),),)\n",
      "except entered 6\n",
      "SSLError(SSLError(SSLError('_ssl.c:574: The handshake operation timed out',),),)\n",
      "except entered 7\n",
      "SSLError(SSLError(SSLError('_ssl.c:574: The handshake operation timed out',),),)\n",
      "except entered 8\n",
      "count is 25 left :  1713\n",
      "SSLError(SSLError(SSLError('_ssl.c:574: The handshake operation timed out',),),)\n",
      "except entered 9\n",
      "SSLError(SSLError(SSLError('_ssl.c:574: The handshake operation timed out',),),)\n",
      "except entered 10\n",
      "count is 50 left :  1690\n",
      "SSLError(SSLError(SSLError('_ssl.c:574: The handshake operation timed out',),),)\n",
      "except entered 11\n",
      "SSLError(SSLError(SSLError('_ssl.c:574: The handshake operation timed out',),),)\n",
      "except entered 12\n",
      "SSLError(SSLError(SSLError('_ssl.c:574: The handshake operation timed out',),),)\n",
      "except entered 13\n",
      "count is 75 left :  1668\n",
      "SSLError(SSLError(SSLError('_ssl.c:574: The handshake operation timed out',),),)\n",
      "except entered 14\n",
      "SSLError(SSLError(SSLError('_ssl.c:574: The handshake operation timed out',),),)\n",
      "except entered 15\n",
      "count is 100 left :  1645\n",
      "count is 125 left :  1620\n",
      "count is 150 left :  1595\n",
      "SSLError(SSLError(SSLError('_ssl.c:574: The handshake operation timed out',),),)\n",
      "except entered 16\n",
      "count is 175 left :  1571\n",
      "SSLError(SSLError(SSLError('_ssl.c:574: The handshake operation timed out',),),)\n",
      "except entered 17\n",
      "SSLError(SSLError(SSLError('_ssl.c:574: The handshake operation timed out',),),)\n",
      "except entered 18\n",
      "SSLError(SSLError(SSLError('_ssl.c:574: The handshake operation timed out',),),)\n",
      "except entered 19\n",
      "count is 200 left :  1549\n",
      "SSLError(SSLError(SSLError('_ssl.c:574: The handshake operation timed out',),),)\n",
      "except entered 20\n",
      "SSLError(SSLError(SSLError('_ssl.c:574: The handshake operation timed out',),),)\n",
      "except entered 21\n",
      "count is 225 left :  1526\n",
      "SSLError(SSLError(SSLError('_ssl.c:574: The handshake operation timed out',),),)\n",
      "except entered 22\n",
      "count is 250 left :  1502\n",
      "SSLError(SSLError(SSLError('_ssl.c:574: The handshake operation timed out',),),)\n",
      "except entered 23\n",
      "SSLError(SSLError(SSLError('_ssl.c:574: The handshake operation timed out',),),)\n",
      "except entered 24\n",
      "SSLError(SSLError(SSLError('_ssl.c:574: The handshake operation timed out',),),)\n",
      "except entered 25\n",
      "count is 275 left :  1480\n",
      "SSLError(SSLError(SSLError('_ssl.c:574: The handshake operation timed out',),),)\n",
      "except entered 26\n",
      "SSLError(SSLError(SSLError('_ssl.c:574: The handshake operation timed out',),),)\n",
      "except entered 27\n",
      "count is 300 left :  1457\n",
      "SSLError(SSLError(SSLError('_ssl.c:574: The handshake operation timed out',),),)\n",
      "except entered 28\n",
      "count is 325 left :  1433\n",
      "count is 350 left :  1408\n",
      "count is 375 left :  1383\n",
      "SSLError(SSLError(SSLError('_ssl.c:574: The handshake operation timed out',),),)\n",
      "except entered 29\n",
      "SSLError(SSLError(SSLError('_ssl.c:574: The handshake operation timed out',),),)\n",
      "except entered 30\n",
      "SSLError(SSLError(SSLError('_ssl.c:574: The handshake operation timed out',),),)\n",
      "except entered 31\n",
      "count is 400 left :  1361\n",
      "SSLError(SSLError(SSLError('_ssl.c:574: The handshake operation timed out',),),)\n",
      "except entered 32\n",
      "SSLError(SSLError(SSLError('_ssl.c:574: The handshake operation timed out',),),)\n",
      "except entered 33\n",
      "count is 425 left :  1338\n",
      "SSLError(SSLError(SSLError('_ssl.c:574: The handshake operation timed out',),),)\n",
      "except entered 34\n",
      "Timeout(ReadTimeoutError(\"HTTPSConnectionPool(host='api.zomato.com', port=443): Read timed out.\",),)\n",
      "except entered 35\n",
      "count is 450 left :  1315\n",
      "SSLError(SSLError(SSLError('_ssl.c:574: The handshake operation timed out',),),)\n",
      "except entered 36\n",
      "SSLError(SSLError(SSLError('_ssl.c:574: The handshake operation timed out',),),)\n",
      "except entered 37\n",
      "SSLError(SSLError(SSLError('_ssl.c:574: The handshake operation timed out',),),)\n",
      "except entered 38\n",
      "SSLError(SSLError(SSLError('_ssl.c:574: The handshake operation timed out',),),)\n",
      "except entered 39\n",
      "count is 475 left :  1294\n",
      "SSLError(SSLError(SSLError('_ssl.c:574: The handshake operation timed out',),),)\n",
      "except entered 40\n",
      "SSLError(SSLError(SSLError('_ssl.c:574: The handshake operation timed out',),),)\n",
      "except entered 41\n",
      "SSLError(SSLError(SSLError('_ssl.c:574: The handshake operation timed out',),),)\n",
      "except entered 42\n",
      "count is 500 left :  1272\n",
      "SSLError(SSLError(SSLError('_ssl.c:574: The handshake operation timed out',),),)\n",
      "except entered 43\n",
      "count is 525 left :  1248\n",
      "SSLError(SSLError(SSLError('_ssl.c:574: The handshake operation timed out',),),)\n",
      "except entered 44\n",
      "count is 550 left :  1224\n",
      "SSLError(SSLError(SSLError('_ssl.c:574: The handshake operation timed out',),),)\n",
      "except entered 45\n",
      "SSLError(SSLError(SSLError('_ssl.c:574: The handshake operation timed out',),),)\n",
      "except entered 46\n",
      "SSLError(SSLError(SSLError('_ssl.c:574: The handshake operation timed out',),),)\n",
      "except entered 47\n",
      "SSLError(SSLError(SSLError('_ssl.c:574: The handshake operation timed out',),),)\n",
      "except entered 48\n",
      "count is 575 left :  1203\n",
      "SSLError(SSLError(SSLError('_ssl.c:574: The handshake operation timed out',),),)\n",
      "except entered 49\n",
      "SSLError(SSLError(SSLError('_ssl.c:574: The handshake operation timed out',),),)\n",
      "except entered 50\n",
      "count is 600 left :  1180\n",
      "SSLError(SSLError(SSLError('_ssl.c:574: The handshake operation timed out',),),)\n",
      "except entered 51\n",
      "SSLError(SSLError(SSLError('_ssl.c:574: The handshake operation timed out',),),)\n",
      "except entered 52\n",
      "count is 625 left :  1157\n",
      "SSLError(SSLError(SSLError('_ssl.c:574: The handshake operation timed out',),),)\n",
      "except entered 53\n",
      "count is 650 left :  1133\n",
      "count is 675 left :  1108\n",
      "SSLError(SSLError(SSLError('_ssl.c:574: The handshake operation timed out',),),)\n",
      "except entered 54\n",
      "SSLError(SSLError(SSLError('_ssl.c:574: The handshake operation timed out',),),)\n",
      "except entered 55\n",
      "count is 700 left :  1085\n",
      "count is 725 left :  1060\n",
      "count is 750 left :  1035\n",
      "count is 775 left :  1010\n",
      "SSLError(SSLError(SSLError('_ssl.c:574: The handshake operation timed out',),),)\n",
      "except entered 56\n",
      "count is 800 left :  986\n",
      "SSLError(SSLError(SSLError('_ssl.c:574: The handshake operation timed out',),),)\n",
      "except entered 57\n",
      "count is 825 left :  962\n",
      "count is 850 left :  937\n",
      "SSLError(SSLError(SSLError('_ssl.c:574: The handshake operation timed out',),),)\n",
      "except entered 58\n",
      "count is 875 left :  913\n",
      "SSLError(SSLError(SSLError('_ssl.c:574: The handshake operation timed out',),),)\n",
      "except entered 59\n",
      "SSLError(SSLError(SSLError('_ssl.c:574: The handshake operation timed out',),),)\n",
      "except entered 60\n",
      "count is 900 left :  890\n",
      "count is 925 left :  865\n",
      "SSLError(SSLError(SSLError('_ssl.c:574: The handshake operation timed out',),),)\n",
      "except entered 61\n",
      "SSLError(SSLError(SSLError('_ssl.c:574: The handshake operation timed out',),),)\n",
      "except entered 62\n",
      "count is 950 left :  842\n",
      "count is 975 left :  817\n",
      "SSLError(SSLError(SSLError('_ssl.c:574: The handshake operation timed out',),),)\n",
      "except entered 63\n",
      "count is 1000 left :  793\n",
      "count is 1025 left :  768\n",
      "count is 1050 left :  743\n",
      "count is 1075 left :  718\n",
      "count is 1100 left :  693\n",
      "count is 1125 left :  668\n",
      "count is 1150 left :  643\n",
      "SSLError(SSLError(SSLError('_ssl.c:574: The handshake operation timed out',),),)\n",
      "except entered 64\n",
      "count is 1175 left :  619\n",
      "count is 1200 left :  594\n",
      "count is 1225 left :  569\n",
      "count is 1250 left :  544\n",
      "count is 1275 left :  519\n",
      "count is 1300 left :  494\n",
      "SSLError(SSLError(SSLError('_ssl.c:574: The handshake operation timed out',),),)\n",
      "except entered 65\n",
      "SSLError(SSLError(SSLError('_ssl.c:574: The handshake operation timed out',),),)\n",
      "except entered 66\n",
      "count is 1325 left :  471\n",
      "count is 1350 left :  446\n",
      "count is 1375 left :  421\n",
      "count is 1400 left :  396\n",
      "SSLError(SSLError(SSLError('_ssl.c:574: The handshake operation timed out',),),)\n",
      "except entered 67\n",
      "count is 1425 left :  372\n",
      "count is 1450 left :  347\n",
      "count is 1475 left :  322\n",
      "count is 1500 left :  297\n",
      "SSLError(SSLError(SSLError('_ssl.c:574: The handshake operation timed out',),),)\n",
      "except entered 68\n",
      "count is 1525 left :  273\n",
      "count is 1550 left :  248\n",
      "SSLError(SSLError(SSLError('_ssl.c:574: The handshake operation timed out',),),)\n",
      "except entered 69\n",
      "count is 1575 left :  224\n",
      "count is 1600 left :  199\n",
      "count is 1625 left :  174\n",
      "SSLError(SSLError(SSLError('_ssl.c:574: The handshake operation timed out',),),)\n",
      "except entered 70\n",
      "count is 1650 left :  150\n",
      "count is 1675 left :  125\n",
      "count is 1700 left :  100\n",
      "count is 1725 left :  75\n",
      "count is 1750 left :  50\n",
      "count is 1775 left :  25\n",
      "count is 1800 left :  0\n"
     ]
    }
   ],
   "source": [
    "res = open(\"resTry4.csv\", \"w\")\n",
    "headers = {\n",
    "                'X-Zomato-API-Key': \"7749b19667964b87a3efc739e254ada2\",\n",
    "                'cache-control': \"no-cache\",\n",
    "                \"user-agent\" : \"myapp\",\n",
    "                'postman-token': \"58b1afdb-8a80-b361-bfc8-4949a8215857\"\n",
    "        }\n",
    "url = \"https://api.zomato.com/v1/restaurant.json/56126\"\n",
    "#urlList = loadingResJsons.keys()\n",
    "fpJSONFull = open('dataJsonFull4.txt', 'w')\n",
    "lol4 = []\n",
    "print len(urlList)\n",
    "TimeOut4 = []\n",
    "triedTwice4 = []\n",
    "triedThrice4 = []\n",
    "exCount4 = 0\n",
    "fpExcept = open('unVisited4.txt', 'w')\n",
    "fpJSON = open(\"dataJson4.txt\",'w')\n",
    "count = 0\n",
    "headerForCsv = \"id\" + \",\" + \"name\" + \",\" + \"cuisines\" + \",\" + \"avgCostForTwo\" + \",\" + \"takeaway_flag\" + \",\" + \"smoking_area_flag\"+ \",\" + \"isPureVeg\" + \",\" + \"hasBar\" + \",\" + \"hasDineIn\" + \",\" + \"hasDelivery\" + \",\" + \"hasAC\" + \",\" + \"hasWifi\" + \",\" + \"hasLiveMusic\" + \",\" + \"acceptsCreditCards\" + \",\" + \"buffet_details\" + \",\" + \"numOfUserReviews\" + \",\" + \"AverageRatings\" + \",\" + \"locality\" + \",\" + \"startTime\" + \",\"+ \"endTime\"+\",\"+ \"editorFood\" + \",\" + \"editorAmbience\" + \",\" + \"editorOverall\" + \",\" + \"editorService\"\n",
    "res.write(headerForCsv)\n",
    "res.write('\\n')\n",
    "noWorkIds = []\n",
    "\n",
    "#print urlList\n",
    "while(urlList):\n",
    "    urlList = sorted(urlList)\n",
    "    u = urlList.pop(0)\n",
    "    #print u\n",
    "    #print str(u)\n",
    "    count = count + 1\n",
    "    if((count % 25) == 0):\n",
    "        print \"count is\", count, \"left : \", len(urlList)\n",
    "        time.sleep(1)\n",
    "    try:    \n",
    "        \n",
    "        currentURL = \"https://api.zomato.com/v1/restaurant.json/\" + str(u)\n",
    "        response = requests.get(currentURL, headers=headers,timeout=3.5)\n",
    "        #print type(response.content)\n",
    "        #print type(response.json())\n",
    "        d = response.json()\n",
    "        jsonKeys = ['name','cuisines','avgCostForTwo','takeaway_flag','smoking_area_flag', 'isPureVeg', 'hasBar', 'hasDineIn', 'hasDelivery','hasAC','hasWifi','hasLiveMusic','acceptsCreditCards','buffet_details','timings']\n",
    "        wanted_keys = ['name','cuisines','avgCostForTwo','takeaway_flag','smoking_area_flag', 'isPureVeg', 'hasBar', 'hasDineIn', 'hasDelivery','hasAC','hasWifi','hasLiveMusic','acceptsCreditCards','buffet_details']\n",
    "        writeJson = str(u)\n",
    "\n",
    "        fpJSONFull.write(json.dumps(d,indent=True))\n",
    "        fpJSONFull.write(\"\\n\")\n",
    "        b = {key:d[key] for key in jsonKeys}\n",
    "        b['id'] = u\n",
    "        fpJSON.write(json.dumps(b,indent=True))\n",
    "        fpJSON.write(\"\\n\")\n",
    "        \n",
    "        for each in wanted_keys :\n",
    "            if(str(d[each]) != \"\"):\n",
    "                ch = re.sub(\"\"\",\"\"\",\"#\",str(d[each]),re.I|re.S)\n",
    "                writeJson = writeJson +\",\"+ ch\n",
    "                #print each, str(d[each])\n",
    "            else:\n",
    "                writeJson = writeJson +\",\"+ \"N/A\"\n",
    "                #print each, 'NA'\n",
    "            #print d[each]\n",
    "        #print \"reached Here\"\n",
    "        userReviews = d['userReviews']\n",
    "        #print \"reached Here2\"\n",
    "\n",
    "        numberOfReviews = re.search(\"\"\"u'count':\\s*(.*?),\"\"\",str(userReviews),re.I|re.S).group(1)\n",
    "        #print numberOfReviews\n",
    "        writeJson = writeJson + \",\" + numberOfReviews\n",
    "        userReviews = str(userReviews)\n",
    "        userRatings = re.findall(\"\"\"'rating':\\s*(.*?),\"\"\", str(userReviews) ,re.I|re.S)\n",
    "        #print userRatings\n",
    "        avgRating = 0\n",
    "        for rate in userRatings:\n",
    "            avgRating = avgRating + int(rate)\n",
    "        if(len(userRatings)!=0):\n",
    "            avgRating = avgRating/len(userRatings)\n",
    "        \n",
    "        writeJson = writeJson +\",\"+  str(avgRating)\n",
    "        #print avgRating\n",
    "        \n",
    "        if(str(d['location']) != \"\"):\n",
    "            locate = d['location']\n",
    "            loc = locate['locality']\n",
    "            loc = re.sub(\"\"\",\"\"\",\"#\",loc,re.I|re.S)\n",
    "            writeJson = writeJson +\",\"+  loc\n",
    "            #print \"locality\", loc\n",
    "        else:\n",
    "            writeJson = writeJson +\",\"+  \"N/A\"\n",
    "            #print \"locality\", 'N/A'\n",
    "        #print \"here\"\n",
    "        if(str(d['timings']) != \"\"):\n",
    "            tim = d['timings']\n",
    "        #    writeJson = writeJson +\",\"+  t\n",
    "            startTime = re.search(\"\"\"\\s*(.*?)\\s*AM\"\"\",tim,re.I|re.S)\n",
    "            if(startTime != None):\n",
    "                startTime = startTime.group(1)\n",
    "                startTime = re.sub(\"\"\",\"\"\", \"#\",startTime,re.I|re.S)\n",
    "            else:\n",
    "                startTime = 'N/A'\n",
    "            \n",
    "            endTime = re.search(\"\"\"to\\s*(.*?)\\s*PM\"\"\",tim,re.I|re.S)\n",
    "            if(endTime != None):\n",
    "                endTime = endTime.group(1)\n",
    "                endTime = re.sub(\"\"\",\"\"\", \"#\",endTime,re.I|re.S)\n",
    "                #endTime = str(int(endTime) + 12\n",
    "            else:\n",
    "                endTime = 'N/A'\n",
    "            #print \"endTime\", endTime\n",
    "            writeJson = writeJson +\",\"+ startTime + \",\" + endTime\n",
    "            \n",
    "        else:\n",
    "            writeJson = writeJson +\",\"+  \"N/A\" + \",\" + \"N/A\"\n",
    "            #print \"tim\", 'N/A'\n",
    "        #print \"here2\"\n",
    "        editor = \"\"\n",
    "        editorAmbience = 'N/A'\n",
    "        editorFood = 'N/A'\n",
    "        editorOverall = 'N/A'\n",
    "        editorService = 'N/A'\n",
    "        \n",
    "        #print 'reached Here3'\n",
    "        editor = re.search(\"\"\"ambience\\s*:\\s*(.*?),\"\"\", str(d), re.I|re.S)\n",
    "        if(editor != None):\n",
    "            editorF = re.search(\"\"\"food':\\s*(.*?),\"\"\", str(d['editorRating']), re.I|re.S)\n",
    "            if(editorF != None):\n",
    "                editorFood = editorF.group(1)\n",
    "            \n",
    "            editorAmb = re.search(\"\"\"ambience':\\s*(.*?),\"\"\", str(d['editorRating']), re.I|re.S)\n",
    "            if(editorAmb != None):\n",
    "                editorAmbience = editorAmb.group(1)\n",
    "\n",
    "            editorO = re.search(\"\"\"overall':\\s*(.*?),\"\"\", str(d['editorRating']), re.I|re.S)\n",
    "            if(editorO != None):\n",
    "                editorOverall = editorO.group(1)\n",
    "            editorServ = re.search(\"\"\"service':\\s*(.*?),\"\"\", str(d['editorRating']), re.I|re.S)\n",
    "            if(editorServ != None):\n",
    "                editorService = editorServ.group(1)\n",
    "\n",
    "        writeJson = writeJson +\",\"+ editorFood + \",\" + editorAmbience +\",\"+ editorOverall +\",\"+ editorService\n",
    "        \n",
    "        res.write(writeJson)\n",
    "        res.write('\\n')\n",
    "        \n",
    "    except Exception,e:\n",
    "     \n",
    "        print repr(e)\n",
    "        exCount4 = exCount4 + 1\n",
    "         \n",
    "        if(\"time\" in repr(e)):\n",
    "            if(u not in triedTwice4):\n",
    "                urlList.append(u)\n",
    "                triedTwice4.append(u)\n",
    "            elif(u not in triedThrice4):\n",
    "                urlList.append(u)\n",
    "                triedThrice4.append(u)\n",
    "            else:\n",
    "                TimeOut4.append(u)       \n",
    "#                fpExcept.write(str(u))\n",
    "#                fpExcept.write(\"\\n\")\n",
    "    \n",
    "        else:\n",
    "            lol4.append(u)\n",
    "#            fpExcept.write(str(u))\n",
    "#            fpExcept.write(\"\\n\")\n",
    "            \n",
    "        print \"except entered\", exCount4\n",
    "fpExcept.close()\n",
    "res.close()"
   ]
  },
  {
   "cell_type": "code",
   "execution_count": 183,
   "metadata": {
    "collapsed": true
   },
   "outputs": [],
   "source": [
    "exc1 = TimeOut\n",
    "exc11 = lol"
   ]
  },
  {
   "cell_type": "code",
   "execution_count": 46,
   "metadata": {
    "collapsed": false
   },
   "outputs": [],
   "source": [
    "res = open(\"try.csv\", \"w\")\n",
    "str1 = \"helo\"\n",
    "str2 = \"heaslo\"\n",
    "st = str1 + \",\" + \"str2\"\n",
    "res.write(st)\n",
    "\n",
    "res.write('\\n')\n",
    "\n",
    "str1 = \"helo1\"\n",
    "str2 = \"heaslo2\"\n",
    "st = str1 + \",\" + \"str2\"\n",
    "res.write(st)\n",
    "res.close()\n"
   ]
  },
  {
   "cell_type": "code",
   "execution_count": 236,
   "metadata": {
    "collapsed": false
   },
   "outputs": [
    {
     "name": "stdout",
     "output_type": "stream",
     "text": [
      "PROGRESS: Finished parsing file C:\\Users\\Tarun Tater\\Desktop\\sem8\\ML2Project\\resTry.csv\n",
      "PROGRESS: Parsing completed. Parsed 100 lines in 0.442965 secs.\n",
      "------------------------------------------------------\n",
      "Inferred types from first line of file as \n",
      "column_type_hints=[long,str,str,long,long,long,long,long,long,long,long,long,long,long,str,long,float,str,str,str,str,str,str,str]\n",
      "If parsing fails due to incorrect types, you can correct\n",
      "the inferred type list above and pass it to read_csv in\n",
      "the column_type_hints argument\n",
      "------------------------------------------------------\n",
      "PROGRESS: Unable to parse line \"52500,Tomatina,Continental# Chinese# North Indian,800,1,1,1,N/A,N/A,N/A,,,,,,,,,,,,,,\"\n",
      "PROGRESS: Unable to parse line \"On Other Days TDH Service (Se,213,3.6,HSR,10:30,3:30,N/A,0,1,1,1,0,2,1,N/A,19,4,JP Nagar,7,11,N/A,N/A,N/A,N/A\"\n",
      "PROGRESS: 2 lines failed to parse correctly\n",
      "PROGRESS: Finished parsing file C:\\Users\\Tarun Tater\\Desktop\\sem8\\ML2Project\\resTry.csv\n",
      "PROGRESS: Parsing completed. Parsed 1484 lines in 0.178385 secs.\n",
      "Could not detect types. Using str for each column.\n"
     ]
    },
    {
     "ename": "RuntimeError",
     "evalue": "Runtime Exception. No files corresponding to the specified path (C:\\Users\\Tarun Tater\\Desktop\\sem8\\ML2Project\\resTry1,csv).",
     "output_type": "error",
     "traceback": [
      "\u001b[1;31m---------------------------------------------------------------------------\u001b[0m",
      "\u001b[1;31mRuntimeError\u001b[0m                              Traceback (most recent call last)",
      "\u001b[1;32m<ipython-input-236-01b2b953a403>\u001b[0m in \u001b[0;36m<module>\u001b[1;34m()\u001b[0m\n\u001b[0;32m      1\u001b[0m \u001b[0mt\u001b[0m \u001b[1;33m=\u001b[0m \u001b[0mgl\u001b[0m\u001b[1;33m.\u001b[0m\u001b[0mSFrame\u001b[0m\u001b[1;33m.\u001b[0m\u001b[0mread_csv\u001b[0m\u001b[1;33m(\u001b[0m\u001b[1;34m\"resTry.csv\"\u001b[0m\u001b[1;33m)\u001b[0m\u001b[1;33m\u001b[0m\u001b[0m\n\u001b[1;32m----> 2\u001b[1;33m \u001b[0mt1\u001b[0m \u001b[1;33m=\u001b[0m \u001b[0mgl\u001b[0m\u001b[1;33m.\u001b[0m\u001b[0mSFrame\u001b[0m\u001b[1;33m.\u001b[0m\u001b[0mread_csv\u001b[0m\u001b[1;33m(\u001b[0m\u001b[1;34m\"resTry1,csv\"\u001b[0m\u001b[1;33m)\u001b[0m\u001b[1;33m\u001b[0m\u001b[0m\n\u001b[0m",
      "\u001b[1;32mC:\\Anaconda2\\envs\\data-env\\lib\\site-packages\\graphlab\\data_structures\\sframe.pyc\u001b[0m in \u001b[0;36mread_csv\u001b[1;34m(cls, url, delimiter, header, error_bad_lines, comment_char, escape_char, double_quote, quote_char, skip_initial_space, column_type_hints, na_values, line_terminator, usecols, nrows, skiprows, verbose, **kwargs)\u001b[0m\n\u001b[0;32m   1537\u001b[0m                                   \u001b[0mverbose\u001b[0m\u001b[1;33m=\u001b[0m\u001b[0mverbose\u001b[0m\u001b[1;33m,\u001b[0m\u001b[1;33m\u001b[0m\u001b[0m\n\u001b[0;32m   1538\u001b[0m                                   \u001b[0mstore_errors\u001b[0m\u001b[1;33m=\u001b[0m\u001b[0mFalse\u001b[0m\u001b[1;33m,\u001b[0m\u001b[1;33m\u001b[0m\u001b[0m\n\u001b[1;32m-> 1539\u001b[1;33m                                   **kwargs)[0]\n\u001b[0m\u001b[0;32m   1540\u001b[0m \u001b[1;33m\u001b[0m\u001b[0m\n\u001b[0;32m   1541\u001b[0m \u001b[1;33m\u001b[0m\u001b[0m\n",
      "\u001b[1;32mC:\\Anaconda2\\envs\\data-env\\lib\\site-packages\\graphlab\\data_structures\\sframe.pyc\u001b[0m in \u001b[0;36m_read_csv_impl\u001b[1;34m(cls, url, delimiter, header, error_bad_lines, comment_char, escape_char, double_quote, quote_char, skip_initial_space, column_type_hints, na_values, line_terminator, usecols, nrows, skiprows, verbose, store_errors, **kwargs)\u001b[0m\n\u001b[0;32m   1097\u001b[0m                 \u001b[0mglconnect\u001b[0m\u001b[1;33m.\u001b[0m\u001b[0mget_client\u001b[0m\u001b[1;33m(\u001b[0m\u001b[1;33m)\u001b[0m\u001b[1;33m.\u001b[0m\u001b[0mset_log_progress\u001b[0m\u001b[1;33m(\u001b[0m\u001b[0mFalse\u001b[0m\u001b[1;33m)\u001b[0m\u001b[1;33m\u001b[0m\u001b[0m\n\u001b[0;32m   1098\u001b[0m             \u001b[1;32mwith\u001b[0m \u001b[0mcython_context\u001b[0m\u001b[1;33m(\u001b[0m\u001b[1;33m)\u001b[0m\u001b[1;33m:\u001b[0m\u001b[1;33m\u001b[0m\u001b[0m\n\u001b[1;32m-> 1099\u001b[1;33m                 \u001b[0merrors\u001b[0m \u001b[1;33m=\u001b[0m \u001b[0mproxy\u001b[0m\u001b[1;33m.\u001b[0m\u001b[0mload_from_csvs\u001b[0m\u001b[1;33m(\u001b[0m\u001b[0minternal_url\u001b[0m\u001b[1;33m,\u001b[0m \u001b[0mparsing_config\u001b[0m\u001b[1;33m,\u001b[0m \u001b[0mtype_hints\u001b[0m\u001b[1;33m)\u001b[0m\u001b[1;33m\u001b[0m\u001b[0m\n\u001b[0m\u001b[0;32m   1100\u001b[0m         \u001b[1;32mexcept\u001b[0m \u001b[0mException\u001b[0m \u001b[1;32mas\u001b[0m \u001b[0me\u001b[0m\u001b[1;33m:\u001b[0m\u001b[1;33m\u001b[0m\u001b[0m\n\u001b[0;32m   1101\u001b[0m             \u001b[1;32mif\u001b[0m \u001b[0mtype\u001b[0m\u001b[1;33m(\u001b[0m\u001b[0me\u001b[0m\u001b[1;33m)\u001b[0m \u001b[1;33m==\u001b[0m \u001b[0mRuntimeError\u001b[0m \u001b[1;32mand\u001b[0m \u001b[1;34m\"CSV parsing cancelled\"\u001b[0m \u001b[1;32min\u001b[0m \u001b[0me\u001b[0m\u001b[1;33m.\u001b[0m\u001b[0mmessage\u001b[0m\u001b[1;33m:\u001b[0m\u001b[1;33m\u001b[0m\u001b[0m\n",
      "\u001b[1;32mC:\\Anaconda2\\envs\\data-env\\lib\\site-packages\\graphlab\\cython\\context.pyc\u001b[0m in \u001b[0;36m__exit__\u001b[1;34m(self, exc_type, exc_value, traceback)\u001b[0m\n\u001b[0;32m     47\u001b[0m             \u001b[1;32mif\u001b[0m \u001b[1;32mnot\u001b[0m \u001b[0mself\u001b[0m\u001b[1;33m.\u001b[0m\u001b[0mshow_cython_trace\u001b[0m\u001b[1;33m:\u001b[0m\u001b[1;33m\u001b[0m\u001b[0m\n\u001b[0;32m     48\u001b[0m                 \u001b[1;31m# To hide cython trace, we re-raise from here\u001b[0m\u001b[1;33m\u001b[0m\u001b[1;33m\u001b[0m\u001b[0m\n\u001b[1;32m---> 49\u001b[1;33m                 \u001b[1;32mraise\u001b[0m \u001b[0mexc_type\u001b[0m\u001b[1;33m(\u001b[0m\u001b[0mexc_value\u001b[0m\u001b[1;33m)\u001b[0m\u001b[1;33m\u001b[0m\u001b[0m\n\u001b[0m\u001b[0;32m     50\u001b[0m             \u001b[1;32melse\u001b[0m\u001b[1;33m:\u001b[0m\u001b[1;33m\u001b[0m\u001b[0m\n\u001b[0;32m     51\u001b[0m                 \u001b[1;31m# To show the full trace, we do nothing and let exception propagate\u001b[0m\u001b[1;33m\u001b[0m\u001b[1;33m\u001b[0m\u001b[0m\n",
      "\u001b[1;31mRuntimeError\u001b[0m: Runtime Exception. No files corresponding to the specified path (C:\\Users\\Tarun Tater\\Desktop\\sem8\\ML2Project\\resTry1,csv)."
     ]
    }
   ],
   "source": [
    "t = gl.SFrame.read_csv(\"resTry.csv\")\n",
    "t1 = gl.SFrame.read_csv(\"resTry1,csv\")"
   ]
  },
  {
   "cell_type": "code",
   "execution_count": 237,
   "metadata": {
    "collapsed": false
   },
   "outputs": [
    {
     "name": "stdout",
     "output_type": "stream",
     "text": [
      "+-------+--------------------------------+-------------------------------+---------------+\n",
      "|   id  |              name              |            cuisines           | avgCostForTwo |\n",
      "+-------+--------------------------------+-------------------------------+---------------+\n",
      "| 38764 |         Yana Sizzlers          | Chinese# Thai# Seafood# It... |      1100     |\n",
      "| 50000 |          Spicy North           |     North Indian# Chinese     |      300      |\n",
      "| 50001 |              1947              |     North Indian# Chinese     |      750      |\n",
      "| 50003 | 100 FT Boutique Bar Restaurant | Continental# Mediterranean... |      1500     |\n",
      "|  None |                                |                               |      None     |\n",
      "| 50004 |   12th Main - Grand Mercure    |        European# Asian        |      2000     |\n",
      "| 50005 |         18 China Town          |            Chinese            |      550      |\n",
      "| 50008 | 9th Mile Dhaba - Royal Orc...  |          North Indian         |      1200     |\n",
      "| 50009 |      AM Biryani Junction       | Biryani# North Indian# Sou... |      300      |\n",
      "| 50011 |   A2B - Adyar Ananda Bhavan    | South Indian# North Indian... |      300      |\n",
      "+-------+--------------------------------+-------------------------------+---------------+\n",
      "+---------------+-------------------+-----------+--------+-----------+-------------+\n",
      "| takeaway_flag | smoking_area_flag | isPureVeg | hasBar | hasDineIn | hasDelivery |\n",
      "+---------------+-------------------+-----------+--------+-----------+-------------+\n",
      "|       1       |         2         |     0     |   0    |     1     |      0      |\n",
      "|       0       |         2         |     1     |   0    |     1     |      1      |\n",
      "|       0       |         2         |     1     |   0    |     1     |      1      |\n",
      "|       1       |         1         |     0     |   1    |     1     |      1      |\n",
      "|      None     |        None       |    None   |   1    |     1     |      0      |\n",
      "|       1       |         1         |     0     |   0    |     0     |      1      |\n",
      "|       1       |         2         |     0     |   1    |     0     |      0      |\n",
      "|       0       |         2         |     0     |   0    |     1     |      1      |\n",
      "|       1       |         2         |     0     |   0    |     1     |      0      |\n",
      "|       1       |         2         |     1     |   0    |     1     |      0      |\n",
      "+---------------+-------------------+-----------+--------+-----------+-------------+\n",
      "+-------+---------+--------------+--------------------+\n",
      "| hasAC | hasWifi | hasLiveMusic | acceptsCreditCards |\n",
      "+-------+---------+--------------+--------------------+\n",
      "|   1   |    0    |      2       |         1          |\n",
      "|   0   |    0    |      2       |         1          |\n",
      "|   1   |    0    |      2       |         1          |\n",
      "|   1   |    1    |      2       |         1          |\n",
      "|   1   |    1    |      2       |         1          |\n",
      "|   1   |    0    |      2       |         1          |\n",
      "|   0   |    1    |      2       |         1          |\n",
      "|   0   |    0    |      2       |         1          |\n",
      "|   1   |    0    |      2       |         1          |\n",
      "|   0   |    0    |      2       |         1          |\n",
      "+-------+---------+--------------+--------------------+\n",
      "+-------------------------------+------------------+----------------+\n",
      "|         buffet_details        | numOfUserReviews | AverageRatings |\n",
      "+-------------------------------+------------------+----------------+\n",
      "|              N/A              |       376        |      4.4       |\n",
      "|              N/A              |        25        |      3.0       |\n",
      "|              N/A              |       154        |      3.2       |\n",
      "|              N/A              |       478        |      3.2       |\n",
      "| Rs. 549 +TAX # Rs. 275 +TA... |        92        |      3.4       |\n",
      "|              N/A              |        27        |      3.0       |\n",
      "|              N/A              |        80        |      3.4       |\n",
      "|              N/A              |        2         |      3.5       |\n",
      "|              N/A              |       168        |      4.2       |\n",
      "|              N/A              |        6         |      3.6       |\n",
      "+-------------------------------+------------------+----------------+\n",
      "+-----------------------+-----------+---------+-----+\n",
      "|        locality       | startTime | endTime | ... |\n",
      "+-----------------------+-----------+---------+-----+\n",
      "| Koramangala 5th Block |   11:30   |   3:30  | ... |\n",
      "|       Jayanagar       |    N/A    |    4    | ... |\n",
      "|      Banashankari     |    N/A    |   3:30  | ... |\n",
      "|      Indiranagar      |     11    |    11   | ... |\n",
      "| Koramangala 3rd Block |    6:30   |  11:30  | ... |\n",
      "|       Banaswadi       |    N/A    |   3:30  | ... |\n",
      "|       Yelahanka       |    N/A    |   3:30  | ... |\n",
      "|     Richmond Road     |     11    |    4    | ... |\n",
      "|          BTM          |     7     |    11   | ... |\n",
      "|        Majestic       |     7     |    11   | ... |\n",
      "+-----------------------+-----------+---------+-----+\n",
      "[1484 rows x 24 columns]\n",
      "Note: Only the head of the SFrame is printed.\n",
      "You can use print_rows(num_rows=m, num_columns=n) to print more rows and columns.\n"
     ]
    }
   ],
   "source": [
    "print t"
   ]
  },
  {
   "cell_type": "code",
   "execution_count": null,
   "metadata": {
    "collapsed": true
   },
   "outputs": [],
   "source": []
  },
  {
   "cell_type": "code",
   "execution_count": 120,
   "metadata": {
    "collapsed": false
   },
   "outputs": [
    {
     "name": "stdout",
     "output_type": "stream",
     "text": [
      "reservation_text\n",
      "takeaway_flag\n",
      "cuisines\n",
      "opening_soon_flag\n",
      "nightlife_flag\n",
      "establishment_types\n",
      "is_open_now\n",
      "has_emirates_discount\n",
      "image_150_150\n",
      "image_310_150\n",
      "userRating\n",
      "emirates_discount_flag\n",
      "bar_wineandbeer_flag\n",
      "menu\n",
      "sports_bar_flag\n",
      "entry_fee\n",
      "id\n",
      "outdoor_seating_flag\n",
      "hasWifi\n",
      "bar_byob_flag\n",
      "group\n",
      "hasBar\n",
      "cost_of_beer\n",
      "serves_veg_flag\n",
      "serviceCharge\n",
      "bar_fullbar_flag\n",
      "discounts\n",
      "editorRating\n",
      "sheesha_flag\n",
      "location\n",
      "stag_entry_flag\n",
      "isPureVeg\n",
      "mobile_phone_display\n",
      "buffet_details\n",
      "hasAC\n",
      "vat\n",
      "citibank_discount_detail\n",
      "mobile_phone\n",
      "bar_wineonly_flag\n",
      "happy_hour_details\n",
      "status_id\n",
      "hasDelivery\n",
      "phone\n",
      "acceptsCreditCards\n",
      "image_470_310\n",
      "hasDineIn\n",
      "halal_flag\n",
      "serves_nonveg_flag\n",
      "userReviews\n",
      "name\n",
      "photos\n",
      "url\n",
      "editorReview\n",
      "timings\n",
      "smoking_area_flag\n",
      "has_citibank_discount\n",
      "image_310_310\n",
      "meal_coupon_flag\n",
      "avgCostForTwo\n",
      "hasLiveMusic\n"
     ]
    }
   ],
   "source": [
    "for key in d:\n",
    "    print key"
   ]
  },
  {
   "cell_type": "code",
   "execution_count": 121,
   "metadata": {
    "collapsed": false
   },
   "outputs": [
    {
     "name": "stdout",
     "output_type": "stream",
     "text": [
      "{u'reservation_text': u'', u'takeaway_flag': 1, u'cuisines': u'South Indian', u'opening_soon_flag': 0, u'nightlife_flag': 0, u'establishment_types': [{u'establishment_type': {u'id': 16, u'name': u'Casual Dining'}}], u'is_open_now': 0, u'has_emirates_discount': 0, u'image_150_150': u'https://b.zmtcdn.com/images/default_thumb_150_150.png', u'image_310_150': u'https://b.zmtcdn.com/images/default_thumb_310_150.png', u'userRating': {u'aggregate': u'0', u'votes': 3, u'rating_text': u'Not rated', u'rating_color': u'CBCBC8'}, u'emirates_discount_flag': u'', u'bar_wineandbeer_flag': 0, u'menu': [], u'sports_bar_flag': 0, u'entry_fee': u'0', u'id': 18089689, u'outdoor_seating_flag': 2, u'hasWifi': 0, u'bar_byob_flag': 0, u'group': [], u'hasBar': 0, u'cost_of_beer': 0, u'serves_veg_flag': 0, u'serviceCharge': 0, u'bar_fullbar_flag': 0, u'discounts': [], u'editorRating': {u'food': 0, u'ambience': 0, u'overall': 0, u'service': 0}, u'sheesha_flag': 0, u'location': {u'city': u'Bangalore', u'locality': u'Mysore Road', u'city_id': 4, u'zipcode': u'', u'longitude': u'0.0000000000', u'address': u'144/2, Near Nalanda Talkies, Mysore Road, Bangalore', u'latitude': u'0.0000000000'}, u'stag_entry_flag': 2, u'isPureVeg': 1, u'mobile_phone_display': u'+91 8722004883', u'buffet_details': u'', u'hasAC': 0, u'vat': 0, u'citibank_discount_detail': u'', u'mobile_phone': u'+91 8722004883', u'bar_wineonly_flag': 0, u'happy_hour_details': u'', u'status_id': 1, u'hasDelivery': 0, u'phone': u'+91 8722004883', u'acceptsCreditCards': 2, u'image_470_310': u'https://b.zmtcdn.com/images/default_thumb_470_310.png', u'hasDineIn': 1, u'halal_flag': 0, u'serves_nonveg_flag': 0, u'userReviews': {u'count': 3, u'0': {u'review': {u'rating': 5, u'foodie_color': u'ffd35d', u'rating_5': u'4.5000', u'user_id': u'31513339', u'foodie_level': u'Foodie', u'author': u'Suresh Paramasivam', u'timestamp': 1448811745, u'reviewText': u'If u really Masala dosa lovers, then please try this hotel.\\nLast two years, I am going to this hotel, Every Weekend i go to this hotel and take parcels &amp;nbsp;for my family. Staff and management behaviour was very good.', u'id': u'25621685', u'ratingColor': u'3F7E00', u'reviewTimeFriendly': u'5 months ago', u'reviewTime': u'2015-11-29 21:12:25', u'thumb': u'https://p1.zmtcdn.com/image/data/user_profile_pictures/f00/4723f953fe0550783becd691f42aaf00_200_thumb.jpg'}}, u'2': {u'review': {u'rating': 4, u'foodie_color': u'ffae4f', u'rating_5': u'4.0000', u'user_id': u'32079617', u'foodie_level': u'Big Foodie', u'author': u'Suhas S', u'timestamp': 1446214437, u'reviewText': u\"Firstly, a very old restaurant which has established itself over the decade. Very popular among the local residents there. \\nAmbience is just like any other darshini.\\nSouth Indian food is amazing 4.5/5 for it.\\nNorth Indian is also good. Location is centralized near the fly over so pretty easy to travel.  \\nMust visit if you are a true 'darshini' based foodie. \\n\", u'id': u'25368650', u'ratingColor': u'5BA829', u'reviewTimeFriendly': u'6 months ago', u'reviewTime': u'2015-10-30 19:43:57', u'thumb': u'https://p1.zmtcdn.com/image/data/user_profile_pictures/d70/7477e67462b3c9b6de733c1c12efed70_200_thumb.jpg'}}, u'1': {u'review': {u'rating': 3, u'foodie_color': u'e95151', u'rating_5': u'2.5000', u'user_id': u'311616', u'foodie_level': u'Connoisseur', u'author': u'Poojitha Govardhan', u'timestamp': 1446498323, u'reviewText': u\"One of my Favourite Dosa Places!\\nThis place is in existence from ages and I don't really remember when I visited it the very first time. It's a stone's throw from my house and every time mom's kitchen is closed we rely on Ranganatha. The taste of the dosas have been constant throughout the years. It's a paradise for Chamrajpet Residents for Dosa Cravings!\\nWe usually don't prefer dining in here because of the crowd and busy streets. So it's always been a take away. Most of our breakfasts for small get togethers at home are also catered by them and all our guests have appreciated the Dosas and Coffee! \\n\\nIdly and chow chow bath aren't my favourite here! Idlys can get really hard at times and chow chow bath always floats on tons of oil. \\n\\nI don't prefer having anything else on their menu apart from the Dosas!\\n\\n5/5 for the dosas!\\nFood otherwise - 2/5\\nAmbience - 1/5 (old hotel, needs maintenance)\\nPackaging - 3/5\\nService-3/5\\n\", u'id': u'25400511', u'ratingColor': u'FFBA00', u'reviewTimeFriendly': u'5 months ago', u'reviewTime': u'2015-11-03 02:35:23', u'thumb': u'https://p1.zmtcdn.com/image/data/user_profile_pictures/e61/4271f72de0eff327fc981357646dfe61_200_thumb.jpg'}}, u'review_url': u'https://www.zomato.com/bangalore/ranganatha-veg-mysore-road/reviews?utm_source=zomato_android_v2&utm_medium=api&utm_campaign=v1#tabtop'}, u'name': u'Ranganatha Veg', u'photos': {u'1': {u'photo': {u'url': u'https://b.zmtcdn.com/data/pictures/9/18089689/5d6b374e0c1cfdc9f4c89dff7925aa5f.jpg', u'thumbUrl': u'https://b.zmtcdn.com/data/pictures/9/18089689/5d6b374e0c1cfdc9f4c89dff7925aa5f_200_thumb.jpg'}}, u'0': {u'photo': {u'url': u'https://b.zmtcdn.com/data/pictures/9/18089689/f7c7d7bac397779078b592dd1bbea772.jpg', u'thumbUrl': u'https://b.zmtcdn.com/data/pictures/9/18089689/f7c7d7bac397779078b592dd1bbea772_200_thumb.jpg'}}, u'2': {u'photo': {u'url': u'https://b.zmtcdn.com/data/pictures/9/18089689/09c4b9db10604412b12d4ee6768f2fcc.jpg', u'thumbUrl': u'https://b.zmtcdn.com/data/pictures/9/18089689/09c4b9db10604412b12d4ee6768f2fcc_200_thumb.jpg'}}, u'photos_url': u'https://www.zomato.com/bangalore/ranganatha-veg-mysore-road/photos?utm_source=zomato_android_v2&utm_medium=api&utm_campaign=v1#tabtop'}, u'url': u'https://www.zomato.com/bangalore/ranganatha-veg-mysore-road?utm_source=zomato_android_v2&utm_medium=api&utm_campaign=v1', u'editorReview': u'', u'timings': u'7:30 AM to 8 PM', u'smoking_area_flag': 2, u'has_citibank_discount': 0, u'image_310_310': u'https://b.zmtcdn.com/images/default_thumb_310_310.png', u'meal_coupon_flag': 0, u'avgCostForTwo': 300, u'hasLiveMusic': 2}\n"
     ]
    }
   ],
   "source": [
    "print d"
   ]
  },
  {
   "cell_type": "code",
   "execution_count": 124,
   "metadata": {
    "collapsed": false
   },
   "outputs": [
    {
     "name": "stdout",
     "output_type": "stream",
     "text": [
      "{u'city': u'Bangalore', u'locality': u'Mysore Road', u'city_id': 4, u'zipcode': u'', u'longitude': u'0.0000000000', u'address': u'144/2, Near Nalanda Talkies, Mysore Road, Bangalore', u'latitude': u'0.0000000000'}\n"
     ]
    }
   ],
   "source": [
    "locate = d['location']\n",
    "loc = locate['locality']\n",
    "print locate"
   ]
  },
  {
   "cell_type": "code",
   "execution_count": null,
   "metadata": {
    "collapsed": true
   },
   "outputs": [],
   "source": [
    "\n",
    "wanted_keys = ['id','name','address','latitude','longitude','cuisines','cost_for_two','rating_aggregate']\n",
    "response = re.request(\"GET\", url, headers=self.headers, params=querystring)\n",
    "count=0\n",
    "total = 0\n",
    "for i in range(0,155):\n",
    "    resp = zomato.getListOfRestaurants(4,50*i)['results']\n",
    "\n",
    "    listOfRes = list()\n",
    "    count = 0\n",
    "    for i in resp:\n",
    "        restaurant = i['result']\n",
    "        resDB = {key:restaurant[key] for key in wanted_keys }\n",
    "        listOfRes.append(resDB)\n",
    "        count = count+1\n",
    "        print(str(count) + 'appended')\n",
    "\n",
    "    # print(resDB)\n",
    "\n",
    "    database.insertMany(listOfRes)\n",
    "    total = total+50\n",
    "    print(str(total) + 'inserted')\n",
    "\n",
    "# print(len(database.getAll()))\n",
    "count = 0\n",
    "for record in database.getAll():\n",
    "    count += 1\n",
    "    print(record)\n",
    "\n",
    "print(count)\n",
    "# print(resp['restaurants'][0]['restaurant']['name'])\n",
    "# print(resp['restaurants'][19]['restaurant']['id'])\n",
    "# print(resp['restaurants'][19]['restaurant']['location'])\n",
    "# print(resp['restaurants'][19]['restaurant']['cuisines'])\n",
    "# print(resp['restaurants'][19]['restaurant']['average_cost_for_two'])\n",
    "# print(resp['restaurants'][19]['restaurant']['user_rating'])\n",
    "\n",
    "# print(resp)"
   ]
  },
  {
   "cell_type": "code",
   "execution_count": null,
   "metadata": {
    "collapsed": true
   },
   "outputs": [],
   "source": [
    "for line in fileinput.FileInput(\"/home/madhumathi/MassiveProject/MassiveData/medium.csv\", inplace=True, backup='.bak'):\n",
    "   line = re.sub(\"\"\"\\n\"\"\", \"\", line,re.I|re.S)\n",
    "   line = re.sub(\"\"\",\"\"\", \"#\", line,re.I|re.S)\n",
    "   if('M' in line):\n",
    "       line = line + \"NA\\tNA\\tNA\\tNA\\tNA\\tNA\\tNA\\tNA\\tNA\\tNA\\tNA\\tNA\\n\"\n",
    "\n",
    "   elif('C' in line):\n",
    "       line = line + \"\\tNA\\tNA\\tNA\\tNA\\tNA\\tNA\\tNA\\tNA\\tNA\\tNA\\tNA\\n\"\n",
    "\n",
    "   else:\n",
    "       line = line + \"\\n\"\n",
    "   print line"
   ]
  },
  {
   "cell_type": "code",
   "execution_count": 50,
   "metadata": {
    "collapsed": false
   },
   "outputs": [
    {
     "data": {
      "text/plain": [
       "0.75"
      ]
     },
     "execution_count": 50,
     "metadata": {},
     "output_type": "execute_result"
    }
   ],
   "source": [
    "3/4.00"
   ]
  },
  {
   "cell_type": "code",
   "execution_count": 83,
   "metadata": {
    "collapsed": false
   },
   "outputs": [
    {
     "name": "stdout",
     "output_type": "stream",
     "text": [
      "{u'food': 0, u'ambience': 0, u'overall': 0, u'service': 0}\n"
     ]
    }
   ],
   "source": [
    "url = \"https://api.zomato.com/v1/restaurant.json/\" + \"18089689\"\n",
    "response = requests.get(url, headers=headers,timeout=3.5)\n",
    "#print type(response.content)\n",
    "#print type(response.json())\n",
    "d = response.json()\n",
    "print str(d['editorRating'])"
   ]
  },
  {
   "cell_type": "code",
   "execution_count": 78,
   "metadata": {
    "collapsed": false
   },
   "outputs": [
    {
     "name": "stdout",
     "output_type": "stream",
     "text": [
      " tarun  yes\n"
     ]
    }
   ],
   "source": [
    "d = \"name : tarun , ask : tater\"\n",
    "editor = \"\"\n",
    "editorAmbience = 'N/A'\n",
    "editorFood = 'N/A'\n",
    "editorOverall = 'N/A'\n",
    "editoService = 'N/A'\n",
    "editor = re.search(\"\"\"ambience\\s*:\\s*(.*?),\"\"\", d, re.I|re.S)\n",
    "if(editor != None):\n",
    "    editorFood = re.search(\"\"\"food':\\s*(.*?),\"\"\", str(d['editorRating']), re.I|re.S).group(1)\n",
    "    editorAmbience = re.search(\"\"\"ambience':\\s*(.*?),\"\"\", str(d['editorRating']), re.I|re.S).group(1)\n",
    "    editorOverall = re.search(\"\"\"overall':\\s*(.*?),\"\"\", str(d['editorRating']), re.I|re.S).group(1)\n",
    "    editorService = re.search(\"\"\"service':\\s*(.*?),\"\"\", str(d['editorRating']), re.I|re.S).group(1)\n",
    "    print editor, \"yes\"\n",
    "else:\n",
    "    print \"no\""
   ]
  },
  {
   "cell_type": "code",
   "execution_count": 134,
   "metadata": {
    "collapsed": false
   },
   "outputs": [
    {
     "name": "stdout",
     "output_type": "stream",
     "text": [
      "tim 7:30 AM to 8 PM\n",
      "startTime 7:30\n",
      "endTime 20\n"
     ]
    }
   ],
   "source": [
    "if(str(d['timings']) != \"\"):\n",
    "    tim = d['timings']\n",
    "#    writeJson = writeJson +\",\"+  t\n",
    "    print \"tim\", tim\n",
    "    startTime = re.search(\"\"\"\\s*(.*?)\\s*AM\"\"\",tim,re.I|re.S).group(1)\n",
    "    print \"startTime\", startTime\n",
    "    endTime = re.search(\"\"\"to\\s*(.*?)\\s*PM\"\"\",tim,re.I|re.S).group(1)\n",
    "    endTime = int(endTime) + 12\n",
    "    print \"endTime\", endTime\n",
    "\n",
    "else:\n",
    "#    writeJson = writeJson +\",\"+  \"N/A\"\n",
    "    print \"tim\", 'N/A'\n"
   ]
  },
  {
   "cell_type": "code",
   "execution_count": 163,
   "metadata": {
    "collapsed": false
   },
   "outputs": [
    {
     "name": "stdout",
     "output_type": "stream",
     "text": [
      "None\n",
      "u'timings': u'7:30\n"
     ]
    }
   ],
   "source": [
    "tim = \" u'timings': u'7:30 AM to 8 PM'\"\n",
    "startTime = re.search(\"\"\"\\s*(.*?)\\s*sAM\"\"\",tim,re.I|re.S)\n",
    "print startTime\n",
    "if(startTime != None):\n",
    "    print \"yes\"\n",
    "startTime = re.search(\"\"\"\\s*(.*?)\\s*AM\"\"\",tim,re.I|re.S).group(1)\n",
    "print startTime\n"
   ]
  },
  {
   "cell_type": "code",
   "execution_count": 144,
   "metadata": {
    "collapsed": false
   },
   "outputs": [
    {
     "ename": "TypeError",
     "evalue": "int() argument must be a string or a number, not 'list'",
     "output_type": "error",
     "traceback": [
      "\u001b[1;31m---------------------------------------------------------------------------\u001b[0m",
      "\u001b[1;31mTypeError\u001b[0m                                 Traceback (most recent call last)",
      "\u001b[1;32m<ipython-input-144-fc1224b870d0>\u001b[0m in \u001b[0;36m<module>\u001b[1;34m()\u001b[0m\n\u001b[0;32m      1\u001b[0m \u001b[0ml\u001b[0m \u001b[1;33m=\u001b[0m \u001b[1;33m[\u001b[0m\u001b[1;34m\"123\"\u001b[0m\u001b[1;33m,\u001b[0m \u001b[1;34m\"213\"\u001b[0m\u001b[1;33m]\u001b[0m\u001b[1;33m\u001b[0m\u001b[0m\n\u001b[1;32m----> 2\u001b[1;33m \u001b[1;32mprint\u001b[0m \u001b[0mint\u001b[0m\u001b[1;33m(\u001b[0m\u001b[0ml\u001b[0m\u001b[1;33m)\u001b[0m\u001b[1;33m\u001b[0m\u001b[0m\n\u001b[0m",
      "\u001b[1;31mTypeError\u001b[0m: int() argument must be a string or a number, not 'list'"
     ]
    }
   ],
   "source": [
    "l = [\"123\", \"213\"]\n",
    "print int(l)"
   ]
  },
  {
   "cell_type": "code",
   "execution_count": 171,
   "metadata": {
    "collapsed": false
   },
   "outputs": [
    {
     "name": "stdout",
     "output_type": "stream",
     "text": [
      "[1, 2]\n"
     ]
    }
   ],
   "source": [
    "l = [1,2,3,4]\n",
    "a = l[:2]\n",
    "print a"
   ]
  },
  {
   "cell_type": "code",
   "execution_count": 196,
   "metadata": {
    "collapsed": true
   },
   "outputs": [],
   "source": [
    "b = {key:d[key] for key in wanted_keys }"
   ]
  },
  {
   "cell_type": "code",
   "execution_count": 197,
   "metadata": {
    "collapsed": false
   },
   "outputs": [
    {
     "name": "stdout",
     "output_type": "stream",
     "text": [
      "<type 'dict'>\n"
     ]
    }
   ],
   "source": [
    "print type(b)"
   ]
  },
  {
   "cell_type": "code",
   "execution_count": 198,
   "metadata": {
    "collapsed": false
   },
   "outputs": [],
   "source": [
    "b['id'] = 231"
   ]
  },
  {
   "cell_type": "code",
   "execution_count": 199,
   "metadata": {
    "collapsed": false
   },
   "outputs": [
    {
     "name": "stdout",
     "output_type": "stream",
     "text": [
      "{'hasWifi': 0, 'hasBar': 0, 'name': u'Shree Mahalakshmi Sweets', 'cuisines': u'Mithai', 'hasDelivery': 0, 'acceptsCreditCards': 0, 'id': 231, 'smoking_area_flag': 2, 'hasLiveMusic': 2, 'isPureVeg': 1, 'buffet_details': u'', 'avgCostForTwo': 100, 'hasAC': 0, 'hasDineIn': 0, 'takeaway_flag': 1}\n"
     ]
    }
   ],
   "source": [
    "print b"
   ]
  },
  {
   "cell_type": "markdown",
   "metadata": {},
   "source": [
    "********************************Code For Training**************************************"
   ]
  },
  {
   "cell_type": "code",
   "execution_count": 239,
   "metadata": {
    "collapsed": false
   },
   "outputs": [
    {
     "name": "stdout",
     "output_type": "stream",
     "text": [
      "PROGRESS: Finished parsing file C:\\Users\\Tarun Tater\\Desktop\\sem8\\ML2Project\\resTry.csv\n",
      "PROGRESS: Parsing completed. Parsed 100 lines in 0.063041 secs.\n",
      "------------------------------------------------------\n",
      "Inferred types from first line of file as \n",
      "column_type_hints=[long,str,str,long,long,long,long,long,long,long,long,long,long,long,str,long,float,str,str,str,str,str,str,str]\n",
      "If parsing fails due to incorrect types, you can correct\n",
      "the inferred type list above and pass it to read_csv in\n",
      "the column_type_hints argument\n",
      "------------------------------------------------------\n",
      "PROGRESS: Unable to parse line \"52500,Tomatina,Continental# Chinese# North Indian,800,1,1,1,N/A,N/A,N/A,,,,,,,,,,,,,,\"\n",
      "PROGRESS: Unable to parse line \"On Other Days TDH Service (Se,213,3.6,HSR,10:30,3:30,N/A,0,1,1,1,0,2,1,N/A,19,4,JP Nagar,7,11,N/A,N/A,N/A,N/A\"\n",
      "PROGRESS: 2 lines failed to parse correctly\n",
      "PROGRESS: Finished parsing file C:\\Users\\Tarun Tater\\Desktop\\sem8\\ML2Project\\resTry.csv\n",
      "PROGRESS: Parsing completed. Parsed 1484 lines in 0.055625 secs.\n"
     ]
    }
   ],
   "source": [
    "t = gl.SFrame.read_csv(\"resTry.csv\")"
   ]
  },
  {
   "cell_type": "code",
   "execution_count": 240,
   "metadata": {
    "collapsed": false
   },
   "outputs": [
    {
     "name": "stdout",
     "output_type": "stream",
     "text": [
      "PROGRESS: Finished parsing file C:\\Users\\Tarun Tater\\Desktop\\sem8\\ML2Project\\resTry1.csv\n",
      "PROGRESS: Parsing completed. Parsed 100 lines in 0.06004 secs.\n",
      "------------------------------------------------------\n",
      "Inferred types from first line of file as \n",
      "column_type_hints=[long,str,str,long,long,long,long,long,long,long,long,long,long,long,str,long,float,str,str,str,str,str,str,str]\n",
      "If parsing fails due to incorrect types, you can correct\n",
      "the inferred type list above and pass it to read_csv in\n",
      "the column_type_hints argument\n",
      "------------------------------------------------------\n",
      "PROGRESS: Finished parsing file C:\\Users\\Tarun Tater\\Desktop\\sem8\\ML2Project\\resTry1.csv\n",
      "PROGRESS: Parsing completed. Parsed 1494 lines in 0.06304 secs.\n"
     ]
    }
   ],
   "source": [
    "t1 = gl.SFrame.read_csv(\"resTry1.csv\")"
   ]
  },
  {
   "cell_type": "code",
   "execution_count": 241,
   "metadata": {
    "collapsed": false
   },
   "outputs": [
    {
     "name": "stdout",
     "output_type": "stream",
     "text": [
      "PROGRESS: Finished parsing file C:\\Users\\Tarun Tater\\Desktop\\sem8\\ML2Project\\resTry2.csv\n",
      "PROGRESS: Parsing completed. Parsed 100 lines in 0.088058 secs.\n",
      "------------------------------------------------------\n",
      "Inferred types from first line of file as \n",
      "column_type_hints=[long,str,str,long,long,long,long,long,long,long,long,long,long,long,str,long,float,str,str,str,str,str,str,str]\n",
      "If parsing fails due to incorrect types, you can correct\n",
      "the inferred type list above and pass it to read_csv in\n",
      "the column_type_hints argument\n",
      "------------------------------------------------------\n",
      "PROGRESS: Finished parsing file C:\\Users\\Tarun Tater\\Desktop\\sem8\\ML2Project\\resTry2.csv\n",
      "PROGRESS: Parsing completed. Parsed 1500 lines in 0.121079 secs.\n"
     ]
    }
   ],
   "source": [
    "t2 = gl.SFrame.read_csv(\"resTry2.csv\")"
   ]
  },
  {
   "cell_type": "code",
   "execution_count": 242,
   "metadata": {
    "collapsed": false
   },
   "outputs": [
    {
     "name": "stdout",
     "output_type": "stream",
     "text": [
      "PROGRESS: Finished parsing file C:\\Users\\Tarun Tater\\Desktop\\sem8\\ML2Project\\resTry3.csv\n",
      "PROGRESS: Parsing completed. Parsed 100 lines in 0.17511 secs.\n",
      "------------------------------------------------------\n",
      "Inferred types from first line of file as \n",
      "column_type_hints=[long,str,str,long,long,long,long,long,long,long,long,long,long,long,str,long,float,str,str,str,str,str,str,str]\n",
      "If parsing fails due to incorrect types, you can correct\n",
      "the inferred type list above and pass it to read_csv in\n",
      "the column_type_hints argument\n",
      "------------------------------------------------------\n",
      "PROGRESS: Finished parsing file C:\\Users\\Tarun Tater\\Desktop\\sem8\\ML2Project\\resTry3.csv\n",
      "PROGRESS: Parsing completed. Parsed 1499 lines in 0.133087 secs.\n"
     ]
    }
   ],
   "source": [
    "t3 = gl.SFrame.read_csv(\"resTry3.csv\")"
   ]
  },
  {
   "cell_type": "code",
   "execution_count": 243,
   "metadata": {
    "collapsed": true
   },
   "outputs": [],
   "source": [
    "import graphlab.aggregate as agg"
   ]
  },
  {
   "cell_type": "code",
   "execution_count": 244,
   "metadata": {
    "collapsed": true
   },
   "outputs": [],
   "source": [
    "from graphlab import SArray"
   ]
  },
  {
   "cell_type": "code",
   "execution_count": null,
   "metadata": {
    "collapsed": true
   },
   "outputs": [],
   "source": [
    "trainCheck['amountCategory'].sketch_summary()\n",
    "trainFeatures.column_names"
   ]
  },
  {
   "cell_type": "code",
   "execution_count": null,
   "metadata": {
    "collapsed": true
   },
   "outputs": [],
   "source": [
    "trainFeaturesChange = gl.load_sframe('./trainFeaturesUpdated')\n",
    "trainFeaturesChange.remove_column('offerdate')\n",
    "numberOfTransactions = SArray(numberOfTransactions)\n",
    "testFeaturesChange.add_column(numberOfTransactions)\n",
    "brandLoyalty = trainFeaturesChange['numBrand']/trainFeaturesChange['numberOfTransactions'] \n",
    "trainFeaturesChange.add_column(brandLoyalty, 'brandLoyalty')\n",
    "testFeaturesChange.rename({'X44' : 'numberOfTransactions'})\n",
    "hasNotBoughtAny180 = -1*((trainCheck['company180'] == 0)*(trainCheck['category180'] == 0)*(trainCheck['brand180'] == 0))\n",
    "copy = hasNotBoughtAny180[:]\n",
    "testCheck1.add_columns([hasNotBoughtAny180,hasBoughtAll15],['hasNotBoughtAny180','hasBoughtAll15'])\n",
    "hasNeverBoughtCompany = -1*((testFeaturesChange['numCompany'] == 0))"
   ]
  },
  {
   "cell_type": "code",
   "execution_count": null,
   "metadata": {
    "collapsed": true
   },
   "outputs": [],
   "source": [
    "model21= gl.random_forest_classifier.create(trainCheck1,target = 'repeater', verbose = True, class_weights = 'auto')\n",
    "predictions = model21.classify(testCheck1)\n",
    "upload = testCheck1['id', 'numBrand']\n",
    "upload.remove_column('numBrand')\n",
    "upload.add_column(predictions['probability'], 'repeatProbability')\n",
    "upload.export_csv('submit21.csv', delimiter = ',', line_terminator = '\\n', header = True, quote_level=2, quote_char = '\"', na_rep = 'NA', file_header = '', file_footer = '', line_prefix = '', _no_prefix_on_first_value=False)"
   ]
  },
  {
   "cell_type": "code",
   "execution_count": null,
   "metadata": {
    "collapsed": true
   },
   "outputs": [],
   "source": [
    "model = gl.logistic_classifier.create(trainCheck1, target = 'repeater', max_iterations = 20)\n",
    "predictions = model.predict(testCheck1, output_type='probability')\n",
    "repeatProbability = gl.SArray(predictions)\n",
    "upload = testFeaturesChange['id', 'numBrand']\n",
    "upload.remove_column('numBrand')\n",
    "upload.add_column(repeatProbability, 'repeatProbability')\n",
    "upload.export_csv('submitlg2.csv', delimiter = ',', line_terminator = '\\n', header = True, quote_level=2, quote_char = '\"', na_rep = 'NA', file_header = '', file_footer = '', line_prefix = '', _no_prefix_on_first_value=False)"
   ]
  },
  {
   "cell_type": "code",
   "execution_count": null,
   "metadata": {
    "collapsed": true
   },
   "outputs": [],
   "source": [
    "testFeaturesChange.save(\"testFeaturesUpdated\")\n",
    "model15.save('m15')"
   ]
  },
  {
   "cell_type": "code",
   "execution_count": 250,
   "metadata": {
    "collapsed": true
   },
   "outputs": [],
   "source": [
    "t = t.append(t1)"
   ]
  },
  {
   "cell_type": "code",
   "execution_count": 254,
   "metadata": {
    "collapsed": true
   },
   "outputs": [],
   "source": [
    "t = t.append(t2)"
   ]
  },
  {
   "cell_type": "code",
   "execution_count": 255,
   "metadata": {
    "collapsed": true
   },
   "outputs": [],
   "source": [
    "t = t.append(t3)"
   ]
  },
  {
   "cell_type": "code",
   "execution_count": 256,
   "metadata": {
    "collapsed": false
   },
   "outputs": [
    {
     "data": {
      "text/plain": [
       "<bound method SFrame.num_rows of Columns:\n",
       "\tid\tint\n",
       "\tname\tstr\n",
       "\tcuisines\tstr\n",
       "\tavgCostForTwo\tint\n",
       "\ttakeaway_flag\tint\n",
       "\tsmoking_area_flag\tint\n",
       "\tisPureVeg\tint\n",
       "\thasBar\tint\n",
       "\thasDineIn\tint\n",
       "\thasDelivery\tint\n",
       "\thasAC\tint\n",
       "\thasWifi\tint\n",
       "\thasLiveMusic\tint\n",
       "\tacceptsCreditCards\tint\n",
       "\tbuffet_details\tstr\n",
       "\tnumOfUserReviews\tint\n",
       "\tAverageRatings\tfloat\n",
       "\tlocality\tstr\n",
       "\tstartTime\tstr\n",
       "\tendTime\tstr\n",
       "\teditorFood\tstr\n",
       "\teditorAmbience\tstr\n",
       "\teditorOverall\tstr\n",
       "\teditorService\tstr\n",
       "\n",
       "Rows: 5977\n",
       "\n",
       "Data:\n",
       "+-------+--------------------------------+-------------------------------+---------------+\n",
       "|   id  |              name              |            cuisines           | avgCostForTwo |\n",
       "+-------+--------------------------------+-------------------------------+---------------+\n",
       "| 38764 |         Yana Sizzlers          | Chinese# Thai# Seafood# It... |      1100     |\n",
       "| 50000 |          Spicy North           |     North Indian# Chinese     |      300      |\n",
       "| 50001 |              1947              |     North Indian# Chinese     |      750      |\n",
       "| 50003 | 100 FT Boutique Bar Restaurant | Continental# Mediterranean... |      1500     |\n",
       "|  None |                                |                               |      None     |\n",
       "| 50004 |   12th Main - Grand Mercure    |        European# Asian        |      2000     |\n",
       "| 50005 |         18 China Town          |            Chinese            |      550      |\n",
       "| 50008 | 9th Mile Dhaba - Royal Orc...  |          North Indian         |      1200     |\n",
       "| 50009 |      AM Biryani Junction       | Biryani# North Indian# Sou... |      300      |\n",
       "| 50011 |   A2B - Adyar Ananda Bhavan    | South Indian# North Indian... |      300      |\n",
       "+-------+--------------------------------+-------------------------------+---------------+\n",
       "+---------------+-------------------+-----------+--------+-----------+-------------+\n",
       "| takeaway_flag | smoking_area_flag | isPureVeg | hasBar | hasDineIn | hasDelivery |\n",
       "+---------------+-------------------+-----------+--------+-----------+-------------+\n",
       "|       1       |         2         |     0     |   0    |     1     |      0      |\n",
       "|       0       |         2         |     1     |   0    |     1     |      1      |\n",
       "|       0       |         2         |     1     |   0    |     1     |      1      |\n",
       "|       1       |         1         |     0     |   1    |     1     |      1      |\n",
       "|      None     |        None       |    None   |   1    |     1     |      0      |\n",
       "|       1       |         1         |     0     |   0    |     0     |      1      |\n",
       "|       1       |         2         |     0     |   1    |     0     |      0      |\n",
       "|       0       |         2         |     0     |   0    |     1     |      1      |\n",
       "|       1       |         2         |     0     |   0    |     1     |      0      |\n",
       "|       1       |         2         |     1     |   0    |     1     |      0      |\n",
       "+---------------+-------------------+-----------+--------+-----------+-------------+\n",
       "+-------+---------+--------------+--------------------+\n",
       "| hasAC | hasWifi | hasLiveMusic | acceptsCreditCards |\n",
       "+-------+---------+--------------+--------------------+\n",
       "|   1   |    0    |      2       |         1          |\n",
       "|   0   |    0    |      2       |         1          |\n",
       "|   1   |    0    |      2       |         1          |\n",
       "|   1   |    1    |      2       |         1          |\n",
       "|   1   |    1    |      2       |         1          |\n",
       "|   1   |    0    |      2       |         1          |\n",
       "|   0   |    1    |      2       |         1          |\n",
       "|   0   |    0    |      2       |         1          |\n",
       "|   1   |    0    |      2       |         1          |\n",
       "|   0   |    0    |      2       |         1          |\n",
       "+-------+---------+--------------+--------------------+\n",
       "+-------------------------------+------------------+----------------+\n",
       "|         buffet_details        | numOfUserReviews | AverageRatings |\n",
       "+-------------------------------+------------------+----------------+\n",
       "|              N/A              |       376        |      4.4       |\n",
       "|              N/A              |        25        |      3.0       |\n",
       "|              N/A              |       154        |      3.2       |\n",
       "|              N/A              |       478        |      3.2       |\n",
       "| Rs. 549 +TAX # Rs. 275 +TA... |        92        |      3.4       |\n",
       "|              N/A              |        27        |      3.0       |\n",
       "|              N/A              |        80        |      3.4       |\n",
       "|              N/A              |        2         |      3.5       |\n",
       "|              N/A              |       168        |      4.2       |\n",
       "|              N/A              |        6         |      3.6       |\n",
       "+-------------------------------+------------------+----------------+\n",
       "+-----------------------+-----------+---------+-----+\n",
       "|        locality       | startTime | endTime | ... |\n",
       "+-----------------------+-----------+---------+-----+\n",
       "| Koramangala 5th Block |   11:30   |   3:30  | ... |\n",
       "|       Jayanagar       |    N/A    |    4    | ... |\n",
       "|      Banashankari     |    N/A    |   3:30  | ... |\n",
       "|      Indiranagar      |     11    |    11   | ... |\n",
       "| Koramangala 3rd Block |    6:30   |  11:30  | ... |\n",
       "|       Banaswadi       |    N/A    |   3:30  | ... |\n",
       "|       Yelahanka       |    N/A    |   3:30  | ... |\n",
       "|     Richmond Road     |     11    |    4    | ... |\n",
       "|          BTM          |     7     |    11   | ... |\n",
       "|        Majestic       |     7     |    11   | ... |\n",
       "+-----------------------+-----------+---------+-----+\n",
       "[5977 rows x 24 columns]\n",
       "Note: Only the head of the SFrame is printed.\n",
       "You can use print_rows(num_rows=m, num_columns=n) to print more rows and columns.>"
      ]
     },
     "execution_count": 256,
     "metadata": {},
     "output_type": "execute_result"
    }
   ],
   "source": [
    "t.num_rows"
   ]
  },
  {
   "cell_type": "code",
   "execution_count": 257,
   "metadata": {
    "collapsed": true
   },
   "outputs": [],
   "source": [
    "t = t.remove_column('buffet_details')"
   ]
  },
  {
   "cell_type": "code",
   "execution_count": 273,
   "metadata": {
    "collapsed": true
   },
   "outputs": [],
   "source": [
    "with open(\"dishReviews.json\") as json_file:\n",
    "    json_data = json.load(json_file)\n",
    "    "
   ]
  },
  {
   "cell_type": "code",
   "execution_count": 275,
   "metadata": {
    "collapsed": false
   },
   "outputs": [
    {
     "name": "stdout",
     "output_type": "stream",
     "text": [
      "[[u'sambar', 0.8410714285714286, [u'sambar also good', u'sambar good and fresh', u'sambar slightly spicier', u'crisp yummy scrumptious sambar']], [u'fried rice', 0.825, [u'fried rice regular', u'biryani fried rice', u'fried rice', u'fried rice decent']], [u'chaat', 0.8214285714285715, [u'chaats also good', u'dahi chaat better', u'dahi potato chaat tasted almost similar']], [u'idli', 0.7875, [u'vadas and rawa idlies good', u'usual things used idli', u'fluffy idlis', u'big idlies']], [u'coffee', 0.75, [u'strong coffee cost', u'coffee really good', u'coffee good', u'good coffee']], [u'rice', 0.7482142857142857, [u'prices also reasonable', u'prices also reasonable', u'less prices', u'fried rice regular', u'food priced low ac fine', u'biryani fried rice', u'better expectation prices tad higher', u'prices lower', u'fried rice', u'jeera rice plenty times and good', u'decent affordable price', u'2xroti curd rice pulav soup dal', u'fried rice decent', u'several times prices', u'good prices okay', u'prices reasonable', u'thier price unmatchable', u'good food priced', u'quick lowprice', u'prices petty reasonable']], [u'vada', 0.7380952380952381, [u'vadas and rawa idlies good', u'cz vada really nice crunchy and tasty', u'indian idly vada north indian']], [u'roti', 0.7, [u'roti curry types good', u'dosa items roti', u'2xroti curd rice pulav soup dal', u'rotis taste good']], [u'biryani', 0.6666666666666666, [u'veg dum biryani spicy', u'biryani fried rice', u'biryanis curries chinese']], [u'chutney', 0.6666666666666666, [u'stale chutney', u'honest chutney', u'different chutneys', u'great chutney', u'extra chutney', u'different chutneys']], [u'soup', 0.625, [u'soup pathetic', u'soups hot', u'2xroti curd rice pulav soup dal', u'soup provide awful']], [u'dosa', 0.5928571428571429, [u'dosa onion pakoda', u'masala dosa', u'recent experience onion dosa', u'plain dosa', u'masala dosas good', u'dosas absolutely yummmm', u'dosa items roti']], [u'curries', 0.5833333333333334, [u'indian curries', u'indian curries rasaganga better', u'biryanis curries chinese']], [u'paneer', 0.5375, [u'masala gobi manjurian paneer manjurian multiple', u'paneer butter masala', u'first bowl kadai paneer', u'big fan shahi paneer kurma prepare']]]\n"
     ]
    }
   ],
   "source": [
    "print json_data[\"The Rasaganga, Bellandur\"]"
   ]
  },
  {
   "cell_type": "code",
   "execution_count": 276,
   "metadata": {
    "collapsed": false
   },
   "outputs": [
    {
     "data": {
      "text/plain": [
       "\n",
       "+--------------------+---------------+----------+\n",
       "|        item        |     value     | is exact |\n",
       "+--------------------+---------------+----------+\n",
       "|       Length       |      5977     |   Yes    |\n",
       "|        Min         |      0.0      |   Yes    |\n",
       "|        Max         |     3460.0    |   Yes    |\n",
       "|        Mean        |  62.690041841 |   Yes    |\n",
       "|        Sum         |    374573.0   |   Yes    |\n",
       "|      Variance      | 25399.6117084 |   Yes    |\n",
       "| Standard Deviation | 159.372556321 |   Yes    |\n",
       "|  # Missing Values  |       2       |   Yes    |\n",
       "|  # unique values   |      504      |    No    |\n",
       "+--------------------+---------------+----------+\n",
       "\n",
       "Most frequent items:\n",
       "+-------+-----+-----+-----+-----+-----+-----+-----+-----+-----+-----+\n",
       "| value |  0  |  1  |  2  |  3  |  5  |  4  |  6  |  9  |  7  |  8  |\n",
       "+-------+-----+-----+-----+-----+-----+-----+-----+-----+-----+-----+\n",
       "| count | 446 | 385 | 330 | 285 | 232 | 210 | 165 | 152 | 135 | 133 |\n",
       "+-------+-----+-----+-----+-----+-----+-----+-----+-----+-----+-----+\n",
       "\n",
       "Quantiles: \n",
       "+-----+-----+-----+-----+------+------+-------+-------+--------+\n",
       "|  0% |  1% |  5% | 25% | 50%  | 75%  |  95%  |  99%  |  100%  |\n",
       "+-----+-----+-----+-----+------+------+-------+-------+--------+\n",
       "| 0.0 | 0.0 | 0.0 | 4.0 | 15.0 | 51.0 | 284.0 | 720.0 | 3460.0 |\n",
       "+-----+-----+-----+-----+------+------+-------+-------+--------+"
      ]
     },
     "execution_count": 276,
     "metadata": {},
     "output_type": "execute_result"
    }
   ],
   "source": [
    "t['numOfUserReviews'].sketch_summary()"
   ]
  },
  {
   "cell_type": "code",
   "execution_count": 278,
   "metadata": {
    "collapsed": false
   },
   "outputs": [
    {
     "ename": "TypeError",
     "evalue": "expected string or buffer",
     "output_type": "error",
     "traceback": [
      "\u001b[1;31m---------------------------------------------------------------------------\u001b[0m",
      "\u001b[1;31mTypeError\u001b[0m                                 Traceback (most recent call last)",
      "\u001b[1;32m<ipython-input-278-8bc45167068d>\u001b[0m in \u001b[0;36m<module>\u001b[1;34m()\u001b[0m\n\u001b[0;32m      1\u001b[0m \u001b[1;32mwith\u001b[0m \u001b[0mopen\u001b[0m\u001b[1;33m(\u001b[0m\u001b[1;34m\"dataJsonFull.txt\"\u001b[0m\u001b[1;33m)\u001b[0m \u001b[1;32mas\u001b[0m \u001b[0md1\u001b[0m\u001b[1;33m:\u001b[0m\u001b[1;33m\u001b[0m\u001b[0m\n\u001b[1;32m----> 2\u001b[1;33m    \u001b[0mj1\u001b[0m \u001b[1;33m=\u001b[0m \u001b[0mjson\u001b[0m\u001b[1;33m.\u001b[0m\u001b[0mloads\u001b[0m\u001b[1;33m(\u001b[0m\u001b[0md1\u001b[0m\u001b[1;33m)\u001b[0m\u001b[1;33m\u001b[0m\u001b[0m\n\u001b[0m\u001b[0;32m      3\u001b[0m \u001b[1;33m\u001b[0m\u001b[0m\n",
      "\u001b[1;32mC:\\Anaconda2\\envs\\data-env\\lib\\json\\__init__.pyc\u001b[0m in \u001b[0;36mloads\u001b[1;34m(s, encoding, cls, object_hook, parse_float, parse_int, parse_constant, object_pairs_hook, **kw)\u001b[0m\n\u001b[0;32m    336\u001b[0m             \u001b[0mparse_int\u001b[0m \u001b[1;32mis\u001b[0m \u001b[0mNone\u001b[0m \u001b[1;32mand\u001b[0m \u001b[0mparse_float\u001b[0m \u001b[1;32mis\u001b[0m \u001b[0mNone\u001b[0m \u001b[1;32mand\u001b[0m\u001b[1;33m\u001b[0m\u001b[0m\n\u001b[0;32m    337\u001b[0m             parse_constant is None and object_pairs_hook is None and not kw):\n\u001b[1;32m--> 338\u001b[1;33m         \u001b[1;32mreturn\u001b[0m \u001b[0m_default_decoder\u001b[0m\u001b[1;33m.\u001b[0m\u001b[0mdecode\u001b[0m\u001b[1;33m(\u001b[0m\u001b[0ms\u001b[0m\u001b[1;33m)\u001b[0m\u001b[1;33m\u001b[0m\u001b[0m\n\u001b[0m\u001b[0;32m    339\u001b[0m     \u001b[1;32mif\u001b[0m \u001b[0mcls\u001b[0m \u001b[1;32mis\u001b[0m \u001b[0mNone\u001b[0m\u001b[1;33m:\u001b[0m\u001b[1;33m\u001b[0m\u001b[0m\n\u001b[0;32m    340\u001b[0m         \u001b[0mcls\u001b[0m \u001b[1;33m=\u001b[0m \u001b[0mJSONDecoder\u001b[0m\u001b[1;33m\u001b[0m\u001b[0m\n",
      "\u001b[1;32mC:\\Anaconda2\\envs\\data-env\\lib\\json\\decoder.pyc\u001b[0m in \u001b[0;36mdecode\u001b[1;34m(self, s, _w)\u001b[0m\n\u001b[0;32m    364\u001b[0m \u001b[1;33m\u001b[0m\u001b[0m\n\u001b[0;32m    365\u001b[0m         \"\"\"\n\u001b[1;32m--> 366\u001b[1;33m         \u001b[0mobj\u001b[0m\u001b[1;33m,\u001b[0m \u001b[0mend\u001b[0m \u001b[1;33m=\u001b[0m \u001b[0mself\u001b[0m\u001b[1;33m.\u001b[0m\u001b[0mraw_decode\u001b[0m\u001b[1;33m(\u001b[0m\u001b[0ms\u001b[0m\u001b[1;33m,\u001b[0m \u001b[0midx\u001b[0m\u001b[1;33m=\u001b[0m\u001b[0m_w\u001b[0m\u001b[1;33m(\u001b[0m\u001b[0ms\u001b[0m\u001b[1;33m,\u001b[0m \u001b[1;36m0\u001b[0m\u001b[1;33m)\u001b[0m\u001b[1;33m.\u001b[0m\u001b[0mend\u001b[0m\u001b[1;33m(\u001b[0m\u001b[1;33m)\u001b[0m\u001b[1;33m)\u001b[0m\u001b[1;33m\u001b[0m\u001b[0m\n\u001b[0m\u001b[0;32m    367\u001b[0m         \u001b[0mend\u001b[0m \u001b[1;33m=\u001b[0m \u001b[0m_w\u001b[0m\u001b[1;33m(\u001b[0m\u001b[0ms\u001b[0m\u001b[1;33m,\u001b[0m \u001b[0mend\u001b[0m\u001b[1;33m)\u001b[0m\u001b[1;33m.\u001b[0m\u001b[0mend\u001b[0m\u001b[1;33m(\u001b[0m\u001b[1;33m)\u001b[0m\u001b[1;33m\u001b[0m\u001b[0m\n\u001b[0;32m    368\u001b[0m         \u001b[1;32mif\u001b[0m \u001b[0mend\u001b[0m \u001b[1;33m!=\u001b[0m \u001b[0mlen\u001b[0m\u001b[1;33m(\u001b[0m\u001b[0ms\u001b[0m\u001b[1;33m)\u001b[0m\u001b[1;33m:\u001b[0m\u001b[1;33m\u001b[0m\u001b[0m\n",
      "\u001b[1;31mTypeError\u001b[0m: expected string or buffer"
     ]
    }
   ],
   "source": [
    " with open(\"dataJsonFull.txt\") as d1:\n",
    "    j1 = json.loads(d1)\n",
    "    "
   ]
  },
  {
   "cell_type": "markdown",
   "metadata": {},
   "source": [
    "%%%%%%%%%%%%%%%%%%%%%%%%%%TIMINGS%%%%%%%%%%%%%%%%%%%%%%%%%%%"
   ]
  },
  {
   "cell_type": "code",
   "execution_count": 279,
   "metadata": {
    "collapsed": true
   },
   "outputs": [],
   "source": [
    "timingsList = [\"12:30 PM to 3:30 PM, 7 PM to 11 PM\", \"11 AM to 11 PM\", \"10:30 AM to 11 PM\", \"12 Noon to 11 PM (Mon-Thu), 12 Noon to 1 AM (Fri-Sun)\",\n",
    "              \"9 AM to 11 PM\", \"12 Noon to 11 PM\", \"11 AM to 11:30 PM\", \"12:30 PM to 11 PM\", \"12 Noon to 3 PM, 7 PM to 10:15 PM\",\n",
    "              \"12 Noon to 11 PM (Tue-Thu, Sat-Sun), 1:30 PM to 11 PM (Fri), Mon Closed\", \"\"]"
   ]
  },
  {
   "cell_type": "code",
   "execution_count": 283,
   "metadata": {
    "collapsed": false
   },
   "outputs": [
    {
     "name": "stdout",
     "output_type": "stream",
     "text": [
      "sd\n"
     ]
    }
   ],
   "source": [
    "a = \"asd\"\n",
    "print a[-2:]"
   ]
  },
  {
   "cell_type": "code",
   "execution_count": 336,
   "metadata": {
    "collapsed": false
   },
   "outputs": [],
   "source": [
    "def hoursAndMinsCalculate(startTime):\n",
    "    if(':' in startTime):\n",
    "#        print startTime\n",
    "        hoursAndMins = re.search(\"\"\"(.*?):(.*)\"\"\",startTime, re.I|re.S)\n",
    "#        print \"ya\", hoursAndMins.group(1), type(hoursAndMins.group(1)), len(hoursAndMins.group(1))\n",
    "        hours = hoursAndMins.group(1)\n",
    "        mins = hoursAndMins.group(2)\n",
    "        timings = str(int(hours)*100 + int(mins))\n",
    "    else:\n",
    "        timings = str(int(startTime)*100)\n",
    "#    print \"yup\", timings\n",
    "    return timings"
   ]
  },
  {
   "cell_type": "code",
   "execution_count": 351,
   "metadata": {
    "collapsed": true
   },
   "outputs": [],
   "source": [
    "timingsList = [\"12 Noon to 11 PM (Tue-Thu, Sat-Sun), 1:30 PM to 11 PM (Fri), Mon Closed\",\n",
    "              \"12:30 PM to 3:30 PM, 7 PM to 11 PM\", \"12 Noon to 11 PM\", \"11 AM to 11:30 PM\", \"12:30 PM to 11 PM\",\n",
    "              \"12 Noon to 11 PM\",]"
   ]
  },
  {
   "cell_type": "code",
   "execution_count": 394,
   "metadata": {
    "collapsed": true
   },
   "outputs": [],
   "source": [
    "def timingsCalculate(eachTime):\n",
    "    timings = \"\"\n",
    "    print eachTime\n",
    "    startTime = re.search(\"\"\"(.*?)\\sto\"\"\",eachTime,re.I|re.S).group(1)\n",
    "    checkAMPM = startTime[-2:]\n",
    "    if(checkAMPM == \"AM\"):\n",
    "        startTime = re.search(\"\"\"(.*?)\\sAM\"\"\",startTime, re.I|re.S).group(1)\n",
    "        timings = hoursAndMinsCalculate(startTime) + \"-\"\n",
    "    elif(checkAMPM == \"PM\"):\n",
    "        startTime = re.search(\"\"\"(.*?)\\sPM\"\"\",startTime, re.I|re.S).group(1)\n",
    "        tom = hoursAndMinsCalculate(startTime) \n",
    "        if( \"12\" not in tom ):\n",
    "            timings = str(int(tom) + 1200) + \"-\"\n",
    "        else:\n",
    "            timings = tom + \"-\"\n",
    "    elif(checkAMPM == 'on'):\n",
    "        timings = \"1200-\"\n",
    "\n",
    "    endTime = re.search(\"\"\"to\\s(.*)\"\"\",eachTime,re.I|re.S).group(1)\n",
    "    checkAMPM = endTime[-2:]\n",
    "    if(checkAMPM == \"AM\"):\n",
    "        endTime = re.search(\"\"\"(.*?)\\sAM\"\"\",endTime, re.I|re.S).group(1)\n",
    "        timings = timings + str(int(hoursAndMinsCalculate(endTime)) + 2400)\n",
    "    elif(checkAMPM == \"PM\"):\n",
    "        endTime = re.search(\"\"\"(.*?)\\sPM\"\"\",endTime, re.I|re.S).group(1)\n",
    "        timings = timings + str(int(hoursAndMinsCalculate(endTime)) + 1200)\n",
    "\n",
    "    return timings"
   ]
  },
  {
   "cell_type": "code",
   "execution_count": 414,
   "metadata": {
    "collapsed": true
   },
   "outputs": [],
   "source": [
    "timingsList = [\"12:30 PM to 3:30 PM (Mon-Sat), Sun Closed \", \"12 Noon to 11 PM (Tue-Thu, Sat-Sun), 1:30 PM to 11 PM (Fri), Monday Closed\",\n",
    "              \"12:30 PM to 3:30 PM, 7 PM to 11 PM\"]"
   ]
  },
  {
   "cell_type": "code",
   "execution_count": 417,
   "metadata": {
    "collapsed": true
   },
   "outputs": [],
   "source": [
    "timingsList = [\"12:30 PM to 3:30 PM (Mon-Sat), Sun Closed \"]"
   ]
  },
  {
   "cell_type": "code",
   "execution_count": 415,
   "metadata": {
    "collapsed": true
   },
   "outputs": [],
   "source": [
    "def checkClosedDay(whichDay):\n",
    "    if((whichDay[-5:-3]) == \"on\"):\n",
    "        return 1\n",
    "    elif((whichDay[-6:-3]) == \"ues\"):\n",
    "        return 2\n",
    "    elif((whichDay[-6:-3]) == \"nes\"):\n",
    "        return 3\n",
    "    elif((whichDay[-6:-3]) == \"urs\"):\n",
    "        return 4\n",
    "    elif((whichDay[-5:-3]) == \"ri\"):\n",
    "        return 5\n",
    "    elif((whichDay[-5:-3]) == \"ur\"):\n",
    "        return 6\n",
    "    else:\n",
    "        return 7"
   ]
  },
  {
   "cell_type": "code",
   "execution_count": 418,
   "metadata": {
    "collapsed": false
   },
   "outputs": [
    {
     "name": "stdout",
     "output_type": "stream",
     "text": [
      "12:30 PM to 3:30 PM (Mon-Sat), Sun Closed \n",
      "12:30 PM to 3:30 PM\n",
      "12:30 PM to 3:30 PM (Mon-Sat), Sun\n",
      "Sun\n"
     ]
    }
   ],
   "source": [
    "for eachTime in timingsList : \n",
    "    #print eachTime\n",
    "    detectComma = re.findall(\"\"\"to\"\"\",eachTime,re.I|re.S) #more than one time present\n",
    "    numTimes = len(detectComma)\n",
    "    timings = \"\"\n",
    "    if(numTimes == 1):\n",
    "        timings = timingsCalculate(eachTime)\n",
    "    if((numTimes == 2) and (\"(\" not in eachTime)):\n",
    "        listOfTimings = eachTime.split(',')\n",
    "        timings = timingsCalculate(listOfTimings[0]) + '#'\n",
    "        timings = timings + timingsCalculate(listOfTimings[1])\n",
    "    \n",
    "    #mon - 1, tue - 2, wed - 3, thurs - 4, fri -5, sat - 6\n",
    "    if(\"Closed\" in eachTime):\n",
    "        \n",
    "        ti = re.search(\"\"\"(.*?)\\s\\(\"\"\",eachTime,re.I|re.S).group(1)\n",
    "        detectComma = re.findall(\"\"\"to\"\"\",ti,re.I|re.S) #more than one time present\n",
    "        numTimes = len(detectComma)\n",
    "        #11 AM to 11 PM (Mon-Sat), Sun Closed\n",
    "        if(numTimes == 1):\n",
    "            timings = timingsCalculate(ti)\n",
    "        if(numTimes == 2):\n",
    "            listOfTimings = ti.split(',')\n",
    "            timings = timingsCalculate(listOfTimings[0]) + '#'\n",
    "            timings = timings + timingsCalculate(listOfTimings[1])\n",
    "    \n",
    "        whichDay = re.search(\"\"\"(.*?)\\sClosed\"\"\", eachTime, re.I|re.S).group(1)\n",
    "        print whichDay\n",
    "        if(whichDay[-4] == \" \"):\n",
    "            if(whichDay[-6] == \")\"):\n",
    "                whichDayClosed = whichDay[-3:]\n",
    "                print whichDayClosed\n",
    "            else:\n",
    "                #multiples days closed\n",
    "                asd = re.search(\"\"\"\\\\),(.*?)\"\"\", whichDay, re.I|re.S).group(1)\n",
    "                print asd, \"asdsadasd\"\n",
    "        else:\n",
    "            print checkClosedDay(whichDay)"
   ]
  },
  {
   "cell_type": "code",
   "execution_count": 400,
   "metadata": {
    "collapsed": false
   },
   "outputs": [
    {
     "name": "stdout",
     "output_type": "stream",
     "text": [
      "12 Noon to 11 PM\n",
      "12 Noon to 11 PM (Tue-Thu, Sat-Sun), 1:30 PM to 11 PM (Fri), Monday Closed  is  1200-2300\n",
      "12:30 PM to 3:30 PM\n",
      " 7 PM to 11 PM\n",
      "12:30 PM to 3:30 PM, 7 PM to 11 PM  is  1230-1530#1900-2300\n"
     ]
    }
   ],
   "source": [
    "for eachTime in timingsList : \n",
    "    #print eachTime\n",
    "    detectComma = re.findall(\"\"\"to\"\"\",eachTime,re.I|re.S) #more than one time present\n",
    "    #print detectComma\n",
    "    numTimes = len(detectComma)\n",
    "    timings = \"\"\n",
    "    if(numTimes == 1):\n",
    "        timings = timingsCalculate(eachTime)\n",
    "    if((numTimes == 2) and (\"(\" not in eachTime)):\n",
    "        listOfTimings = eachTime.split(',')\n",
    "        timings = timingsCalculate(listOfTimings[0]) + '#'\n",
    "        timings = timings + timingsCalculate(listOfTimings[1])\n",
    "    \n",
    "    #mon - 1, tue - 2, wed - 3, thurs - 4, fri -5, sat - 6\n",
    "    if(\"Closed\" in eachTime):\n",
    "        \n",
    "        ti = re.search(\"\"\"(.*?)\\s\\(\"\"\",eachTime,re.I|re.S).group(1)\n",
    "        detectComma = re.findall(\"\"\"to\"\"\",ti,re.I|re.S) #more than one time present\n",
    "        numTimes = len(detectComma)\n",
    "        if(numTimes == 1):\n",
    "            timings = timingsCalculate(ti)\n",
    "        if(numTimes == 2):\n",
    "            listOfTimings = ti.split(',')\n",
    "            timings = timingsCalculate(listOfTimings[0]) + '#'\n",
    "            timings = timings + timingsCalculate(listOfTimings[1])\n",
    "    print eachTime, \" is \" , timings\n",
    "        #whichDay = re.search(\"\"\"(.*?)\\sClosed\"\"\", eachTime, re.I|re.S).group(1)\n",
    "        #print whichDay\n",
    "        #if(whichDay[-4] == \" \"):\n",
    "        #    if(whichDay[-6] == \")\"):\n",
    "        #        whichDayClosed = whichDay[-3:]\n",
    "        #        print whichDayClosed\n",
    "        #    else:\n",
    "        #        #multiples days closed\n",
    "        #        asd = re.search(\"\"\"\\\\),(.*?)\"\"\", whichDay, re.I|re.S).group(1)\n",
    "        #        print asd, \"asdsadasd\"\n",
    "        #else:\n",
    "        #    print checkClosedDay(whichDay)"
   ]
  },
  {
   "cell_type": "markdown",
   "metadata": {},
   "source": [
    "%%%%%%%%%%%%%%% Distance Between Two Places %%%%%%%%%%%%%%%"
   ]
  },
  {
   "cell_type": "code",
   "execution_count": 360,
   "metadata": {
    "collapsed": true
   },
   "outputs": [],
   "source": [
    "from math import radians, cos, sin, asin, sqrt\n",
    "\n",
    "def haversine(lon1, lat1, lon2, lat2):\n",
    "    \"\"\"\n",
    "    Calculate the great circle distance between two points \n",
    "    on the earth (specified in decimal degrees)\n",
    "    \"\"\"\n",
    "    # convert decimal degrees to radians \n",
    "    lon1, lat1, lon2, lat2 = map(radians, [lon1, lat1, lon2, lat2])\n",
    "\n",
    "    # haversine formula \n",
    "    dlon = lon2 - lon1 \n",
    "    dlat = lat2 - lat1 \n",
    "    a = sin(dlat/2)**2 + cos(lat1) * cos(lat2) * sin(dlon/2)**2\n",
    "    c = 2 * asin(sqrt(a)) \n",
    "    r = 6371 # Radius of earth in kilometers. Use 3956 for miles\n",
    "    return c * r"
   ]
  },
  {
   "cell_type": "code",
   "execution_count": null,
   "metadata": {
    "collapsed": true
   },
   "outputs": [],
   "source": [
    "#\"Adda - The Restaurant\"\n",
    "#medi"
   ]
  },
  {
   "cell_type": "code",
   "execution_count": 362,
   "metadata": {
    "collapsed": false
   },
   "outputs": [
    {
     "name": "stdout",
     "output_type": "stream",
     "text": [
      "8.08783120658\n"
     ]
    }
   ],
   "source": [
    "print haversine(77.6174, 12.9226, 77.56944, 12.97833)"
   ]
  },
  {
   "cell_type": "code",
   "execution_count": 413,
   "metadata": {
    "collapsed": false
   },
   "outputs": [
    {
     "name": "stderr",
     "output_type": "stream",
     "text": [
      "Exception KeyboardInterrupt in 'zmq.backend.cython.message.Frame.__dealloc__' ignored\n"
     ]
    },
    {
     "ename": "KeyboardInterrupt",
     "evalue": "",
     "output_type": "error",
     "traceback": [
      "\u001b[1;31m---------------------------------------------------------------------------\u001b[0m",
      "\u001b[1;31mKeyboardInterrupt\u001b[0m                         Traceback (most recent call last)",
      "\u001b[1;32mC:\\Anaconda2\\envs\\data-env\\lib\\site-packages\\IPython\\core\\interactiveshell.pyc\u001b[0m in \u001b[0;36muser_global_ns\u001b[1;34m(self)\u001b[0m\n\u001b[0;32m   1134\u001b[0m                          }\n\u001b[0;32m   1135\u001b[0m \u001b[1;33m\u001b[0m\u001b[0m\n\u001b[1;32m-> 1136\u001b[1;33m     \u001b[1;33m@\u001b[0m\u001b[0mproperty\u001b[0m\u001b[1;33m\u001b[0m\u001b[0m\n\u001b[0m\u001b[0;32m   1137\u001b[0m     \u001b[1;32mdef\u001b[0m \u001b[0muser_global_ns\u001b[0m\u001b[1;33m(\u001b[0m\u001b[0mself\u001b[0m\u001b[1;33m)\u001b[0m\u001b[1;33m:\u001b[0m\u001b[1;33m\u001b[0m\u001b[0m\n\u001b[0;32m   1138\u001b[0m         \u001b[1;32mreturn\u001b[0m \u001b[0mself\u001b[0m\u001b[1;33m.\u001b[0m\u001b[0muser_module\u001b[0m\u001b[1;33m.\u001b[0m\u001b[0m__dict__\u001b[0m\u001b[1;33m\u001b[0m\u001b[0m\n",
      "\u001b[1;31mKeyboardInterrupt\u001b[0m: "
     ]
    }
   ],
   "source": [
    "with open(\"final_data.json\",\"r\") as f:\n",
    "    data = json.load(f)\n",
    "\n",
    "d = {}\n",
    "i = 0\n",
    "for restaurant in data:\n",
    "    reviews = restaurant[\"userReviews\"]\n",
    "    dishes = restaurant[\"dishes\"]\n",
    "    i = i + 1\n",
    "    if((i==10) or (i==20) or (i==2) or (i==4)):\n",
    "        print i\n",
    "    if((i%200) == 0):\n",
    "        print i\n",
    "    for review in reviews:\n",
    "        userReview = review[\"reviewText\"]\n",
    "        dishForUser = {}\n",
    "        for dish in dishes.keys():\n",
    "            for eachDishReview in dish:\n",
    "                if(eachDishReview in userReview):\n",
    "                    try:\n",
    "                        d[review[\"user_id\"]][dish].append(eachDishReview)\n",
    "                    except:\n",
    "                        d[review[\"user_id\"]][dish]=[]\n",
    "                        d[review[\"user_id\"]][dish].append(eachDishReview)\n",
    "#import operator\n",
    "#sorted_x = sorted(d.items(), key=operator.itemgetter(1))\n",
    "#print sorted_x[-10000:-9990]\n",
    "#print sum(d.values())/len(d.keys())"
   ]
  },
  {
   "cell_type": "code",
   "execution_count": null,
   "metadata": {
    "collapsed": false
   },
   "outputs": [],
   "source": [
    "a = \"\"\n",
    "print a"
   ]
  },
  {
   "cell_type": "code",
   "execution_count": null,
   "metadata": {
    "collapsed": true
   },
   "outputs": [],
   "source": []
  }
 ],
 "metadata": {
  "kernelspec": {
   "display_name": "Python 2",
   "language": "python",
   "name": "python2"
  },
  "language_info": {
   "codemirror_mode": {
    "name": "ipython",
    "version": 2
   },
   "file_extension": ".py",
   "mimetype": "text/x-python",
   "name": "python",
   "nbconvert_exporter": "python",
   "pygments_lexer": "ipython2",
   "version": "2.7.10"
  }
 },
 "nbformat": 4,
 "nbformat_minor": 0
}
