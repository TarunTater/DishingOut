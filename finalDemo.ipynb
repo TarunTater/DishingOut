{
 "cells": [
  {
   "cell_type": "code",
   "execution_count": 1,
   "metadata": {
    "collapsed": true
   },
   "outputs": [],
   "source": [
    "import json\n",
    "import time\n",
    "import re\n",
    "from __future__ import division"
   ]
  },
  {
   "cell_type": "code",
   "execution_count": 20,
   "metadata": {
    "collapsed": false
   },
   "outputs": [
    {
     "name": "stdout",
     "output_type": "stream",
     "text": [
      "7730\n",
      "<type 'dict'>\n"
     ]
    }
   ],
   "source": [
    "listOfRestauranIds = []\n",
    "with open('restaurantMapping.json') as json_data:\n",
    "    loadingResJsons = json.load(json_data)\n",
    "print len(loadingResJsons)\n",
    "print type(loadingResJsons)"
   ]
  },
  {
   "cell_type": "code",
   "execution_count": 21,
   "metadata": {
    "collapsed": false
   },
   "outputs": [
    {
     "name": "stdout",
     "output_type": "stream",
     "text": [
      "64\n",
      "80621\n"
     ]
    }
   ],
   "source": [
    "with open('user_ratings.json') as userRating_data:\n",
    "    userRatingsJson = json.load(userRating_data)\n",
    "\n",
    "userId = \"1048504\"\n",
    "\n",
    "allReviewsForThisUser = userRatingsJson[userId]\n",
    "print len(allReviewsForThisUser)\n",
    "print len(userRatingsJson)"
   ]
  },
  {
   "cell_type": "code",
   "execution_count": 4,
   "metadata": {
    "collapsed": true
   },
   "outputs": [],
   "source": [
    "from math import radians, cos, sin, asin, sqrt\n",
    "\n",
    "def haversine(lon1, lat1, lon2, lat2):\n",
    "    \"\"\"\n",
    "    Calculate the great circle distance between two points \n",
    "    on the earth (specified in decimal degrees)\n",
    "    \"\"\"\n",
    "    # convert decimal degrees to radians \n",
    "    lon1, lat1, lon2, lat2 = map(radians, [lon1, lat1, lon2, lat2])\n",
    "\n",
    "    # haversine formula \n",
    "    dlon = lon2 - lon1 \n",
    "    dlat = lat2 - lat1 \n",
    "    a = sin(dlat/2)**2 + cos(lat1) * cos(lat2) * sin(dlon/2)**2\n",
    "    c = 2 * asin(sqrt(a)) \n",
    "    r = 6371 # Radius of earth in kilometers. Use 3956 for miles\n",
    "    return c * r"
   ]
  },
  {
   "cell_type": "code",
   "execution_count": 5,
   "metadata": {
    "collapsed": true
   },
   "outputs": [],
   "source": [
    "with open('dataJsonFinal.json') as res_data:\n",
    "    resJson = json.load(res_data)"
   ]
  },
  {
   "cell_type": "markdown",
   "metadata": {},
   "source": [
    "@#$ Code for Timings@#$"
   ]
  },
  {
   "cell_type": "code",
   "execution_count": 6,
   "metadata": {
    "collapsed": true
   },
   "outputs": [],
   "source": [
    "def hoursAndMinsCalculate(startTime):\n",
    "    if(':' in startTime):\n",
    "#        print startTime\n",
    "        hoursAndMins = re.search(\"\"\"(.*?):(.*)\"\"\",startTime, re.I|re.S)\n",
    "#        print \"ya\", hoursAndMins.group(1), type(hoursAndMins.group(1)), len(hoursAndMins.group(1))\n",
    "        hours = hoursAndMins.group(1)\n",
    "        mins = hoursAndMins.group(2)\n",
    "        timings = str(int(hours)*100 + int(mins))\n",
    "    else:\n",
    "        timings = str(int(startTime)*100)\n",
    "#    print \"yup\", timings\n",
    "    return timings"
   ]
  },
  {
   "cell_type": "code",
   "execution_count": 7,
   "metadata": {
    "collapsed": true
   },
   "outputs": [],
   "source": [
    "def timingsCalculate(eachTime):\n",
    "    timings = \"\"\n",
    "    startTime = re.search(\"\"\"(.*?)\\sto\"\"\",eachTime,re.I|re.S).group(1)\n",
    "    if(\"AM\" in startTime):\n",
    "        startTime = re.search(\"\"\"(.*?)\\sAM\"\"\",startTime, re.I|re.S).group(1)\n",
    "        timings = hoursAndMinsCalculate(startTime) + \"-\"\n",
    "    elif(\"PM\" in startTime):\n",
    "        startTime = re.search(\"\"\"(.*?)\\sPM\"\"\",startTime, re.I|re.S).group(1)\n",
    "        tom = hoursAndMinsCalculate(startTime) \n",
    "        if( \"12\" not in tom ):\n",
    "            timings = str(int(tom) + 1200) + \"-\"\n",
    "        else:\n",
    "            timings = tom + \"-\"\n",
    "    elif(\"on\" in startTime):\n",
    "        timings = \"1200-\"\n",
    "\n",
    "    endTime = re.search(\"\"\"to\\s(.*)\"\"\",eachTime,re.I|re.S).group(1)\n",
    "    if(\"AM\" in endTime):\n",
    "        endTime = re.search(\"\"\"(.*?)\\sAM\"\"\",endTime, re.I|re.S).group(1)\n",
    "        if (int(hoursAndMinsCalculate(endTime)) < 300):\n",
    "            timings = timings + str(int(hoursAndMinsCalculate(endTime)) + 2400)\n",
    "        else:\n",
    "            timings = timings + hoursAndMinsCalculate(endTime)\n",
    "    elif(\"PM\" in endTime):\n",
    "        endTime = re.search(\"\"\"(.*?)\\sPM\"\"\",endTime, re.I|re.S).group(1)\n",
    "        timings = timings + str(int(hoursAndMinsCalculate(endTime)) + 1200)\n",
    "\n",
    "    elif(\"on\" in endTime):\n",
    "        timings = timings + \"1200\"\n",
    "\n",
    "    return timings"
   ]
  },
  {
   "cell_type": "code",
   "execution_count": 8,
   "metadata": {
    "collapsed": true
   },
   "outputs": [],
   "source": [
    "def checkClosedDay(whichDay):\n",
    "    if(\"on\" in whichDay):\n",
    "        return 0\n",
    "    elif(\"ue\" in whichDay):\n",
    "        return 1\n",
    "    elif(\"ed\" in whichDay):\n",
    "        return 2\n",
    "    elif(\"hu\" in whichDay):\n",
    "        return 3\n",
    "    elif(\"ri\" in whichDay):\n",
    "        return 4\n",
    "    elif(\"at\" in whichDay):\n",
    "        return 5\n",
    "    else:\n",
    "        return 6"
   ]
  },
  {
   "cell_type": "code",
   "execution_count": 9,
   "metadata": {
    "collapsed": true
   },
   "outputs": [],
   "source": [
    "def setClosedDays(eachString):\n",
    "    ch = re.search(\"\"\"\\),(.*?)Closed\"\"\", eachString, re.I|re.S)\n",
    "    if(ch == None):\n",
    "        eachString = eachString.split('to')\n",
    "        ch = re.search(\"\"\"M,(.*?)Closed\"\"\", eachString[len(eachString)-1], re.I|re.S)\n",
    "\n",
    "    daysClosed = re.sub(\"\"\"\\s\"\"\", \"\", ch.group(1), re.I|re.S)\n",
    "    daysClosed = daysClosed.split(',')\n",
    "    listOfTime = [\"\",\"\",\"\",\"\",\"\",\"\",\"\"]\n",
    "    for eachTerm in daysClosed:\n",
    "        if('-' in eachTerm):\n",
    "            checkingDays = eachTerm.split('-')\n",
    "            num = checkClosedDay(checkingDays[0])\n",
    "            num1 = checkClosedDay(checkingDays[1])\n",
    "            if(num < num1):\n",
    "                while(num <= num1):\n",
    "                    listOfTime[num] = \"No\"\n",
    "                    num = num + 1\n",
    "            else:\n",
    "                while(num <= 6):\n",
    "                    listOfTime[num] = \"No\"\n",
    "                    num = num + 1\n",
    "                num = 0\n",
    "                while(num <= num1):\n",
    "                    listOfTime[num] = \"No\"\n",
    "                    num = num + 1\n",
    "\n",
    "        else:\n",
    "            num = checkClosedDay(eachTerm)\n",
    "            listOfTime[num] = \"No\"\n",
    "    return listOfTime"
   ]
  },
  {
   "cell_type": "code",
   "execution_count": 10,
   "metadata": {
    "collapsed": true
   },
   "outputs": [],
   "source": [
    "def setTime(eachTime): \n",
    "    listOfDaysTime = [\"\",\"\",\"\",\"\",\"\",\"\",\"\"]\n",
    "    timings = \"\"    \n",
    "    if(eachTime == \"24 Hours\"):\n",
    "        listOfDaysTime = [\"0-2400\",\"0-2400\",\"0-2400\",\"0-2400\",\"0-2400\",\"0-2400\",\"0-2400\"]\n",
    "        return listOfDaysTime\n",
    "    #mon - 0, tue - 1, wed - 2, thurs - 3, fri -4, sat - 5\n",
    "    if(\"Closed\" in eachTime):\n",
    "        listOfDaysTime = setClosedDays(eachTime)\n",
    "\n",
    "    s = re.search(\"\"\"(.*)\\),(.*?)Closed\"\"\", eachTime, re.I|re.S)\n",
    "    if(s != None):\n",
    "        s = s.group(1)\n",
    "        s = s + \")\"\n",
    "    else:\n",
    "        s = eachTime\n",
    "\n",
    "    s1 = re.findall(\"\"\"(.*?)\\)\"\"\", s, re.I|re.S)\n",
    "    if(len(s1) != 0):\n",
    "        for k in range(len(s1)):\n",
    "            if(s1[k][:2] == \", \"):\n",
    "                s1[k] = s1[k][2:]\n",
    "\n",
    "        for e in s1:\n",
    "            searchBracketTime = re.search(\"\"\"(.*?)\\(\"\"\", e, re.I|re.S).group(1)\n",
    "            searchBracketDays = re.search(\"\"\"\\((.*)\"\"\", e, re.I|re.S).group(1)\n",
    "            searchBracketDays = searchBracketDays.split(',')\n",
    "            detectComma = re.findall(\"\"\"to\"\"\",searchBracketTime,re.I|re.S) #more than one time present\n",
    "            numTimes = len(detectComma)\n",
    "            if(numTimes == 1):\n",
    "                timings = timingsCalculate(searchBracketTime)\n",
    "            if(numTimes > 1):\n",
    "                listOfTimings = searchBracketTime.split(',')\n",
    "                for p in range(len(listOfTimings)):\n",
    "                    if(listOfTimings[p][len(listOfTimings[p])-1] == ' '):\n",
    "                        listOfTimings[p] = listOfTimings[p][:len(listOfTimings[p])-1]\n",
    "\n",
    "                for m in range(len(listOfTimings)):\n",
    "                    timings = timings + timingsCalculate(listOfTimings[m]) + '#'\n",
    "\n",
    "            for eachTerm in searchBracketDays:\n",
    "                if('-' in eachTerm):\n",
    "                    checkingDays = eachTerm.split('-')\n",
    "                    num = checkClosedDay(checkingDays[0])\n",
    "                    num1 = checkClosedDay(checkingDays[1])\n",
    "                    if(num < num1):\n",
    "                        while(num <= num1):\n",
    "                            listOfDaysTime[num] = timings\n",
    "                            num = num + 1\n",
    "                    else:\n",
    "                        while(num <= 6):\n",
    "                            listOfDaysTime[num] = timings\n",
    "                            num = num + 1\n",
    "                        num = 0\n",
    "                        while(num <= num1):\n",
    "                            listOfDaysTime[num] = timings\n",
    "                            num = num + 1\n",
    "\n",
    "                else:\n",
    "                    num = checkClosedDay(eachTerm)\n",
    "                    listOfDaysTime[num] = timings            \n",
    "\n",
    "    else:\n",
    "        detectComma = re.findall(\"\"\"to\"\"\",eachTime,re.I|re.S) #more than one time present\n",
    "        numTimes = len(detectComma)\n",
    "        timings = \"\"\n",
    "        if(numTimes == 1):\n",
    "            timings = timingsCalculate(eachTime)\n",
    "        if(numTimes > 1):\n",
    "            listOfTimings = eachTime.split(',')\n",
    "            for m in range(len(listOfTimings)):\n",
    "                timings = timings + timingsCalculate(listOfTimings[m]) + '#'\n",
    "\n",
    "    for t in range(len(listOfDaysTime)):\n",
    "        if(listOfDaysTime[t] == \"\"):\n",
    "            listOfDaysTime[t] = timings\n",
    "\n",
    "                \n",
    "    return listOfDaysTime"
   ]
  },
  {
   "cell_type": "code",
   "execution_count": 11,
   "metadata": {
    "collapsed": true
   },
   "outputs": [],
   "source": [
    "def checkIfResOpen(currentDay, currentTime, resTimings):\n",
    "    w = setTime(resTimings)\n",
    "    if(currentDay == \"Monday\"):\n",
    "        timeCheck = w[0]\n",
    "    elif(currentDay == \"Tuesday\"):\n",
    "        timeCheck = w[1]\n",
    "    elif(currentDay == \"Wednesday\"):\n",
    "        timeCheck = w[2]\n",
    "    elif(currentDay == \"Thursday\"):\n",
    "        timeCheck = w[3]\n",
    "    elif(currentDay == \"Friday\"):\n",
    "        timeCheck = w[4]\n",
    "    elif(currentDay == \"Saturday\"):\n",
    "        timeCheck = w[5]\n",
    "    else:\n",
    "        timeCheck = w[6]\n",
    "    if(timeCheck == \"No\"):\n",
    "        return 0\n",
    "    else:\n",
    "        if(timeCheck[len(timeCheck)-1] == '#'):\n",
    "            timeCheck = timeCheck[:len(timeCheck)-1]\n",
    "        timeCheck = timeCheck.split('#')\n",
    "        if((\"pm\" in currentTime) or (\"PM\" in currentTime)):\n",
    "            currentTime = re.search(\"\"\"(.*?)\\sPM\"\"\",currentTime, re.I|re.S).group(1)\n",
    "            cTime = int(hoursAndMinsCalculate(currentTime)) + 1200\n",
    "        else:\n",
    "            currentTime = re.search(\"\"\"(.*?)\\sAM\"\"\",currentTime, re.I|re.S).group(1)\n",
    "            cTime = int(hoursAndMinsCalculate(currentTime))\n",
    "        for eachOpening in timeCheck:\n",
    "            eachOpen = eachOpening.split('-')\n",
    "            openTime = int(eachOpen[0])\n",
    "            endTime = int(eachOpen[1])\n",
    "            if(cTime >= openTime):\n",
    "                if(cTime <= endTime):\n",
    "                    return 1"
   ]
  },
  {
   "cell_type": "markdown",
   "metadata": {},
   "source": [
    "!@#Code For Timings!@#"
   ]
  },
  {
   "cell_type": "code",
   "execution_count": 12,
   "metadata": {
    "collapsed": true
   },
   "outputs": [],
   "source": [
    "def getPreferences(userId, numOfPref):\n",
    "    #userId = \"1048504\"\n",
    "    #Getting user preferences from dishes reviews \n",
    "    allReviewsForThisUser = userRatingsJson[userId]\n",
    "    print len(allReviewsForThisUser)\n",
    "    itemsLiked = []\n",
    "    totalReviewsWritten = 0\n",
    "    #print allReviewsForThisUser\n",
    "    for j in range(len(allReviewsForThisUser)):\n",
    "        totalReviewsWritten = totalReviewsWritten + allReviewsForThisUser[j][2]\n",
    "        if((allReviewsForThisUser[j][2] < 5) and (allReviewsForThisUser[j][2] >= 3)):\n",
    "            allReviewsForThisUser[j][1] = allReviewsForThisUser[j][1] + .01*(allReviewsForThisUser[j][2])\n",
    "        elif(allReviewsForThisUser[j][2] >= 5):\n",
    "            allReviewsForThisUser[j][1] = allReviewsForThisUser[j][1] + .02*(allReviewsForThisUser[j][2])\n",
    "    allReviewsForThisUser.sort(key=lambda x: x[1], reverse=True)\n",
    "    if(len(allReviewsForThisUser) > numOfPref): \n",
    "        return allReviewsForThisUser[:numOfPref] \n",
    "    else:\n",
    "        return allReviewsForThisUser "
   ]
  },
  {
   "cell_type": "code",
   "execution_count": 13,
   "metadata": {
    "collapsed": true
   },
   "outputs": [],
   "source": [
    "with open('final_data.json') as final_data:\n",
    "    finalData = json.load(final_data)\n",
    "dictOfDishes = {}\n",
    "for eachResData in finalData:\n",
    "    dictOfDishes[eachResData['resId']] = eachResData['dishes'].keys()\n",
    "del finalData"
   ]
  },
  {
   "cell_type": "code",
   "execution_count": 14,
   "metadata": {
    "collapsed": true
   },
   "outputs": [],
   "source": [
    "with open('dish_ratings.json') as dish_ratings:\n",
    "    dishRatings = json.load(dish_ratings)\n",
    "dictOfDishesRatings = {}\n",
    "for eachResRatingData in dishRatings:\n",
    "    dictOfDishesRatings[eachResRatingData['resId']] = eachResRatingData['dishRatings']['ChunksWithRatings']\n",
    "del dishRatings"
   ]
  },
  {
   "cell_type": "code",
   "execution_count": null,
   "metadata": {
    "collapsed": true
   },
   "outputs": [],
   "source": [
    "dishesIgnore = ['chutney', 'main course', 'starter', 'drink']"
   ]
  },
  {
   "cell_type": "code",
   "execution_count": 15,
   "metadata": {
    "collapsed": false
   },
   "outputs": [],
   "source": [
    "def recommend(userId, more, lat, lon):\n",
    "    #lat = 12.937037\n",
    "    #lon = 77.626488\n",
    "    currentDay = \"Monday\"\n",
    "    currentTime = \"3:30 pm\"\n",
    "    #userId = \"1048504\"\n",
    "    listOfFeasibleRestaurants = []\n",
    "    detailsOfFeasibleRestaurants = []\n",
    "    km4Restaurants = []\n",
    "    for eachRes in resJson:\n",
    "        resLatitude = float(eachRes['latitude'])\n",
    "        resLongitude = float(eachRes['longitude'])\n",
    "        resTimings = eachRes['timings']\n",
    "        distFromYourLocation = haversine(lon, lat, resLongitude, resLatitude)\n",
    "        try:\n",
    "            if(distFromYourLocation < 3):\n",
    "                if(resTimings != \"\"):\n",
    "                    if(checkIfResOpen(currentDay, currentTime, resTimings) == 1):\n",
    "                        detailsOfFeasibleRestaurants.append(eachRes)\n",
    "                        listOfFeasibleRestaurants.append(str(eachRes['id']))\n",
    "        except Exception,e:\n",
    "            #print eachRes['id']\n",
    "            #print repr(e)\n",
    "            continue\n",
    "    print len(listOfFeasibleRestaurants)\n",
    "    dishesPrefer = getPreferences(userId, 20)\n",
    "    dishesPreferred = [item[0] for item in dishesPrefer]\n",
    "    print dishesPreferred\n",
    "    suggestedRestaurantsWithCuisines = []#list of lists\n",
    "    #print dictOfDishes.keys()\n",
    "    listOfKeys = dictOfDishes.keys()\n",
    "    for restaurantId in listOfFeasibleRestaurants:\n",
    "        #print restaurantId\n",
    "        if(restaurantId in dictOfDishes.keys()):\n",
    "            availableDishes = dictOfDishes[restaurantId]\n",
    "            checkIfDish = []\n",
    "            for eachPreferredDish in dishesPreferred:\n",
    "                checkIfDish = []\n",
    "                if(eachPreferredDish in availableDishes):\n",
    "                    try:\n",
    "                        avgRatingForDish = dictOfDishesRatings[restaurantId][eachPreferredDish][-2]\n",
    "                        checkIfDish.append(restaurantId)\n",
    "                        checkIfDish.append(eachPreferredDish)\n",
    "                        checkIfDish.append(avgRatingForDish)\n",
    "                        suggestedRestaurantsWithCuisines.append(checkIfDish)\n",
    "                    except Exception,e:\n",
    "                        #print repr(e)\n",
    "                        continue\n",
    "    suggestedRestaurantsWithCuisines.sort(key=lambda x: x[2], reverse=True)\n",
    "    return suggestedRestaurantsWithCuisines[(num*10):((num*10)+10)]\n",
    "    "
   ]
  },
  {
   "cell_type": "code",
   "execution_count": 16,
   "metadata": {
    "collapsed": false
   },
   "outputs": [
    {
     "data": {
      "text/plain": [
       "u'Xtreme Sports Bar, Bannerghatta Road'"
      ]
     },
     "execution_count": 16,
     "metadata": {},
     "output_type": "execute_result"
    }
   ],
   "source": [
    "loadingResJsons['50416']"
   ]
  },
  {
   "cell_type": "code",
   "execution_count": 17,
   "metadata": {
    "collapsed": false
   },
   "outputs": [
    {
     "name": "stdout",
     "output_type": "stream",
     "text": [
      "73\n",
      "64\n",
      "[u'chicken', u'drink', u'rice', u'main course', u'potato', u'tea', u'chutney', u'spaghetti', u'mutton', u'kebab', u'cake', u'vada', u'vada pav', u'desert', u'sambar', u'chip', u'pizzas', u'dal makhani', u'chicken biryani', u'tikka']\n",
      "\n",
      "\n",
      "Recommended Places to eat : \n",
      "Place name :  Kabab Mehal, JP Nagar  \t dish : cake\n",
      "Place name :  Fine Flavors, Kanakapura Road  \t dish : potato\n",
      "Place name :  Fine Flavors, Kanakapura Road  \t dish : desert\n",
      "Place name :  Juicy Momos, JP Nagar  \t dish : drink\n",
      "Place name :  Cafe Hops, JP Nagar  \t dish : cake\n",
      "Place name :  Gowdara Mudde Mane, Kanakapura Road  \t dish : mutton\n",
      "Place name :  Kabab Mehal, JP Nagar  \t dish : drink\n",
      "Place name :  Goli Vada Pav No. 1, JP Nagar  \t dish : rice\n",
      "Place name :  Rolls On Wheels, JP Nagar  \t dish : rice\n",
      "Place name :  Rolls On Wheels, JP Nagar  \t dish : tikka\n"
     ]
    }
   ],
   "source": [
    "#lat = 12.961009 #domlur\n",
    "#lon = 77.637938\n",
    "#lat = 12.952240 #marathalli\n",
    "#lon = 77.700233\n",
    "\n",
    "#lat = 12.937037 #Sony world signal\n",
    "#lon = 77.626488\n",
    "lat = 12.876535\n",
    "lon = 77.566612\n",
    "#userId - 1048504, 6508651 , 1313770 - cake, 15781419 - rice, 7639661, 30629221, 1570304 - pizza, 413925\n",
    "num = 0\n",
    "suggestedPlaces = recommend(\"1048504\", num, lat, lon)\n",
    "#print suggestedPlaces\n",
    "print \"\\n\"\n",
    "print \"Recommended Places to eat : \"\n",
    "for eachPlace in suggestedPlaces:\n",
    "    restaurantName = loadingResJsons[eachPlace[0]]\n",
    "    dishName = eachPlace[1]\n",
    "    print \"Place name : \", restaurantName, \" \\t dish :\", dishName"
   ]
  },
  {
   "cell_type": "code",
   "execution_count": 18,
   "metadata": {
    "collapsed": false
   },
   "outputs": [
    {
     "name": "stdout",
     "output_type": "stream",
     "text": [
      "413925\n"
     ]
    }
   ],
   "source": [
    "print userRatingsJson.keys()[60]"
   ]
  },
  {
   "cell_type": "code",
   "execution_count": 19,
   "metadata": {
    "collapsed": false
   },
   "outputs": [
    {
     "name": "stdout",
     "output_type": "stream",
     "text": [
      "{u'hasWifi': 0, u'name': u'Spicy North', u'hasBar': 0, u'hasDelivery': 1, u'isPureVeg': 1, u'longitude': u'77.5967761874', u'hasAC': 0, u'acceptsCreditCards': 1, u'smoking_area_flag': 2, u'takeaway_flag': 0, u'timings': u'12 Noon to 4 PM, 6:30 PM to 10:30 PM', u'cuisines': u'North Indian, Chinese', u'latitude': u'12.9165912603', u'buffet_details': u'', u'avgCostForTwo': 300, u'id': 50000, u'hasDineIn': 1, u'hasLiveMusic': 2}\n"
     ]
    }
   ],
   "source": [
    "print resJson[1]"
   ]
  },
  {
   "cell_type": "code",
   "execution_count": null,
   "metadata": {
    "collapsed": true
   },
   "outputs": [],
   "source": []
  }
 ],
 "metadata": {
  "kernelspec": {
   "display_name": "Python 2",
   "language": "python",
   "name": "python2"
  },
  "language_info": {
   "codemirror_mode": {
    "name": "ipython",
    "version": 2
   },
   "file_extension": ".py",
   "mimetype": "text/x-python",
   "name": "python",
   "nbconvert_exporter": "python",
   "pygments_lexer": "ipython2",
   "version": "2.7.10"
  }
 },
 "nbformat": 4,
 "nbformat_minor": 0
}
