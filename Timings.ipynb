{
 "cells": [
  {
   "cell_type": "code",
   "execution_count": 1,
   "metadata": {
    "collapsed": false
   },
   "outputs": [
    {
     "name": "stderr",
     "output_type": "stream",
     "text": [
      "A newer version of GraphLab Create (v1.9) is available! Your current version is v1.7.1.\n",
      "\n",
      "You can use pip to upgrade the graphlab-create package. For more information see https://dato.com/products/create/upgrade.\n"
     ]
    }
   ],
   "source": [
    "import graphlab as gl\n",
    "import time\n",
    "import json\n",
    "import re"
   ]
  },
  {
   "cell_type": "code",
   "execution_count": 45,
   "metadata": {
    "collapsed": true
   },
   "outputs": [],
   "source": [
    "timingsList = [\"12:30 PM to 3:30 PM, 7 PM to 11 PM\", \"11 AM to 11 PM\", \"10:30 AM to 11 PM\", \"12 Noon to 11 PM (Mon-Thu), 12 Noon to 1 AM (Fri-Sun)\",\n",
    "              \"9 AM to 11 PM\", \"12:30 PM to 3:30 PM, Tue-Thu, Sunday Closed\", \"11 AM to 11:30 PM\", \"12:30 PM to 11 PM\", \"12 Noon to 3 PM, 7 PM to 10:15 PM\",\n",
    "              \"12 Noon to 11 PM (Tue-Thu, Sat-Sun), 1:30 PM to 11 PM (Fri), Mon Closed\",\n",
    "                \"9 AM to 11 PM, 12 Noon to 11 PM (Tue-Wed, Thurs-Fri), 1:30 PM to 11 PM (Sat), Sun-Mon Closed\",\n",
    "              \"9 AM to 11 PM, 12 Noon to 11 PM (Tue-Wed, Thurs-Fri), 1:30 PM to 11 PM (Sat), Sunday, Mon Closed\"]"
   ]
  },
  {
   "cell_type": "code",
   "execution_count": 32,
   "metadata": {
    "collapsed": true
   },
   "outputs": [],
   "source": [
    "def hoursAndMinsCalculate(startTime):\n",
    "    if(':' in startTime):\n",
    "#        print startTime\n",
    "        hoursAndMins = re.search(\"\"\"(.*?):(.*)\"\"\",startTime, re.I|re.S)\n",
    "#        print \"ya\", hoursAndMins.group(1), type(hoursAndMins.group(1)), len(hoursAndMins.group(1))\n",
    "        hours = hoursAndMins.group(1)\n",
    "        mins = hoursAndMins.group(2)\n",
    "        timings = str(int(hours)*100 + int(mins))\n",
    "    else:\n",
    "        timings = str(int(startTime)*100)\n",
    "#    print \"yup\", timings\n",
    "    return timings"
   ]
  },
  {
   "cell_type": "code",
   "execution_count": 41,
   "metadata": {
    "collapsed": true
   },
   "outputs": [],
   "source": [
    "def timingsCalculate(eachTime):\n",
    "    timings = \"\"\n",
    "    startTime = re.search(\"\"\"(.*?)\\sto\"\"\",eachTime,re.I|re.S).group(1)\n",
    "    if(\"AM\" in startTime):\n",
    "        startTime = re.search(\"\"\"(.*?)\\sAM\"\"\",startTime, re.I|re.S).group(1)\n",
    "        timings = hoursAndMinsCalculate(startTime) + \"-\"\n",
    "    elif(\"PM\" in startTime):\n",
    "        startTime = re.search(\"\"\"(.*?)\\sPM\"\"\",startTime, re.I|re.S).group(1)\n",
    "        tom = hoursAndMinsCalculate(startTime) \n",
    "        if( \"12\" not in tom ):\n",
    "            timings = str(int(tom) + 1200) + \"-\"\n",
    "        else:\n",
    "            timings = tom + \"-\"\n",
    "    elif(\"on\" in startTime):\n",
    "        timings = \"1200-\"\n",
    "\n",
    "    endTime = re.search(\"\"\"to\\s(.*)\"\"\",eachTime,re.I|re.S).group(1)\n",
    "    if(\"AM\" in endTime):\n",
    "        endTime = re.search(\"\"\"(.*?)\\sAM\"\"\",endTime, re.I|re.S).group(1)\n",
    "        if (int(hoursAndMinsCalculate(endTime)) < 300):\n",
    "            timings = timings + str(int(hoursAndMinsCalculate(endTime)) + 2400)\n",
    "        else:\n",
    "            timings = timings + hoursAndMinsCalculate(endTime)\n",
    "    elif(\"PM\" in endTime):\n",
    "        endTime = re.search(\"\"\"(.*?)\\sPM\"\"\",endTime, re.I|re.S).group(1)\n",
    "        timings = timings + str(int(hoursAndMinsCalculate(endTime)) + 1200)\n",
    "\n",
    "    elif(\"on\" in endTime):\n",
    "        timings = timings + \"1200\"\n",
    "\n",
    "    return timings"
   ]
  },
  {
   "cell_type": "code",
   "execution_count": 34,
   "metadata": {
    "collapsed": true
   },
   "outputs": [],
   "source": [
    "#Monday, Tuesday, Wednesday, Thursday, Friday, Saturday, Sunday\n",
    "def checkClosedDay(whichDay):\n",
    "    if(\"on\" in whichDay):\n",
    "        return 0\n",
    "    elif(\"ue\" in whichDay):\n",
    "        return 1\n",
    "    elif(\"ed\" in whichDay):\n",
    "        return 2\n",
    "    elif(\"hu\" in whichDay):\n",
    "        return 3\n",
    "    elif(\"ri\" in whichDay):\n",
    "        return 4\n",
    "    elif(\"at\" in whichDay):\n",
    "        return 5\n",
    "    else:\n",
    "        return 6"
   ]
  },
  {
   "cell_type": "code",
   "execution_count": 29,
   "metadata": {
    "collapsed": true
   },
   "outputs": [],
   "source": [
    "#last occurence of the character ')' everything after this would be the days for which the restaurant is closed.\n",
    "def setClosedDays(eachString):\n",
    "    ch = re.search(\"\"\"\\),(.*?)Closed\"\"\", eachString, re.I|re.S)\n",
    "    if(ch == None):\n",
    "        eachString = eachString.split('to')\n",
    "        ch = re.search(\"\"\"M,(.*?)Closed\"\"\", eachString[len(eachString)-1], re.I|re.S)\n",
    "\n",
    "    daysClosed = re.sub(\"\"\"\\s\"\"\", \"\", ch.group(1), re.I|re.S)\n",
    "    daysClosed = daysClosed.split(',')\n",
    "    listOfTime = [\"\",\"\",\"\",\"\",\"\",\"\",\"\"]\n",
    "    for eachTerm in daysClosed:\n",
    "        if('-' in eachTerm):\n",
    "            checkingDays = eachTerm.split('-')\n",
    "            num = checkClosedDay(checkingDays[0])\n",
    "            num1 = checkClosedDay(checkingDays[1])\n",
    "            if(num < num1):\n",
    "                while(num <= num1):\n",
    "                    listOfTime[num] = \"No\"\n",
    "                    num = num + 1\n",
    "            else:\n",
    "                while(num <= 6):\n",
    "                    listOfTime[num] = \"No\"\n",
    "                    num = num + 1\n",
    "                num = 0\n",
    "                while(num <= num1):\n",
    "                    listOfTime[num] = \"No\"\n",
    "                    num = num + 1\n",
    "\n",
    "        else:\n",
    "            num = checkClosedDay(eachTerm)\n",
    "            listOfTime[num] = \"No\"\n",
    "    return listOfTime"
   ]
  },
  {
   "cell_type": "code",
   "execution_count": 46,
   "metadata": {
    "collapsed": false
   },
   "outputs": [
    {
     "name": "stdout",
     "output_type": "stream",
     "text": [
      "12:30 PM to 3:30 PM, 7 PM to 11 PM\n",
      "['1230-1530#1900-2300#', '1230-1530#1900-2300#', '1230-1530#1900-2300#', '1230-1530#1900-2300#', '1230-1530#1900-2300#', '1230-1530#1900-2300#', '1230-1530#1900-2300#']\n",
      "11 AM to 11 PM\n",
      "['1100-2300', '1100-2300', '1100-2300', '1100-2300', '1100-2300', '1100-2300', '1100-2300']\n",
      "10:30 AM to 11 PM\n",
      "['1030-2300', '1030-2300', '1030-2300', '1030-2300', '1030-2300', '1030-2300', '1030-2300']\n",
      "12 Noon to 11 PM (Mon-Thu), 12 Noon to 1 AM (Fri-Sun)\n",
      "['1200-2300', '1200-2300', '1200-2300', '1200-2300', '1200-2500', '1200-2500', '1200-2500']\n",
      "9 AM to 11 PM\n",
      "['900-2300', '900-2300', '900-2300', '900-2300', '900-2300', '900-2300', '900-2300']\n",
      "12:30 PM to 3:30 PM, Tue-Thu, Sunday Closed\n",
      "12:30 PM to 3:30 PM, Tue-Thu, Sunday Closed\n",
      "['1230-1530', 'No', 'No', 'No', '1230-1530', '1230-1530', 'No']\n",
      "11 AM to 11:30 PM\n",
      "['1100-2330', '1100-2330', '1100-2330', '1100-2330', '1100-2330', '1100-2330', '1100-2330']\n",
      "12:30 PM to 11 PM\n",
      "['1230-2300', '1230-2300', '1230-2300', '1230-2300', '1230-2300', '1230-2300', '1230-2300']\n",
      "12 Noon to 3 PM, 7 PM to 10:15 PM\n",
      "['1200-1500#1900-2215#', '1200-1500#1900-2215#', '1200-1500#1900-2215#', '1200-1500#1900-2215#', '1200-1500#1900-2215#', '1200-1500#1900-2215#', '1200-1500#1900-2215#']\n",
      "12 Noon to 11 PM (Tue-Thu, Sat-Sun), 1:30 PM to 11 PM (Fri), Mon Closed\n",
      "12 Noon to 11 PM (Tue-Thu, Sat-Sun), 1:30 PM to 11 PM (Fri), Mon Closed\n",
      "['No', '1200-2300', '1200-2300', '1200-2300', '1330-2300', '1200-2300', '1200-2300']\n",
      "9 AM to 11 PM, 12 Noon to 11 PM (Tue-Wed, Thurs-Fri), 1:30 PM to 11 PM (Sat), Sun-Mon Closed\n",
      "9 AM to 11 PM, 12 Noon to 11 PM (Tue-Wed, Thurs-Fri), 1:30 PM to 11 PM (Sat), Sun-Mon Closed\n",
      "['No', '900-2300#1200-2300#', '900-2300#1200-2300#', '900-2300#1200-2300#', '900-2300#1200-2300#', '1330-2300', 'No']\n",
      "9 AM to 11 PM, 12 Noon to 11 PM (Tue-Wed, Thurs-Fri), 1:30 PM to 11 PM (Sat), Sunday, Mon Closed\n",
      "9 AM to 11 PM, 12 Noon to 11 PM (Tue-Wed, Thurs-Fri), 1:30 PM to 11 PM (Sat), Sunday, Mon Closed\n",
      "['No', '900-2300#1200-2300#', '900-2300#1200-2300#', '900-2300#1200-2300#', '900-2300#1200-2300#', '1330-2300', 'No']\n"
     ]
    }
   ],
   "source": [
    "#timingsList = [\"12:30 PM to 3 PM (Friday), Monday Closed\"]\n",
    "for eachTime in timingsList: \n",
    "    print eachTime\n",
    "    listOfDaysTime = [\"\",\"\",\"\",\"\",\"\",\"\",\"\"]\n",
    "    timings = \"\"    \n",
    "    #mon - 0, tue - 1, wed - 2, thurs - 3, fri -4, sat - 5\n",
    "    if(\"Closed\" in eachTime):\n",
    "        listOfDaysTime = setClosedDays(eachTime)\n",
    "\n",
    "    s = re.search(\"\"\"(.*)\\),(.*?)Closed\"\"\", eachTime, re.I|re.S)\n",
    "    if(s != None):\n",
    "        s = s.group(1)\n",
    "        s = s + \")\"\n",
    "    else:\n",
    "        s = eachTime\n",
    "\n",
    "    s1 = re.findall(\"\"\"(.*?)\\)\"\"\", s, re.I|re.S)\n",
    "    if(len(s1) != 0):\n",
    "        for k in range(len(s1)):\n",
    "            if(s1[k][:2] == \", \"):\n",
    "                s1[k] = s1[k][2:]\n",
    "\n",
    "        for e in s1:\n",
    "            searchBracketTime = re.search(\"\"\"(.*?)\\(\"\"\", e, re.I|re.S).group(1)\n",
    "            searchBracketDays = re.search(\"\"\"\\((.*)\"\"\", e, re.I|re.S).group(1)\n",
    "            searchBracketDays = searchBracketDays.split(',')\n",
    "            detectComma = re.findall(\"\"\"to\"\"\",searchBracketTime,re.I|re.S) #more than one time present\n",
    "            numTimes = len(detectComma)\n",
    "            if(numTimes == 1):\n",
    "                timings = timingsCalculate(searchBracketTime)\n",
    "            if(numTimes > 1):\n",
    "                listOfTimings = searchBracketTime.split(',')\n",
    "                for p in range(len(listOfTimings)):\n",
    "                    if(listOfTimings[p][len(listOfTimings[p])-1] == ' '):\n",
    "                        listOfTimings[p] = listOfTimings[p][:len(listOfTimings[p])-1]\n",
    "\n",
    "                for m in range(len(listOfTimings)):\n",
    "                    timings = timings + timingsCalculate(listOfTimings[m]) + '#'\n",
    "\n",
    "            for eachTerm in searchBracketDays:\n",
    "                if('-' in eachTerm):\n",
    "                    checkingDays = eachTerm.split('-')\n",
    "                    num = checkClosedDay(checkingDays[0])\n",
    "                    num1 = checkClosedDay(checkingDays[1])\n",
    "                    if(num < num1):\n",
    "                        while(num <= num1):\n",
    "                            listOfDaysTime[num] = timings\n",
    "                            num = num + 1\n",
    "                    else:\n",
    "                        while(num <= 6):\n",
    "                            listOfDaysTime[num] = timings\n",
    "                            num = num + 1\n",
    "                        num = 0\n",
    "                        while(num <= num1):\n",
    "                            listOfDaysTime[num] = timings\n",
    "                            num = num + 1\n",
    "\n",
    "                else:\n",
    "                    num = checkClosedDay(eachTerm)\n",
    "                    listOfDaysTime[num] = timings            \n",
    "\n",
    "    else:\n",
    "        detectComma = re.findall(\"\"\"to\"\"\",eachTime,re.I|re.S) #more than one time present\n",
    "        numTimes = len(detectComma)\n",
    "        timings = \"\"\n",
    "        if(numTimes == 1):\n",
    "            timings = timingsCalculate(eachTime)\n",
    "        if(numTimes > 1):\n",
    "            listOfTimings = eachTime.split(',')\n",
    "            for m in range(len(listOfTimings)):\n",
    "                timings = timings + timingsCalculate(listOfTimings[m]) + '#'\n",
    "\n",
    "    for t in range(len(listOfDaysTime)):\n",
    "        if(listOfDaysTime[t] == \"\"):\n",
    "            listOfDaysTime[t] = timings\n",
    "\n",
    "                \n",
    "    print listOfDaysTime"
   ]
  },
  {
   "cell_type": "code",
   "execution_count": 26,
   "metadata": {
    "collapsed": false
   },
   "outputs": [
    {
     "name": "stdout",
     "output_type": "stream",
     "text": [
      "9 AM to 11 PM, 12:30 PM to 3:30 PM \n",
      "Tue-Thu, Sat-Sun\n",
      "12:30 PM to 3 PM \n",
      "Friday\n"
     ]
    }
   ],
   "source": [
    "ss = \"9 AM to 11 PM, 12:30 PM to 3:30 PM (Tue-Thu, Sat-Sun), 12:30 PM to 3 PM (Friday), Monday Closed\"\n",
    "s = re.search(\"\"\"(.*)\\),(.*?)Closed\"\"\", ss, re.I|re.S).group(1)\n",
    "s = s + \")\"\n",
    "#print s\n",
    "s1 = re.findall(\"\"\"(.*?)\\)\"\"\", s, re.I|re.S)\n",
    "for k in range(len(s1)):\n",
    "    if(s1[k][:2] == \", \"):\n",
    "        s1[k] = s1[k][2:]\n",
    "    #s1[k] = s1[k] + \")\"\n",
    "for e in s1:\n",
    "    searchBracketTime = re.search(\"\"\"(.*?)\\(\"\"\", e, re.I|re.S).group(1)\n",
    "    searchBracketDays = re.search(\"\"\"\\((.*)\"\"\", e, re.I|re.S).group(1)\n",
    "    searchBracketDays = searchBracketDays.split(',')\n",
    "    listOfTime1 = [\"\",\"\",\"\",\"\",\"\",\"\",\"\"]\n",
    "    for eachTerm in searchBracketDays:\n",
    "        if('-' in eachTerm):\n",
    "            checkingDays = eachTerm.split('-')\n",
    "            num = checkClosedDay(checkingDays[0])\n",
    "            num1 = checkClosedDay(checkingDays[1])\n",
    "            if(num < num1):\n",
    "                while(num <= num1):\n",
    "                    listOfTime1[num] = \"No\"\n",
    "                    num = num + 1\n",
    "            else:\n",
    "                while(num <= 6):\n",
    "                    listOfTime1[num] = \"No\"\n",
    "                    num = num + 1\n",
    "                num = 0\n",
    "                while(num <= num1):\n",
    "                    listOfTime1[num] = \"No\"\n",
    "                    num = num + 1\n",
    "\n",
    "        else:\n",
    "            num = checkClosedDay(eachTerm)\n",
    "            listOfTime1[num] = \"No\"\n",
    "    return listOfTime1"
   ]
  },
  {
   "cell_type": "code",
   "execution_count": null,
   "metadata": {
    "collapsed": true
   },
   "outputs": [],
   "source": [
    "#CheckPoint - old code !!! \n",
    "for eachTime in timingsList2 : \n",
    "    #print eachTime\n",
    "    detectComma = re.findall(\"\"\"to\"\"\",eachTime,re.I|re.S) #more than one time present\n",
    "    numTimes = len(detectComma)\n",
    "    timings = \"\"\n",
    "    #should closed be checked here!\n",
    "    if(numTimes == 1):\n",
    "        timings = timingsCalculate(eachTime)\n",
    "    if((numTimes == 2) and (\"(\" not in eachTime)):\n",
    "        listOfTimings = eachTime.split(',')\n",
    "        timings = timingsCalculate(listOfTimings[0]) + '#'\n",
    "        timings = timings + timingsCalculate(listOfTimings[1])\n",
    "    \n",
    "    if((numTimes == 3) and (\"(\" not in eachTime)):\n",
    "        listOfTimings = eachTime.split(',')\n",
    "        timings = timingsCalculate(listOfTimings[0]) + '#'\n",
    "        timings = timings + timingsCalculate(listOfTimings[1]) + '#'\n",
    "        timings = timings + timingsCalculate(listOfTimings[2]) \n",
    "    \n",
    "    #mon - 0, tue - 1, wed - 2, thurs - 3, fri -4, sat - 5\n",
    "    if(\"Closed\" in eachTime):\n",
    "        \n",
    "        ti = re.search(\"\"\"(.*?)\\s\\(\"\"\",eachTime,re.I|re.S).group(1)\n",
    "        detectComma = re.findall(\"\"\"to\"\"\",ti,re.I|re.S) #more than one time present\n",
    "        numTimes = len(detectComma)\n",
    "        #11 AM to 11 PM (Mon-Sat), Sun Closed\n",
    "        if(numTimes == 1):\n",
    "            timings = timingsCalculate(ti)\n",
    "        if(numTimes == 2):\n",
    "            listOfTimings = ti.split(',')\n",
    "            timings = timingsCalculate(listOfTimings[0]) + '#'\n",
    "            timings = timings + timingsCalculate(listOfTimings[1])\n",
    "    \n",
    "        whichDay = re.search(\"\"\"(.*?)\\sClosed\"\"\", eachTime, re.I|re.S).group(1)\n",
    "        print \"i am here\", whichDay\n",
    "        #12:30 PM to 3:30 PM (Mon-Sat), Sun Closed \n",
    "        if(whichDay[-4] == \" \"):#if abbreviations are used! What about Thursday check for Mon,Tue,Wed,Thurs,Fri,Sat,Sun\n",
    "            if(whichDay[-6] == \")\"):\n",
    "                whichDayClosed = checkClosedDay(whichDay)\n",
    "                print whichDayClosed\n",
    "            else:\n",
    "                #multiples days closed\n",
    "                asd = re.search(\"\"\"\\\\),(.*?)\"\"\", whichDay, re.I|re.S).group(1)\n",
    "                print asd, \"asdsadasd\"\n",
    "        else:#\n",
    "            print checkClosedDay(whichDay)"
   ]
  },
  {
   "cell_type": "code",
   "execution_count": 28,
   "metadata": {
    "collapsed": false
   },
   "outputs": [
    {
     "name": "stdout",
     "output_type": "stream",
     "text": [
      "yes  Tue-Thu, Sunday \n"
     ]
    }
   ],
   "source": [
    "a = \"12:30 PM to 3:30 PM, Tue-Thu, Sunday Closed\"\n",
    "a = a.split('to')\n",
    "s = re.search(\"\"\"M,(.*?)Closed\"\"\", a[len(a)-1], re.I|re.S)\n",
    "if(s != None):\n",
    "    print \"yes\", s.group(1)"
   ]
  },
  {
   "cell_type": "code",
   "execution_count": null,
   "metadata": {
    "collapsed": true
   },
   "outputs": [],
   "source": [
    "#for days name when fullNames are given! The starting letter's case does not matter since not checking for that!\n",
    "def checkClosedDay1(whichDay):\n",
    "    if((whichDay[-5:-3]) == \"on\"):\n",
    "        return 1\n",
    "    elif((whichDay[-6:-3]) == \"ues\"):\n",
    "        return 2\n",
    "    elif((whichDay[-6:-3]) == \"nes\"):\n",
    "        return 3\n",
    "    elif((whichDay[-6:-3]) == \"urs\"):\n",
    "        return 4\n",
    "    elif((whichDay[-5:-3]) == \"ri\"):\n",
    "        return 5\n",
    "    elif((whichDay[-5:-3]) == \"ur\"):\n",
    "        return 6\n",
    "    else:\n",
    "        return 7"
   ]
  }
 ],
 "metadata": {
  "kernelspec": {
   "display_name": "Python 2",
   "language": "python",
   "name": "python2"
  },
  "language_info": {
   "codemirror_mode": {
    "name": "ipython",
    "version": 2
   },
   "file_extension": ".py",
   "mimetype": "text/x-python",
   "name": "python",
   "nbconvert_exporter": "python",
   "pygments_lexer": "ipython2",
   "version": "2.7.10"
  }
 },
 "nbformat": 4,
 "nbformat_minor": 0
}
